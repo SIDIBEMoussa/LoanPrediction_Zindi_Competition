{
  "cells": [
    {
      "cell_type": "markdown",
      "metadata": {
        "id": "view-in-github",
        "colab_type": "text"
      },
      "source": [
        "<a href=\"https://colab.research.google.com/github/SIDIBEMoussa/LoanPrediction_Zindi_Competition/blob/main/Meilleur_Starter_Notebook.ipynb\" target=\"_parent\"><img src=\"https://colab.research.google.com/assets/colab-badge.svg\" alt=\"Open In Colab\"/></a>"
      ]
    },
    {
      "cell_type": "markdown",
      "metadata": {
        "id": "d5GHuQ1ptcB1"
      },
      "source": [
        "# Africa Credit Challenge\n",
        "\n",
        "The goals of this `starter notebook` are:\n",
        "\n",
        "1. How to load data into a `Pandas` dataframe\n",
        "\n",
        "2. How to `train` a basic machine learning model\n",
        "\n",
        "3. How to `evaluate` the model\n",
        "\n",
        "4. How to `save` your __submission__ following the required format.\n",
        "\n",
        "<font color=\"red\"><b>Note: This is just a starter notebook. It is by no means an ideal solution.</b></font>"
      ]
    },
    {
      "cell_type": "code",
      "source": [],
      "metadata": {
        "id": "IlYcu4U6QdtV"
      },
      "execution_count": null,
      "outputs": []
    },
    {
      "cell_type": "code",
      "source": [
        "from google.colab import drive\n",
        "drive.mount('/content/drive')"
      ],
      "metadata": {
        "colab": {
          "base_uri": "https://localhost:8080/"
        },
        "id": "yEGP3FqvQebG",
        "outputId": "2b289c32-a582-46f7-db70-0b40910280be"
      },
      "execution_count": null,
      "outputs": [
        {
          "output_type": "stream",
          "name": "stdout",
          "text": [
            "Drive already mounted at /content/drive; to attempt to forcibly remount, call drive.mount(\"/content/drive\", force_remount=True).\n"
          ]
        }
      ]
    },
    {
      "cell_type": "code",
      "source": [
        "import os\n",
        "\n",
        "os.chdir(\"/content/drive/MyDrive/Data_Zindi_Loan/\")"
      ],
      "metadata": {
        "id": "mAdV0nNLRaD6"
      },
      "execution_count": null,
      "outputs": []
    },
    {
      "cell_type": "code",
      "execution_count": null,
      "metadata": {
        "id": "rn5lSuA7pZNS"
      },
      "outputs": [],
      "source": [
        "# Import libraries\n",
        "import pandas as pd\n",
        "import numpy as np\n",
        "import matplotlib.pyplot as plt\n",
        "import seaborn as sns\n",
        "from sklearn.preprocessing import StandardScaler, LabelEncoder\n",
        "from sklearn.linear_model import LogisticRegression\n",
        "from sklearn.metrics import classification_report, confusion_matrix\n",
        "from sklearn.metrics import ConfusionMatrixDisplay\n",
        "from sklearn.metrics import f1_score, roc_auc_score\n",
        "from sklearn.compose import ColumnTransformer\n",
        "#from sklearn.preprocessing import StandardScaler\n",
        "#from sklearn.ensemble import RandomForestClassifier\n",
        "import warnings\n",
        "warnings.filterwarnings('ignore')"
      ]
    },
    {
      "cell_type": "markdown",
      "metadata": {
        "id": "4XXM1TMkqieB"
      },
      "source": [
        "## Load and Inspect the data"
      ]
    },
    {
      "cell_type": "code",
      "execution_count": null,
      "metadata": {
        "id": "oilPceniqg3H",
        "colab": {
          "base_uri": "https://localhost:8080/",
          "height": 660
        },
        "outputId": "c127011e-3964-448a-ef36-f0e5a483ced5"
      },
      "outputs": [
        {
          "output_type": "display_data",
          "data": {
            "text/plain": [
              "'Train'"
            ],
            "application/vnd.google.colaboratory.intrinsic+json": {
              "type": "string"
            }
          },
          "metadata": {}
        },
        {
          "output_type": "display_data",
          "data": {
            "text/plain": [
              "                      ID  customer_id country_id  tbl_loan_id  lender_id  \\\n",
              "0  ID_266671248032267278       266671      Kenya       248032     267278   \n",
              "1  ID_248919228515267278       248919      Kenya       228515     267278   \n",
              "2  ID_308486370501251804       308486      Kenya       370501     251804   \n",
              "3  ID_266004285009267278       266004      Kenya       285009     267278   \n",
              "4  ID_253803305312267278       253803      Kenya       305312     267278   \n",
              "\n",
              "  loan_type  Total_Amount  Total_Amount_to_Repay disbursement_date  \\\n",
              "0    Type_1        8448.0                 8448.0        2022-08-30   \n",
              "1    Type_1       25895.0                25979.0        2022-07-30   \n",
              "2    Type_7        6900.0                 7142.0        2024-09-06   \n",
              "3    Type_1        8958.0                 9233.0        2022-10-20   \n",
              "4    Type_1        4564.0                 4728.0        2022-11-28   \n",
              "\n",
              "     due_date  duration New_versus_Repeat  Amount_Funded_By_Lender  \\\n",
              "0  2022-09-06         7       Repeat Loan                   120.85   \n",
              "1  2022-08-06         7       Repeat Loan                  7768.50   \n",
              "2  2024-09-13         7       Repeat Loan                  1380.00   \n",
              "3  2022-10-27         7       Repeat Loan                  2687.40   \n",
              "4  2022-12-05         7       Repeat Loan                  1369.20   \n",
              "\n",
              "   Lender_portion_Funded  Lender_portion_to_be_repaid  target  \n",
              "0               0.014305                        121.0       0  \n",
              "1               0.300000                       7794.0       0  \n",
              "2               0.200000                       1428.0       0  \n",
              "3               0.300000                       2770.0       0  \n",
              "4               0.300000                       1418.0       0  "
            ],
            "text/html": [
              "\n",
              "  <div id=\"df-7b555ae1-db22-45ef-ad34-c00e423ffe84\" class=\"colab-df-container\">\n",
              "    <div>\n",
              "<style scoped>\n",
              "    .dataframe tbody tr th:only-of-type {\n",
              "        vertical-align: middle;\n",
              "    }\n",
              "\n",
              "    .dataframe tbody tr th {\n",
              "        vertical-align: top;\n",
              "    }\n",
              "\n",
              "    .dataframe thead th {\n",
              "        text-align: right;\n",
              "    }\n",
              "</style>\n",
              "<table border=\"1\" class=\"dataframe\">\n",
              "  <thead>\n",
              "    <tr style=\"text-align: right;\">\n",
              "      <th></th>\n",
              "      <th>ID</th>\n",
              "      <th>customer_id</th>\n",
              "      <th>country_id</th>\n",
              "      <th>tbl_loan_id</th>\n",
              "      <th>lender_id</th>\n",
              "      <th>loan_type</th>\n",
              "      <th>Total_Amount</th>\n",
              "      <th>Total_Amount_to_Repay</th>\n",
              "      <th>disbursement_date</th>\n",
              "      <th>due_date</th>\n",
              "      <th>duration</th>\n",
              "      <th>New_versus_Repeat</th>\n",
              "      <th>Amount_Funded_By_Lender</th>\n",
              "      <th>Lender_portion_Funded</th>\n",
              "      <th>Lender_portion_to_be_repaid</th>\n",
              "      <th>target</th>\n",
              "    </tr>\n",
              "  </thead>\n",
              "  <tbody>\n",
              "    <tr>\n",
              "      <th>0</th>\n",
              "      <td>ID_266671248032267278</td>\n",
              "      <td>266671</td>\n",
              "      <td>Kenya</td>\n",
              "      <td>248032</td>\n",
              "      <td>267278</td>\n",
              "      <td>Type_1</td>\n",
              "      <td>8448.0</td>\n",
              "      <td>8448.0</td>\n",
              "      <td>2022-08-30</td>\n",
              "      <td>2022-09-06</td>\n",
              "      <td>7</td>\n",
              "      <td>Repeat Loan</td>\n",
              "      <td>120.85</td>\n",
              "      <td>0.014305</td>\n",
              "      <td>121.0</td>\n",
              "      <td>0</td>\n",
              "    </tr>\n",
              "    <tr>\n",
              "      <th>1</th>\n",
              "      <td>ID_248919228515267278</td>\n",
              "      <td>248919</td>\n",
              "      <td>Kenya</td>\n",
              "      <td>228515</td>\n",
              "      <td>267278</td>\n",
              "      <td>Type_1</td>\n",
              "      <td>25895.0</td>\n",
              "      <td>25979.0</td>\n",
              "      <td>2022-07-30</td>\n",
              "      <td>2022-08-06</td>\n",
              "      <td>7</td>\n",
              "      <td>Repeat Loan</td>\n",
              "      <td>7768.50</td>\n",
              "      <td>0.300000</td>\n",
              "      <td>7794.0</td>\n",
              "      <td>0</td>\n",
              "    </tr>\n",
              "    <tr>\n",
              "      <th>2</th>\n",
              "      <td>ID_308486370501251804</td>\n",
              "      <td>308486</td>\n",
              "      <td>Kenya</td>\n",
              "      <td>370501</td>\n",
              "      <td>251804</td>\n",
              "      <td>Type_7</td>\n",
              "      <td>6900.0</td>\n",
              "      <td>7142.0</td>\n",
              "      <td>2024-09-06</td>\n",
              "      <td>2024-09-13</td>\n",
              "      <td>7</td>\n",
              "      <td>Repeat Loan</td>\n",
              "      <td>1380.00</td>\n",
              "      <td>0.200000</td>\n",
              "      <td>1428.0</td>\n",
              "      <td>0</td>\n",
              "    </tr>\n",
              "    <tr>\n",
              "      <th>3</th>\n",
              "      <td>ID_266004285009267278</td>\n",
              "      <td>266004</td>\n",
              "      <td>Kenya</td>\n",
              "      <td>285009</td>\n",
              "      <td>267278</td>\n",
              "      <td>Type_1</td>\n",
              "      <td>8958.0</td>\n",
              "      <td>9233.0</td>\n",
              "      <td>2022-10-20</td>\n",
              "      <td>2022-10-27</td>\n",
              "      <td>7</td>\n",
              "      <td>Repeat Loan</td>\n",
              "      <td>2687.40</td>\n",
              "      <td>0.300000</td>\n",
              "      <td>2770.0</td>\n",
              "      <td>0</td>\n",
              "    </tr>\n",
              "    <tr>\n",
              "      <th>4</th>\n",
              "      <td>ID_253803305312267278</td>\n",
              "      <td>253803</td>\n",
              "      <td>Kenya</td>\n",
              "      <td>305312</td>\n",
              "      <td>267278</td>\n",
              "      <td>Type_1</td>\n",
              "      <td>4564.0</td>\n",
              "      <td>4728.0</td>\n",
              "      <td>2022-11-28</td>\n",
              "      <td>2022-12-05</td>\n",
              "      <td>7</td>\n",
              "      <td>Repeat Loan</td>\n",
              "      <td>1369.20</td>\n",
              "      <td>0.300000</td>\n",
              "      <td>1418.0</td>\n",
              "      <td>0</td>\n",
              "    </tr>\n",
              "  </tbody>\n",
              "</table>\n",
              "</div>\n",
              "    <div class=\"colab-df-buttons\">\n",
              "\n",
              "  <div class=\"colab-df-container\">\n",
              "    <button class=\"colab-df-convert\" onclick=\"convertToInteractive('df-7b555ae1-db22-45ef-ad34-c00e423ffe84')\"\n",
              "            title=\"Convert this dataframe to an interactive table.\"\n",
              "            style=\"display:none;\">\n",
              "\n",
              "  <svg xmlns=\"http://www.w3.org/2000/svg\" height=\"24px\" viewBox=\"0 -960 960 960\">\n",
              "    <path d=\"M120-120v-720h720v720H120Zm60-500h600v-160H180v160Zm220 220h160v-160H400v160Zm0 220h160v-160H400v160ZM180-400h160v-160H180v160Zm440 0h160v-160H620v160ZM180-180h160v-160H180v160Zm440 0h160v-160H620v160Z\"/>\n",
              "  </svg>\n",
              "    </button>\n",
              "\n",
              "  <style>\n",
              "    .colab-df-container {\n",
              "      display:flex;\n",
              "      gap: 12px;\n",
              "    }\n",
              "\n",
              "    .colab-df-convert {\n",
              "      background-color: #E8F0FE;\n",
              "      border: none;\n",
              "      border-radius: 50%;\n",
              "      cursor: pointer;\n",
              "      display: none;\n",
              "      fill: #1967D2;\n",
              "      height: 32px;\n",
              "      padding: 0 0 0 0;\n",
              "      width: 32px;\n",
              "    }\n",
              "\n",
              "    .colab-df-convert:hover {\n",
              "      background-color: #E2EBFA;\n",
              "      box-shadow: 0px 1px 2px rgba(60, 64, 67, 0.3), 0px 1px 3px 1px rgba(60, 64, 67, 0.15);\n",
              "      fill: #174EA6;\n",
              "    }\n",
              "\n",
              "    .colab-df-buttons div {\n",
              "      margin-bottom: 4px;\n",
              "    }\n",
              "\n",
              "    [theme=dark] .colab-df-convert {\n",
              "      background-color: #3B4455;\n",
              "      fill: #D2E3FC;\n",
              "    }\n",
              "\n",
              "    [theme=dark] .colab-df-convert:hover {\n",
              "      background-color: #434B5C;\n",
              "      box-shadow: 0px 1px 3px 1px rgba(0, 0, 0, 0.15);\n",
              "      filter: drop-shadow(0px 1px 2px rgba(0, 0, 0, 0.3));\n",
              "      fill: #FFFFFF;\n",
              "    }\n",
              "  </style>\n",
              "\n",
              "    <script>\n",
              "      const buttonEl =\n",
              "        document.querySelector('#df-7b555ae1-db22-45ef-ad34-c00e423ffe84 button.colab-df-convert');\n",
              "      buttonEl.style.display =\n",
              "        google.colab.kernel.accessAllowed ? 'block' : 'none';\n",
              "\n",
              "      async function convertToInteractive(key) {\n",
              "        const element = document.querySelector('#df-7b555ae1-db22-45ef-ad34-c00e423ffe84');\n",
              "        const dataTable =\n",
              "          await google.colab.kernel.invokeFunction('convertToInteractive',\n",
              "                                                    [key], {});\n",
              "        if (!dataTable) return;\n",
              "\n",
              "        const docLinkHtml = 'Like what you see? Visit the ' +\n",
              "          '<a target=\"_blank\" href=https://colab.research.google.com/notebooks/data_table.ipynb>data table notebook</a>'\n",
              "          + ' to learn more about interactive tables.';\n",
              "        element.innerHTML = '';\n",
              "        dataTable['output_type'] = 'display_data';\n",
              "        await google.colab.output.renderOutput(dataTable, element);\n",
              "        const docLink = document.createElement('div');\n",
              "        docLink.innerHTML = docLinkHtml;\n",
              "        element.appendChild(docLink);\n",
              "      }\n",
              "    </script>\n",
              "  </div>\n",
              "\n",
              "\n",
              "<div id=\"df-5b2bb1d6-6fb4-4baa-a96e-f0e6059d7d24\">\n",
              "  <button class=\"colab-df-quickchart\" onclick=\"quickchart('df-5b2bb1d6-6fb4-4baa-a96e-f0e6059d7d24')\"\n",
              "            title=\"Suggest charts\"\n",
              "            style=\"display:none;\">\n",
              "\n",
              "<svg xmlns=\"http://www.w3.org/2000/svg\" height=\"24px\"viewBox=\"0 0 24 24\"\n",
              "     width=\"24px\">\n",
              "    <g>\n",
              "        <path d=\"M19 3H5c-1.1 0-2 .9-2 2v14c0 1.1.9 2 2 2h14c1.1 0 2-.9 2-2V5c0-1.1-.9-2-2-2zM9 17H7v-7h2v7zm4 0h-2V7h2v10zm4 0h-2v-4h2v4z\"/>\n",
              "    </g>\n",
              "</svg>\n",
              "  </button>\n",
              "\n",
              "<style>\n",
              "  .colab-df-quickchart {\n",
              "      --bg-color: #E8F0FE;\n",
              "      --fill-color: #1967D2;\n",
              "      --hover-bg-color: #E2EBFA;\n",
              "      --hover-fill-color: #174EA6;\n",
              "      --disabled-fill-color: #AAA;\n",
              "      --disabled-bg-color: #DDD;\n",
              "  }\n",
              "\n",
              "  [theme=dark] .colab-df-quickchart {\n",
              "      --bg-color: #3B4455;\n",
              "      --fill-color: #D2E3FC;\n",
              "      --hover-bg-color: #434B5C;\n",
              "      --hover-fill-color: #FFFFFF;\n",
              "      --disabled-bg-color: #3B4455;\n",
              "      --disabled-fill-color: #666;\n",
              "  }\n",
              "\n",
              "  .colab-df-quickchart {\n",
              "    background-color: var(--bg-color);\n",
              "    border: none;\n",
              "    border-radius: 50%;\n",
              "    cursor: pointer;\n",
              "    display: none;\n",
              "    fill: var(--fill-color);\n",
              "    height: 32px;\n",
              "    padding: 0;\n",
              "    width: 32px;\n",
              "  }\n",
              "\n",
              "  .colab-df-quickchart:hover {\n",
              "    background-color: var(--hover-bg-color);\n",
              "    box-shadow: 0 1px 2px rgba(60, 64, 67, 0.3), 0 1px 3px 1px rgba(60, 64, 67, 0.15);\n",
              "    fill: var(--button-hover-fill-color);\n",
              "  }\n",
              "\n",
              "  .colab-df-quickchart-complete:disabled,\n",
              "  .colab-df-quickchart-complete:disabled:hover {\n",
              "    background-color: var(--disabled-bg-color);\n",
              "    fill: var(--disabled-fill-color);\n",
              "    box-shadow: none;\n",
              "  }\n",
              "\n",
              "  .colab-df-spinner {\n",
              "    border: 2px solid var(--fill-color);\n",
              "    border-color: transparent;\n",
              "    border-bottom-color: var(--fill-color);\n",
              "    animation:\n",
              "      spin 1s steps(1) infinite;\n",
              "  }\n",
              "\n",
              "  @keyframes spin {\n",
              "    0% {\n",
              "      border-color: transparent;\n",
              "      border-bottom-color: var(--fill-color);\n",
              "      border-left-color: var(--fill-color);\n",
              "    }\n",
              "    20% {\n",
              "      border-color: transparent;\n",
              "      border-left-color: var(--fill-color);\n",
              "      border-top-color: var(--fill-color);\n",
              "    }\n",
              "    30% {\n",
              "      border-color: transparent;\n",
              "      border-left-color: var(--fill-color);\n",
              "      border-top-color: var(--fill-color);\n",
              "      border-right-color: var(--fill-color);\n",
              "    }\n",
              "    40% {\n",
              "      border-color: transparent;\n",
              "      border-right-color: var(--fill-color);\n",
              "      border-top-color: var(--fill-color);\n",
              "    }\n",
              "    60% {\n",
              "      border-color: transparent;\n",
              "      border-right-color: var(--fill-color);\n",
              "    }\n",
              "    80% {\n",
              "      border-color: transparent;\n",
              "      border-right-color: var(--fill-color);\n",
              "      border-bottom-color: var(--fill-color);\n",
              "    }\n",
              "    90% {\n",
              "      border-color: transparent;\n",
              "      border-bottom-color: var(--fill-color);\n",
              "    }\n",
              "  }\n",
              "</style>\n",
              "\n",
              "  <script>\n",
              "    async function quickchart(key) {\n",
              "      const quickchartButtonEl =\n",
              "        document.querySelector('#' + key + ' button');\n",
              "      quickchartButtonEl.disabled = true;  // To prevent multiple clicks.\n",
              "      quickchartButtonEl.classList.add('colab-df-spinner');\n",
              "      try {\n",
              "        const charts = await google.colab.kernel.invokeFunction(\n",
              "            'suggestCharts', [key], {});\n",
              "      } catch (error) {\n",
              "        console.error('Error during call to suggestCharts:', error);\n",
              "      }\n",
              "      quickchartButtonEl.classList.remove('colab-df-spinner');\n",
              "      quickchartButtonEl.classList.add('colab-df-quickchart-complete');\n",
              "    }\n",
              "    (() => {\n",
              "      let quickchartButtonEl =\n",
              "        document.querySelector('#df-5b2bb1d6-6fb4-4baa-a96e-f0e6059d7d24 button');\n",
              "      quickchartButtonEl.style.display =\n",
              "        google.colab.kernel.accessAllowed ? 'block' : 'none';\n",
              "    })();\n",
              "  </script>\n",
              "</div>\n",
              "\n",
              "    </div>\n",
              "  </div>\n"
            ],
            "application/vnd.google.colaboratory.intrinsic+json": {
              "type": "dataframe",
              "summary": "{\n  \"name\": \"display(\\\"Train\\\", train\",\n  \"rows\": 5,\n  \"fields\": [\n    {\n      \"column\": \"ID\",\n      \"properties\": {\n        \"dtype\": \"string\",\n        \"num_unique_values\": 5,\n        \"samples\": [\n          \"ID_248919228515267278\",\n          \"ID_253803305312267278\",\n          \"ID_308486370501251804\"\n        ],\n        \"semantic_type\": \"\",\n        \"description\": \"\"\n      }\n    },\n    {\n      \"column\": \"customer_id\",\n      \"properties\": {\n        \"dtype\": \"number\",\n        \"std\": 23491,\n        \"min\": 248919,\n        \"max\": 308486,\n        \"num_unique_values\": 5,\n        \"samples\": [\n          248919,\n          253803,\n          308486\n        ],\n        \"semantic_type\": \"\",\n        \"description\": \"\"\n      }\n    },\n    {\n      \"column\": \"country_id\",\n      \"properties\": {\n        \"dtype\": \"category\",\n        \"num_unique_values\": 1,\n        \"samples\": [\n          \"Kenya\"\n        ],\n        \"semantic_type\": \"\",\n        \"description\": \"\"\n      }\n    },\n    {\n      \"column\": \"tbl_loan_id\",\n      \"properties\": {\n        \"dtype\": \"number\",\n        \"std\": 55338,\n        \"min\": 228515,\n        \"max\": 370501,\n        \"num_unique_values\": 5,\n        \"samples\": [\n          228515\n        ],\n        \"semantic_type\": \"\",\n        \"description\": \"\"\n      }\n    },\n    {\n      \"column\": \"lender_id\",\n      \"properties\": {\n        \"dtype\": \"number\",\n        \"std\": 6920,\n        \"min\": 251804,\n        \"max\": 267278,\n        \"num_unique_values\": 2,\n        \"samples\": [\n          251804\n        ],\n        \"semantic_type\": \"\",\n        \"description\": \"\"\n      }\n    },\n    {\n      \"column\": \"loan_type\",\n      \"properties\": {\n        \"dtype\": \"category\",\n        \"num_unique_values\": 2,\n        \"samples\": [\n          \"Type_7\"\n        ],\n        \"semantic_type\": \"\",\n        \"description\": \"\"\n      }\n    },\n    {\n      \"column\": \"Total_Amount\",\n      \"properties\": {\n        \"dtype\": \"number\",\n        \"std\": 8525.909687534815,\n        \"min\": 4564.0,\n        \"max\": 25895.0,\n        \"num_unique_values\": 5,\n        \"samples\": [\n          25895.0\n        ],\n        \"semantic_type\": \"\",\n        \"description\": \"\"\n      }\n    },\n    {\n      \"column\": \"Total_Amount_to_Repay\",\n      \"properties\": {\n        \"dtype\": \"number\",\n        \"std\": 8487.805988593283,\n        \"min\": 4728.0,\n        \"max\": 25979.0,\n        \"num_unique_values\": 5,\n        \"samples\": [\n          25979.0\n        ],\n        \"semantic_type\": \"\",\n        \"description\": \"\"\n      }\n    },\n    {\n      \"column\": \"disbursement_date\",\n      \"properties\": {\n        \"dtype\": \"object\",\n        \"num_unique_values\": 5,\n        \"samples\": [\n          \"2022-07-30\"\n        ],\n        \"semantic_type\": \"\",\n        \"description\": \"\"\n      }\n    },\n    {\n      \"column\": \"due_date\",\n      \"properties\": {\n        \"dtype\": \"object\",\n        \"num_unique_values\": 5,\n        \"samples\": [\n          \"2022-08-06\"\n        ],\n        \"semantic_type\": \"\",\n        \"description\": \"\"\n      }\n    },\n    {\n      \"column\": \"duration\",\n      \"properties\": {\n        \"dtype\": \"number\",\n        \"std\": 0,\n        \"min\": 7,\n        \"max\": 7,\n        \"num_unique_values\": 1,\n        \"samples\": [\n          7\n        ],\n        \"semantic_type\": \"\",\n        \"description\": \"\"\n      }\n    },\n    {\n      \"column\": \"New_versus_Repeat\",\n      \"properties\": {\n        \"dtype\": \"category\",\n        \"num_unique_values\": 1,\n        \"samples\": [\n          \"Repeat Loan\"\n        ],\n        \"semantic_type\": \"\",\n        \"description\": \"\"\n      }\n    },\n    {\n      \"column\": \"Amount_Funded_By_Lender\",\n      \"properties\": {\n        \"dtype\": \"number\",\n        \"std\": 2993.7115630935455,\n        \"min\": 120.85,\n        \"max\": 7768.5,\n        \"num_unique_values\": 5,\n        \"samples\": [\n          7768.5\n        ],\n        \"semantic_type\": \"\",\n        \"description\": \"\"\n      }\n    },\n    {\n      \"column\": \"Lender_portion_Funded\",\n      \"properties\": {\n        \"dtype\": \"number\",\n        \"std\": 0.12436784077014106,\n        \"min\": 0.0143051609848484,\n        \"max\": 0.3,\n        \"num_unique_values\": 3,\n        \"samples\": [\n          0.0143051609848484\n        ],\n        \"semantic_type\": \"\",\n        \"description\": \"\"\n      }\n    },\n    {\n      \"column\": \"Lender_portion_to_be_repaid\",\n      \"properties\": {\n        \"dtype\": \"number\",\n        \"std\": 2994.423684116862,\n        \"min\": 121.0,\n        \"max\": 7794.0,\n        \"num_unique_values\": 5,\n        \"samples\": [\n          7794.0\n        ],\n        \"semantic_type\": \"\",\n        \"description\": \"\"\n      }\n    },\n    {\n      \"column\": \"target\",\n      \"properties\": {\n        \"dtype\": \"number\",\n        \"std\": 0,\n        \"min\": 0,\n        \"max\": 0,\n        \"num_unique_values\": 1,\n        \"samples\": [\n          0\n        ],\n        \"semantic_type\": \"\",\n        \"description\": \"\"\n      }\n    }\n  ]\n}"
            }
          },
          "metadata": {}
        },
        {
          "output_type": "display_data",
          "data": {
            "text/plain": [
              "(68654, 16)"
            ]
          },
          "metadata": {}
        },
        {
          "output_type": "display_data",
          "data": {
            "text/plain": [
              "'Test'"
            ],
            "application/vnd.google.colaboratory.intrinsic+json": {
              "type": "string"
            }
          },
          "metadata": {}
        },
        {
          "output_type": "display_data",
          "data": {
            "text/plain": [
              "                      ID  customer_id country_id  tbl_loan_id  lender_id  \\\n",
              "0  ID_269404226088267278       269404      Kenya       226088     267278   \n",
              "1  ID_255356300042267278       255356      Kenya       300042     267278   \n",
              "2  ID_257026243764267278       257026      Kenya       243764     267278   \n",
              "3  ID_264617299409267278       264617      Kenya       299409     267278   \n",
              "4  ID_247613296713267278       247613      Kenya       296713     267278   \n",
              "\n",
              "  loan_type  Total_Amount  Total_Amount_to_Repay disbursement_date  \\\n",
              "0    Type_1        1919.0                 1989.0        2022-07-27   \n",
              "1    Type_1        2138.0                 2153.0        2022-11-16   \n",
              "2    Type_1        8254.0                 8304.0        2022-08-24   \n",
              "3    Type_1        3379.0                 3379.0        2022-11-15   \n",
              "4    Type_1         120.0                  120.0        2022-11-10   \n",
              "\n",
              "     due_date  duration New_versus_Repeat  Amount_Funded_By_Lender  \\\n",
              "0  2022-08-03         7       Repeat Loan                    575.7   \n",
              "1  2022-11-23         7       Repeat Loan                      0.0   \n",
              "2  2022-08-31         7       Repeat Loan                    207.0   \n",
              "3  2022-11-22         7       Repeat Loan                   1013.7   \n",
              "4  2022-11-17         7       Repeat Loan                     36.0   \n",
              "\n",
              "   Lender_portion_Funded  Lender_portion_to_be_repaid  \n",
              "0               0.300000                        597.0  \n",
              "1               0.000000                          0.0  \n",
              "2               0.025079                        208.0  \n",
              "3               0.300000                       1014.0  \n",
              "4               0.300000                         36.0  "
            ],
            "text/html": [
              "\n",
              "  <div id=\"df-9788165d-5323-45cb-90d2-4d9e0c71aad9\" class=\"colab-df-container\">\n",
              "    <div>\n",
              "<style scoped>\n",
              "    .dataframe tbody tr th:only-of-type {\n",
              "        vertical-align: middle;\n",
              "    }\n",
              "\n",
              "    .dataframe tbody tr th {\n",
              "        vertical-align: top;\n",
              "    }\n",
              "\n",
              "    .dataframe thead th {\n",
              "        text-align: right;\n",
              "    }\n",
              "</style>\n",
              "<table border=\"1\" class=\"dataframe\">\n",
              "  <thead>\n",
              "    <tr style=\"text-align: right;\">\n",
              "      <th></th>\n",
              "      <th>ID</th>\n",
              "      <th>customer_id</th>\n",
              "      <th>country_id</th>\n",
              "      <th>tbl_loan_id</th>\n",
              "      <th>lender_id</th>\n",
              "      <th>loan_type</th>\n",
              "      <th>Total_Amount</th>\n",
              "      <th>Total_Amount_to_Repay</th>\n",
              "      <th>disbursement_date</th>\n",
              "      <th>due_date</th>\n",
              "      <th>duration</th>\n",
              "      <th>New_versus_Repeat</th>\n",
              "      <th>Amount_Funded_By_Lender</th>\n",
              "      <th>Lender_portion_Funded</th>\n",
              "      <th>Lender_portion_to_be_repaid</th>\n",
              "    </tr>\n",
              "  </thead>\n",
              "  <tbody>\n",
              "    <tr>\n",
              "      <th>0</th>\n",
              "      <td>ID_269404226088267278</td>\n",
              "      <td>269404</td>\n",
              "      <td>Kenya</td>\n",
              "      <td>226088</td>\n",
              "      <td>267278</td>\n",
              "      <td>Type_1</td>\n",
              "      <td>1919.0</td>\n",
              "      <td>1989.0</td>\n",
              "      <td>2022-07-27</td>\n",
              "      <td>2022-08-03</td>\n",
              "      <td>7</td>\n",
              "      <td>Repeat Loan</td>\n",
              "      <td>575.7</td>\n",
              "      <td>0.300000</td>\n",
              "      <td>597.0</td>\n",
              "    </tr>\n",
              "    <tr>\n",
              "      <th>1</th>\n",
              "      <td>ID_255356300042267278</td>\n",
              "      <td>255356</td>\n",
              "      <td>Kenya</td>\n",
              "      <td>300042</td>\n",
              "      <td>267278</td>\n",
              "      <td>Type_1</td>\n",
              "      <td>2138.0</td>\n",
              "      <td>2153.0</td>\n",
              "      <td>2022-11-16</td>\n",
              "      <td>2022-11-23</td>\n",
              "      <td>7</td>\n",
              "      <td>Repeat Loan</td>\n",
              "      <td>0.0</td>\n",
              "      <td>0.000000</td>\n",
              "      <td>0.0</td>\n",
              "    </tr>\n",
              "    <tr>\n",
              "      <th>2</th>\n",
              "      <td>ID_257026243764267278</td>\n",
              "      <td>257026</td>\n",
              "      <td>Kenya</td>\n",
              "      <td>243764</td>\n",
              "      <td>267278</td>\n",
              "      <td>Type_1</td>\n",
              "      <td>8254.0</td>\n",
              "      <td>8304.0</td>\n",
              "      <td>2022-08-24</td>\n",
              "      <td>2022-08-31</td>\n",
              "      <td>7</td>\n",
              "      <td>Repeat Loan</td>\n",
              "      <td>207.0</td>\n",
              "      <td>0.025079</td>\n",
              "      <td>208.0</td>\n",
              "    </tr>\n",
              "    <tr>\n",
              "      <th>3</th>\n",
              "      <td>ID_264617299409267278</td>\n",
              "      <td>264617</td>\n",
              "      <td>Kenya</td>\n",
              "      <td>299409</td>\n",
              "      <td>267278</td>\n",
              "      <td>Type_1</td>\n",
              "      <td>3379.0</td>\n",
              "      <td>3379.0</td>\n",
              "      <td>2022-11-15</td>\n",
              "      <td>2022-11-22</td>\n",
              "      <td>7</td>\n",
              "      <td>Repeat Loan</td>\n",
              "      <td>1013.7</td>\n",
              "      <td>0.300000</td>\n",
              "      <td>1014.0</td>\n",
              "    </tr>\n",
              "    <tr>\n",
              "      <th>4</th>\n",
              "      <td>ID_247613296713267278</td>\n",
              "      <td>247613</td>\n",
              "      <td>Kenya</td>\n",
              "      <td>296713</td>\n",
              "      <td>267278</td>\n",
              "      <td>Type_1</td>\n",
              "      <td>120.0</td>\n",
              "      <td>120.0</td>\n",
              "      <td>2022-11-10</td>\n",
              "      <td>2022-11-17</td>\n",
              "      <td>7</td>\n",
              "      <td>Repeat Loan</td>\n",
              "      <td>36.0</td>\n",
              "      <td>0.300000</td>\n",
              "      <td>36.0</td>\n",
              "    </tr>\n",
              "  </tbody>\n",
              "</table>\n",
              "</div>\n",
              "    <div class=\"colab-df-buttons\">\n",
              "\n",
              "  <div class=\"colab-df-container\">\n",
              "    <button class=\"colab-df-convert\" onclick=\"convertToInteractive('df-9788165d-5323-45cb-90d2-4d9e0c71aad9')\"\n",
              "            title=\"Convert this dataframe to an interactive table.\"\n",
              "            style=\"display:none;\">\n",
              "\n",
              "  <svg xmlns=\"http://www.w3.org/2000/svg\" height=\"24px\" viewBox=\"0 -960 960 960\">\n",
              "    <path d=\"M120-120v-720h720v720H120Zm60-500h600v-160H180v160Zm220 220h160v-160H400v160Zm0 220h160v-160H400v160ZM180-400h160v-160H180v160Zm440 0h160v-160H620v160ZM180-180h160v-160H180v160Zm440 0h160v-160H620v160Z\"/>\n",
              "  </svg>\n",
              "    </button>\n",
              "\n",
              "  <style>\n",
              "    .colab-df-container {\n",
              "      display:flex;\n",
              "      gap: 12px;\n",
              "    }\n",
              "\n",
              "    .colab-df-convert {\n",
              "      background-color: #E8F0FE;\n",
              "      border: none;\n",
              "      border-radius: 50%;\n",
              "      cursor: pointer;\n",
              "      display: none;\n",
              "      fill: #1967D2;\n",
              "      height: 32px;\n",
              "      padding: 0 0 0 0;\n",
              "      width: 32px;\n",
              "    }\n",
              "\n",
              "    .colab-df-convert:hover {\n",
              "      background-color: #E2EBFA;\n",
              "      box-shadow: 0px 1px 2px rgba(60, 64, 67, 0.3), 0px 1px 3px 1px rgba(60, 64, 67, 0.15);\n",
              "      fill: #174EA6;\n",
              "    }\n",
              "\n",
              "    .colab-df-buttons div {\n",
              "      margin-bottom: 4px;\n",
              "    }\n",
              "\n",
              "    [theme=dark] .colab-df-convert {\n",
              "      background-color: #3B4455;\n",
              "      fill: #D2E3FC;\n",
              "    }\n",
              "\n",
              "    [theme=dark] .colab-df-convert:hover {\n",
              "      background-color: #434B5C;\n",
              "      box-shadow: 0px 1px 3px 1px rgba(0, 0, 0, 0.15);\n",
              "      filter: drop-shadow(0px 1px 2px rgba(0, 0, 0, 0.3));\n",
              "      fill: #FFFFFF;\n",
              "    }\n",
              "  </style>\n",
              "\n",
              "    <script>\n",
              "      const buttonEl =\n",
              "        document.querySelector('#df-9788165d-5323-45cb-90d2-4d9e0c71aad9 button.colab-df-convert');\n",
              "      buttonEl.style.display =\n",
              "        google.colab.kernel.accessAllowed ? 'block' : 'none';\n",
              "\n",
              "      async function convertToInteractive(key) {\n",
              "        const element = document.querySelector('#df-9788165d-5323-45cb-90d2-4d9e0c71aad9');\n",
              "        const dataTable =\n",
              "          await google.colab.kernel.invokeFunction('convertToInteractive',\n",
              "                                                    [key], {});\n",
              "        if (!dataTable) return;\n",
              "\n",
              "        const docLinkHtml = 'Like what you see? Visit the ' +\n",
              "          '<a target=\"_blank\" href=https://colab.research.google.com/notebooks/data_table.ipynb>data table notebook</a>'\n",
              "          + ' to learn more about interactive tables.';\n",
              "        element.innerHTML = '';\n",
              "        dataTable['output_type'] = 'display_data';\n",
              "        await google.colab.output.renderOutput(dataTable, element);\n",
              "        const docLink = document.createElement('div');\n",
              "        docLink.innerHTML = docLinkHtml;\n",
              "        element.appendChild(docLink);\n",
              "      }\n",
              "    </script>\n",
              "  </div>\n",
              "\n",
              "\n",
              "<div id=\"df-a4a88903-30da-4a20-9592-2babe0bccc81\">\n",
              "  <button class=\"colab-df-quickchart\" onclick=\"quickchart('df-a4a88903-30da-4a20-9592-2babe0bccc81')\"\n",
              "            title=\"Suggest charts\"\n",
              "            style=\"display:none;\">\n",
              "\n",
              "<svg xmlns=\"http://www.w3.org/2000/svg\" height=\"24px\"viewBox=\"0 0 24 24\"\n",
              "     width=\"24px\">\n",
              "    <g>\n",
              "        <path d=\"M19 3H5c-1.1 0-2 .9-2 2v14c0 1.1.9 2 2 2h14c1.1 0 2-.9 2-2V5c0-1.1-.9-2-2-2zM9 17H7v-7h2v7zm4 0h-2V7h2v10zm4 0h-2v-4h2v4z\"/>\n",
              "    </g>\n",
              "</svg>\n",
              "  </button>\n",
              "\n",
              "<style>\n",
              "  .colab-df-quickchart {\n",
              "      --bg-color: #E8F0FE;\n",
              "      --fill-color: #1967D2;\n",
              "      --hover-bg-color: #E2EBFA;\n",
              "      --hover-fill-color: #174EA6;\n",
              "      --disabled-fill-color: #AAA;\n",
              "      --disabled-bg-color: #DDD;\n",
              "  }\n",
              "\n",
              "  [theme=dark] .colab-df-quickchart {\n",
              "      --bg-color: #3B4455;\n",
              "      --fill-color: #D2E3FC;\n",
              "      --hover-bg-color: #434B5C;\n",
              "      --hover-fill-color: #FFFFFF;\n",
              "      --disabled-bg-color: #3B4455;\n",
              "      --disabled-fill-color: #666;\n",
              "  }\n",
              "\n",
              "  .colab-df-quickchart {\n",
              "    background-color: var(--bg-color);\n",
              "    border: none;\n",
              "    border-radius: 50%;\n",
              "    cursor: pointer;\n",
              "    display: none;\n",
              "    fill: var(--fill-color);\n",
              "    height: 32px;\n",
              "    padding: 0;\n",
              "    width: 32px;\n",
              "  }\n",
              "\n",
              "  .colab-df-quickchart:hover {\n",
              "    background-color: var(--hover-bg-color);\n",
              "    box-shadow: 0 1px 2px rgba(60, 64, 67, 0.3), 0 1px 3px 1px rgba(60, 64, 67, 0.15);\n",
              "    fill: var(--button-hover-fill-color);\n",
              "  }\n",
              "\n",
              "  .colab-df-quickchart-complete:disabled,\n",
              "  .colab-df-quickchart-complete:disabled:hover {\n",
              "    background-color: var(--disabled-bg-color);\n",
              "    fill: var(--disabled-fill-color);\n",
              "    box-shadow: none;\n",
              "  }\n",
              "\n",
              "  .colab-df-spinner {\n",
              "    border: 2px solid var(--fill-color);\n",
              "    border-color: transparent;\n",
              "    border-bottom-color: var(--fill-color);\n",
              "    animation:\n",
              "      spin 1s steps(1) infinite;\n",
              "  }\n",
              "\n",
              "  @keyframes spin {\n",
              "    0% {\n",
              "      border-color: transparent;\n",
              "      border-bottom-color: var(--fill-color);\n",
              "      border-left-color: var(--fill-color);\n",
              "    }\n",
              "    20% {\n",
              "      border-color: transparent;\n",
              "      border-left-color: var(--fill-color);\n",
              "      border-top-color: var(--fill-color);\n",
              "    }\n",
              "    30% {\n",
              "      border-color: transparent;\n",
              "      border-left-color: var(--fill-color);\n",
              "      border-top-color: var(--fill-color);\n",
              "      border-right-color: var(--fill-color);\n",
              "    }\n",
              "    40% {\n",
              "      border-color: transparent;\n",
              "      border-right-color: var(--fill-color);\n",
              "      border-top-color: var(--fill-color);\n",
              "    }\n",
              "    60% {\n",
              "      border-color: transparent;\n",
              "      border-right-color: var(--fill-color);\n",
              "    }\n",
              "    80% {\n",
              "      border-color: transparent;\n",
              "      border-right-color: var(--fill-color);\n",
              "      border-bottom-color: var(--fill-color);\n",
              "    }\n",
              "    90% {\n",
              "      border-color: transparent;\n",
              "      border-bottom-color: var(--fill-color);\n",
              "    }\n",
              "  }\n",
              "</style>\n",
              "\n",
              "  <script>\n",
              "    async function quickchart(key) {\n",
              "      const quickchartButtonEl =\n",
              "        document.querySelector('#' + key + ' button');\n",
              "      quickchartButtonEl.disabled = true;  // To prevent multiple clicks.\n",
              "      quickchartButtonEl.classList.add('colab-df-spinner');\n",
              "      try {\n",
              "        const charts = await google.colab.kernel.invokeFunction(\n",
              "            'suggestCharts', [key], {});\n",
              "      } catch (error) {\n",
              "        console.error('Error during call to suggestCharts:', error);\n",
              "      }\n",
              "      quickchartButtonEl.classList.remove('colab-df-spinner');\n",
              "      quickchartButtonEl.classList.add('colab-df-quickchart-complete');\n",
              "    }\n",
              "    (() => {\n",
              "      let quickchartButtonEl =\n",
              "        document.querySelector('#df-a4a88903-30da-4a20-9592-2babe0bccc81 button');\n",
              "      quickchartButtonEl.style.display =\n",
              "        google.colab.kernel.accessAllowed ? 'block' : 'none';\n",
              "    })();\n",
              "  </script>\n",
              "</div>\n",
              "\n",
              "    </div>\n",
              "  </div>\n"
            ],
            "application/vnd.google.colaboratory.intrinsic+json": {
              "type": "dataframe",
              "summary": "{\n  \"name\": \"display(\\\"Train\\\", train\",\n  \"rows\": 5,\n  \"fields\": [\n    {\n      \"column\": \"ID\",\n      \"properties\": {\n        \"dtype\": \"string\",\n        \"num_unique_values\": 5,\n        \"samples\": [\n          \"ID_255356300042267278\",\n          \"ID_247613296713267278\",\n          \"ID_257026243764267278\"\n        ],\n        \"semantic_type\": \"\",\n        \"description\": \"\"\n      }\n    },\n    {\n      \"column\": \"customer_id\",\n      \"properties\": {\n        \"dtype\": \"number\",\n        \"std\": 8462,\n        \"min\": 247613,\n        \"max\": 269404,\n        \"num_unique_values\": 5,\n        \"samples\": [\n          255356,\n          247613,\n          257026\n        ],\n        \"semantic_type\": \"\",\n        \"description\": \"\"\n      }\n    },\n    {\n      \"column\": \"country_id\",\n      \"properties\": {\n        \"dtype\": \"category\",\n        \"num_unique_values\": 1,\n        \"samples\": [\n          \"Kenya\"\n        ],\n        \"semantic_type\": \"\",\n        \"description\": \"\"\n      }\n    },\n    {\n      \"column\": \"tbl_loan_id\",\n      \"properties\": {\n        \"dtype\": \"number\",\n        \"std\": 35518,\n        \"min\": 226088,\n        \"max\": 300042,\n        \"num_unique_values\": 5,\n        \"samples\": [\n          300042\n        ],\n        \"semantic_type\": \"\",\n        \"description\": \"\"\n      }\n    },\n    {\n      \"column\": \"lender_id\",\n      \"properties\": {\n        \"dtype\": \"number\",\n        \"std\": 0,\n        \"min\": 267278,\n        \"max\": 267278,\n        \"num_unique_values\": 1,\n        \"samples\": [\n          267278\n        ],\n        \"semantic_type\": \"\",\n        \"description\": \"\"\n      }\n    },\n    {\n      \"column\": \"loan_type\",\n      \"properties\": {\n        \"dtype\": \"category\",\n        \"num_unique_values\": 1,\n        \"samples\": [\n          \"Type_1\"\n        ],\n        \"semantic_type\": \"\",\n        \"description\": \"\"\n      }\n    },\n    {\n      \"column\": \"Total_Amount\",\n      \"properties\": {\n        \"dtype\": \"number\",\n        \"std\": 3075.017967427182,\n        \"min\": 120.0,\n        \"max\": 8254.0,\n        \"num_unique_values\": 5,\n        \"samples\": [\n          2138.0\n        ],\n        \"semantic_type\": \"\",\n        \"description\": \"\"\n      }\n    },\n    {\n      \"column\": \"Total_Amount_to_Repay\",\n      \"properties\": {\n        \"dtype\": \"number\",\n        \"std\": 3087.53064762117,\n        \"min\": 120.0,\n        \"max\": 8304.0,\n        \"num_unique_values\": 5,\n        \"samples\": [\n          2153.0\n        ],\n        \"semantic_type\": \"\",\n        \"description\": \"\"\n      }\n    },\n    {\n      \"column\": \"disbursement_date\",\n      \"properties\": {\n        \"dtype\": \"object\",\n        \"num_unique_values\": 5,\n        \"samples\": [\n          \"2022-11-16\"\n        ],\n        \"semantic_type\": \"\",\n        \"description\": \"\"\n      }\n    },\n    {\n      \"column\": \"due_date\",\n      \"properties\": {\n        \"dtype\": \"object\",\n        \"num_unique_values\": 5,\n        \"samples\": [\n          \"2022-11-23\"\n        ],\n        \"semantic_type\": \"\",\n        \"description\": \"\"\n      }\n    },\n    {\n      \"column\": \"duration\",\n      \"properties\": {\n        \"dtype\": \"number\",\n        \"std\": 0,\n        \"min\": 7,\n        \"max\": 7,\n        \"num_unique_values\": 1,\n        \"samples\": [\n          7\n        ],\n        \"semantic_type\": \"\",\n        \"description\": \"\"\n      }\n    },\n    {\n      \"column\": \"New_versus_Repeat\",\n      \"properties\": {\n        \"dtype\": \"category\",\n        \"num_unique_values\": 1,\n        \"samples\": [\n          \"Repeat Loan\"\n        ],\n        \"semantic_type\": \"\",\n        \"description\": \"\"\n      }\n    },\n    {\n      \"column\": \"Amount_Funded_By_Lender\",\n      \"properties\": {\n        \"dtype\": \"number\",\n        \"std\": 427.6754692520954,\n        \"min\": 0.0,\n        \"max\": 1013.7,\n        \"num_unique_values\": 5,\n        \"samples\": [\n          0.0\n        ],\n        \"semantic_type\": \"\",\n        \"description\": \"\"\n      }\n    },\n    {\n      \"column\": \"Lender_portion_Funded\",\n      \"properties\": {\n        \"dtype\": \"number\",\n        \"std\": 0.15769813335779737,\n        \"min\": 0.0,\n        \"max\": 0.3,\n        \"num_unique_values\": 3,\n        \"samples\": [\n          0.3\n        ],\n        \"semantic_type\": \"\",\n        \"description\": \"\"\n      }\n    },\n    {\n      \"column\": \"Lender_portion_to_be_repaid\",\n      \"properties\": {\n        \"dtype\": \"number\",\n        \"std\": 430.3951672591132,\n        \"min\": 0.0,\n        \"max\": 1014.0,\n        \"num_unique_values\": 5,\n        \"samples\": [\n          0.0\n        ],\n        \"semantic_type\": \"\",\n        \"description\": \"\"\n      }\n    }\n  ]\n}"
            }
          },
          "metadata": {}
        },
        {
          "output_type": "display_data",
          "data": {
            "text/plain": [
              "(18594, 15)"
            ]
          },
          "metadata": {}
        }
      ],
      "source": [
        "# Loading the train dataset\n",
        "train = pd.read_csv('Train.csv')\n",
        "test = pd.read_csv('Test.csv')\n",
        "# Display the first few rows of the datasets and their shape\n",
        "display(\"Train\", train.head(), train.shape, \"Test\", test.head(), test.shape)"
      ]
    },
    {
      "cell_type": "code",
      "execution_count": null,
      "metadata": {
        "colab": {
          "base_uri": "https://localhost:8080/"
        },
        "id": "m2iSLCpUrjRo",
        "outputId": "cb22901c-ddf1-4343-ae4c-51150bed86a8"
      },
      "outputs": [
        {
          "output_type": "stream",
          "name": "stdout",
          "text": [
            "There are 0 missing values in the data.\n"
          ]
        }
      ],
      "source": [
        "# Are there missing values in the train dataset ?\n",
        "print(f\"There are {train.isna().sum().sum()} missing values in the data.\")"
      ]
    },
    {
      "cell_type": "code",
      "source": [
        "#indicator_data = pd.read_csv('economic_indicators.csv')\n",
        "#indicator_data.head(2)"
      ],
      "metadata": {
        "id": "Lq-MetBKwqFg"
      },
      "execution_count": null,
      "outputs": []
    },
    {
      "cell_type": "code",
      "source": [
        "#kenya_indicator = indicator_data.loc[indicator_data.Country == 'Kenya']"
      ],
      "metadata": {
        "id": "F3n_zKKjzcfe"
      },
      "execution_count": null,
      "outputs": []
    },
    {
      "cell_type": "code",
      "source": [
        "#kenya_indicator.head(1)"
      ],
      "metadata": {
        "id": "PkOyc2l50ZcU"
      },
      "execution_count": null,
      "outputs": []
    },
    {
      "cell_type": "code",
      "source": [
        "#kenya_indicator.columns = list(map(lambda x: x[2:], indicator_data.columns))"
      ],
      "metadata": {
        "id": "QQwCtZos1Jqp"
      },
      "execution_count": null,
      "outputs": []
    },
    {
      "cell_type": "code",
      "source": [
        "#kenya_indicator.head(1)"
      ],
      "metadata": {
        "id": "N7Ggc3KX2GoB"
      },
      "execution_count": null,
      "outputs": []
    },
    {
      "cell_type": "markdown",
      "source": [
        "indicator_dict = {}\n",
        "for indicator_name in kenya_indicator.dicator:\n",
        "    for year in kenya_indicator.columns[2:]:\n",
        "        if year>\"2020\":\n",
        "            indicator_dict[indicator_name+year] = kenya_indicator.loc[kenya_indicator.dicator == indicator_name, year].values[0]"
      ],
      "metadata": {
        "id": "VYCel1w_TlVi"
      }
    },
    {
      "cell_type": "code",
      "source": [
        "def enrich_data(indicator_name,disbursement_date,indicator_dict):\n",
        "\n",
        "    if float(indicator_name[-4:]) == float(disbursement_date.year):\n",
        "\n",
        "        return indicator_dict[indicator_name]\n",
        "    else:\n",
        "        return np.nan\n"
      ],
      "metadata": {
        "id": "ynJjSPG641hJ"
      },
      "execution_count": null,
      "outputs": []
    },
    {
      "cell_type": "code",
      "source": [
        "def enrich_data(indicator_name, disbursement_date, indicator_dict):\n",
        "    if indicator_name in indicator_dict:\n",
        "        year = str(disbursement_date.year)\n",
        "        if year in indicator_name:\n",
        "          return indicator_dict[indicator_name]\n",
        "        else:\n",
        "          return np.nan\n",
        "    else:\n",
        "      return np.nan"
      ],
      "metadata": {
        "id": "sxqPjytI34f4"
      },
      "execution_count": null,
      "outputs": []
    },
    {
      "cell_type": "code",
      "source": [
        "def load_and_preprocess_data(train_path, test_path, indicator_path, inflation_path, cbr_path, interest_path):\n",
        "    \"\"\"\n",
        "    Charge et pré-traite les ensembles de données.\n",
        "\n",
        "    Args:\n",
        "        train_path (str): Chemin vers le fichier d'entraînement.\n",
        "        test_path (str): Chemin vers le fichier de test.\n",
        "        indicator_path (str): Chemin vers le fichier des indicateurs économiques.\n",
        "        inflation_path (str): Chemin vers le fichier des taux d'inflation.\n",
        "        cbr_path(str): Chemin vers le fichier des taux de la banque centrale\n",
        "        interest_path(str): Chemin vers le fichier des taux d'intérêts bancaires\n",
        "\n",
        "    Returns:\n",
        "        tuple: Un tuple contenant les DataFrames train, test, indicator_data,\n",
        "               inflation_data, cbr, et interest_rate.\n",
        "    \"\"\"\n",
        "    try:\n",
        "        train = pd.read_csv(train_path)\n",
        "        test = pd.read_csv(test_path)\n",
        "        indicator_data = pd.read_csv(indicator_path)\n",
        "        inflation_data = pd.read_csv(inflation_path)\n",
        "        cbr = pd.read_csv(cbr_path, header=1)\n",
        "        interest_rate = pd.read_csv(interest_path, header=1)\n",
        "\n",
        "        train[\"disbursement_date\"] = pd.to_datetime(train[\"disbursement_date\"])\n",
        "        train[\"due_date\"] = pd.to_datetime(train[\"due_date\"])\n",
        "\n",
        "        train[\"month_int\"] = train[\"disbursement_date\"].apply(lambda x: x.month)\n",
        "        train[\"day\"] = train[\"disbursement_date\"].apply(lambda x: x.day)\n",
        "\n",
        "        test[\"disbursement_date\"] = pd.to_datetime(test[\"disbursement_date\"])\n",
        "        test[\"due_date\"] = pd.to_datetime(test[\"due_date\"])\n",
        "\n",
        "        test[\"month_int\"] = test[\"disbursement_date\"].apply(lambda x: x.month)\n",
        "        test[\"day\"] = test[\"disbursement_date\"].apply(lambda x: x.day)\n",
        "\n",
        "        # Conversion des dates\n",
        "        for df in [train, test]:\n",
        "            df[\"disbursement_date\"] = pd.to_datetime(df[\"disbursement_date\"])\n",
        "            df[\"due_date\"] = pd.to_datetime(df[\"due_date\"])\n",
        "\n",
        "        return train, test, indicator_data, inflation_data, cbr, interest_rate\n",
        "    except FileNotFoundError:\n",
        "        print(\"Erreur : Un ou plusieurs fichiers de données n'ont pas été trouvés.\")\n",
        "        return None, None, None, None, None, None\n",
        "    except Exception as e:\n",
        "        print(f\"Une erreur est survenue : {e}\")\n",
        "        return None, None, None, None, None, None\n",
        "\n",
        "\n",
        "def prepare_kenya_indicators(indicator_data):\n",
        "    \"\"\"\n",
        "    Prépare les indicateurs économiques pour le Kenya.\n",
        "\n",
        "    Args:\n",
        "        indicator_data (pd.DataFrame): DataFrame des indicateurs économiques.\n",
        "\n",
        "    Returns:\n",
        "        tuple: DataFrame des indicateurs pour le Kenya et un dictionnaire\n",
        "               d'indicateurs.\n",
        "    \"\"\"\n",
        "    kenya_indicator = indicator_data.loc[indicator_data.Country == 'Kenya'].copy()\n",
        "    kenya_indicator.columns = list(map(lambda x: x[2:], indicator_data.columns))\n",
        "    indicator_dict = {}\n",
        "    for indicator_name in kenya_indicator.dicator:\n",
        "        for year in kenya_indicator.columns[2:]:\n",
        "            if year > \"2020\":\n",
        "                indicator_dict[indicator_name + year] = kenya_indicator.loc[\n",
        "                    kenya_indicator.dicator == indicator_name, year].values[0]\n",
        "    return kenya_indicator, indicator_dict"
      ],
      "metadata": {
        "id": "PxotXqSg34c4"
      },
      "execution_count": null,
      "outputs": []
    },
    {
      "cell_type": "code",
      "source": [
        "def enrich_data(indicator_name, disbursement_date, indicator_dict):\n",
        "    \"\"\"\n",
        "    Enrichit les données avec des indicateurs économiques.\n",
        "\n",
        "    Args:\n",
        "        indicator_name (str): Nom de l'indicateur.\n",
        "        disbursement_date (pd.Timestamp): Date de décaissement.\n",
        "        indicator_dict (dict): Dictionnaire des indicateurs.\n",
        "\n",
        "    Returns:\n",
        "        float: La valeur de l'indicateur ou np.nan.\n",
        "    \"\"\"\n",
        "    if indicator_name in indicator_dict:\n",
        "        year = str(disbursement_date.year)\n",
        "        if year in indicator_name:\n",
        "            return indicator_dict[indicator_name]\n",
        "        else:\n",
        "            return np.nan\n",
        "    else:\n",
        "        return np.nan"
      ],
      "metadata": {
        "id": "AA9tOORh4XoU"
      },
      "execution_count": null,
      "outputs": []
    },
    {
      "cell_type": "code",
      "source": [
        "def apply_economic_indicators(df, indicator_dict):\n",
        "    \"\"\"\n",
        "    Applique les indicateurs économiques à un DataFrame.\n",
        "\n",
        "    Args:\n",
        "        df (pd.DataFrame): DataFrame à enrichir.\n",
        "        indicator_dict (dict): Dictionnaire des indicateurs.\n",
        "\n",
        "    Returns:\n",
        "        pd.DataFrame: DataFrame enrichi.\n",
        "    \"\"\"\n",
        "    for key in indicator_dict.keys():\n",
        "        df[key[:-4]] = df.disbursement_date.apply(\n",
        "            lambda x: enrich_data(key, x, indicator_dict) if x.year < 2024 else np.nan\n",
        "        )\n",
        "    return df"
      ],
      "metadata": {
        "id": "pGyLDgKP4kDk"
      },
      "execution_count": null,
      "outputs": []
    },
    {
      "cell_type": "code",
      "source": [
        "def clean_data(df):\n",
        "    \"\"\"\n",
        "    Nettoie le DataFrame en supprimant certaines colonnes et en ajoutant\n",
        "    les colonnes 'month' et 'day'.\n",
        "\n",
        "    Args:\n",
        "        df (pd.DataFrame): DataFrame à nettoyer.\n",
        "\n",
        "    Returns:\n",
        "        pd.DataFrame: DataFrame nettoyé.\n",
        "    \"\"\"\n",
        "    df_cleaned = df\n",
        "    df_cleaned[\"month\"] = df_cleaned[\"disbursement_date\"].apply(lambda x: x.month)\n",
        "    df_cleaned[\"day\"] = df_cleaned[\"disbursement_date\"].apply(lambda x: x.day)\n",
        "    return df_cleaned"
      ],
      "metadata": {
        "id": "UcywRrQI4lm_"
      },
      "execution_count": null,
      "outputs": []
    },
    {
      "cell_type": "code",
      "source": [
        "def prepare_inflation_data(inflation_data):\n",
        "    \"\"\"\n",
        "    Prépare les données d'inflation.\n",
        "\n",
        "    Args:\n",
        "        inflation_data (pd.DataFrame): DataFrame des données d'inflation.\n",
        "\n",
        "    Returns:\n",
        "        pd.DataFrame: DataFrame des données d'inflation préparées.\n",
        "    \"\"\"\n",
        "    Months = [\"January\", \"February\", \"March\", \"April\", \"May\", \"June\", \"July\", \"August\", \"September\", \"October\", \"November\",\n",
        "              \"December\"]\n",
        "    Encodage = {Months[i - 1]: i for i in range(1, 13)}\n",
        "    inflation_data[\"month_int\"] = inflation_data[\"Month\"].apply(lambda x: Encodage[x])\n",
        "    inflation_data = inflation_data[inflation_data[\"Year\"] >= 2021]\n",
        "    return inflation_data"
      ],
      "metadata": {
        "id": "02-Gp6Sd4pIH"
      },
      "execution_count": null,
      "outputs": []
    },
    {
      "cell_type": "code",
      "source": [
        "#prepare_inflation_data(inflation_data)"
      ],
      "metadata": {
        "id": "9rp2H0c1RxlK"
      },
      "execution_count": null,
      "outputs": []
    },
    {
      "cell_type": "code",
      "source": [
        "import pandas as pd\n",
        "\n",
        "def join_data_with_inflation(df, inflation_data):\n",
        "    \"\"\"\n",
        "    Joint les données avec les données d'inflation, en préservant le nombre de lignes de df.\n",
        "\n",
        "    Args:\n",
        "        df (pd.DataFrame): DataFrame à joindre (le DataFrame de gauche).\n",
        "        inflation_data (pd.DataFrame): DataFrame des données d'inflation (le DataFrame de droite).\n",
        "\n",
        "    Returns:\n",
        "        pd.DataFrame: DataFrame joint avec le même nombre de lignes que df.\n",
        "    \"\"\"\n",
        "    # Créer les colonnes 'Year' et 'month' si elles n'existent pas dans df\n",
        "    if 'Year' not in df.columns:\n",
        "        df['Year'] = df['disbursement_date'].dt.year\n",
        "    if 'month' not in df.columns:\n",
        "        df['month'] = df['disbursement_date'].dt.month\n",
        "\n",
        "    # Vérifier si 'month_int' existe dans inflation_data\n",
        "    #if 'month' not in inflation_data.columns:\n",
        "    #    raise ValueError(\"'month_int' column is missing in inflation_data, please check your dataframe\")\n",
        "\n",
        "    # Renommer 'month_int' en 'month'\n",
        "    inflation_data.rename(columns={'month_int': 'month'}, inplace=True)\n",
        "\n",
        "    # Vérifier et traiter les doublons dans inflation_data\n",
        "    if inflation_data.duplicated(subset=['Year', 'month']).any():\n",
        "        print(\"Attention : Des doublons ont été détectés dans inflation_data pour les colonnes 'Year' et 'month'.\")\n",
        "        print(\"Les doublons seront supprimés en gardant la première occurence.\")\n",
        "        # Supprimer les doublons en gardant la première occurrence\n",
        "        inflation_data.drop_duplicates(subset=['Year', 'month'], keep='first', inplace=True)\n",
        "\n",
        "\n",
        "    # Effectuer la jointure gauche\n",
        "    joined_df = pd.merge(df, inflation_data, on=['Year', 'month'], how='left')\n",
        "\n",
        "    return joined_df\n",
        "\n",
        "\n",
        "def prepare_cbr_data(cbr):\n",
        "    \"\"\"\n",
        "    Prépare les données des taux de la banque centrale.\n",
        "\n",
        "    Args:\n",
        "        cbr (pd.DataFrame): DataFrame des taux de la banque centrale.\n",
        "\n",
        "    Returns:\n",
        "        pd.DataFrame: DataFrame des taux de la banque centrale préparés.\n",
        "    \"\"\"\n",
        "    cbr[\"YEAR\"] = pd.to_numeric(cbr[\"YEAR\"], errors='coerce')\n",
        "    cbr = cbr[cbr[\"YEAR\"] >= 2021]\n",
        "    cbr = cbr[[\"YEAR\", \"Interbank Rate\", \"Central Bank Rate\"]].dropna()\n",
        "    cbr = cbr.rename(columns={\"YEAR\": \"Year\"})\n",
        "    return cbr\n",
        "\n",
        "\n",
        "def join_data_with_cbr(df, cbr):\n",
        "    \"\"\"\n",
        "    Joint les données avec les données des taux de la banque centrale.\n",
        "\n",
        "    Args:\n",
        "        df (pd.DataFrame): DataFrame à joindre.\n",
        "        cbr (pd.DataFrame): DataFrame des taux de la banque centrale.\n",
        "\n",
        "    Returns:\n",
        "        pd.DataFrame: DataFrame joint.\n",
        "    \"\"\"\n",
        "    return pd.merge(df, cbr, on='Year', how='left')\n",
        "\n",
        "\n",
        "def prepare_interest_rate_data(interest_rate):\n",
        "    \"\"\"\n",
        "    Prépare les données des taux d'intérêt.\n",
        "\n",
        "    Args:\n",
        "        interest_rate (pd.DataFrame): DataFrame des taux d'intérêt.\n",
        "\n",
        "    Returns:\n",
        "        pd.DataFrame: DataFrame des taux d'intérêt préparés.\n",
        "    \"\"\"\n",
        "    interest_rate[\"YEAR\"] = pd.to_numeric(interest_rate[\"YEAR\"], errors='coerce')\n",
        "    interest_rate = interest_rate[interest_rate[\"YEAR\"] >= 2021].dropna()\n",
        "    interest_rate[\"interest_rate_spread\"] = interest_rate[\"Lending \"] - interest_rate[\"Deposit\"]\n",
        "    interest_rate = interest_rate[['YEAR', 'MONTH', 'Deposit', 'Savings', 'Lending ', 'Overdraft ',\n",
        "                                   'interest_rate_spread']].rename(columns={\"YEAR\": \"Year\"})\n",
        "    return interest_rate\n",
        "\n",
        "\n",
        "def join_data_with_interest_rate(df, interest_rate):\n",
        "    \"\"\"\n",
        "    Joint les données avec les données des taux d'intérêt.\n",
        "\n",
        "    Args:\n",
        "        df (pd.DataFrame): DataFrame à joindre.\n",
        "        interest_rate (pd.DataFrame): DataFrame des taux d'intérêt.\n",
        "\n",
        "    Returns:\n",
        "        pd.DataFrame: DataFrame joint.\n",
        "    \"\"\"\n",
        "    return pd.merge(df, interest_rate, on='Year', how='left')\n",
        "\n",
        "\n",
        "def drop_unnecessary_columns(df):\n",
        "    \"\"\"\n",
        "    Supprime les colonnes inutiles du DataFrame.\n",
        "\n",
        "    Args:\n",
        "        df (pd.DataFrame): DataFrame à traiter.\n",
        "\n",
        "    Returns:\n",
        "        pd.DataFrame: DataFrame avec les colonnes supprimées.\n",
        "    \"\"\"\n",
        "    na_col = [\"Lending interest rate (%)\", \"Deposit interest rate (%)\", \"Real interest rate (%)\",\n",
        "              \"Official exchange rate (LCU per US$, period average)\",\n",
        "              \"Inflation, consumer prices (annual %)\", \"Month\", \"Annual Average Inflation\",\n",
        "              \"Interest rate spread (lending rate minus deposit rate, %)\"]\n",
        "    return df.drop(columns=na_col)\n",
        "\n",
        "\n",
        "def fill_missing_values(df):\n",
        "    \"\"\"\n",
        "    Remplit les valeurs manquantes avec des valeurs spécifiques.\n",
        "\n",
        "    Args:\n",
        "        df (pd.DataFrame): DataFrame à traiter.\n",
        "\n",
        "    Returns:\n",
        "        pd.DataFrame: DataFrame avec les valeurs manquantes remplies.\n",
        "    \"\"\"\n",
        "    df['Unemployment rate'] = df['Unemployment rate'].fillna(6.81)\n",
        "    df['12-Month Inflation'] = df['12-Month Inflation'].fillna(2.8)\n",
        "    return df\n",
        "\n",
        "\n",
        "def convert_central_bank_rate_to_float(df):\n",
        "    \"\"\"\n",
        "    Convertit la colonne \"Central Bank Rate\" en type float.\n",
        "\n",
        "    Args:\n",
        "        df (pd.DataFrame): DataFrame à traiter.\n",
        "\n",
        "    Returns:\n",
        "        pd.DataFrame: DataFrame avec la colonne \"Central Bank Rate\" en float.\n",
        "    \"\"\"\n",
        "    df[\"Central Bank Rate\"] = df[\"Central Bank Rate\"].astype(float)\n",
        "    return df\n",
        "def drop_categorical_columns(df,cols):\n",
        "    return df.drop(columns=cols)\n",
        "\n",
        "def transform_categorical_columns(df, categorical_columns):\n",
        "    \"\"\"\n",
        "    Transforme les colonnes catégorielles en utilisant get_dummies.\n",
        "\n",
        "    Args:\n",
        "        df (pd.DataFrame): DataFrame à traiter.\n",
        "        categorical_columns (list): Liste des noms de colonnes catégorielles.\n",
        "\n",
        "    Returns:\n",
        "        pd.DataFrame: DataFrame avec les colonnes catégorielles transformées.\n",
        "    \"\"\"\n",
        "    return pd.get_dummies(df, columns=categorical_columns, dtype=int)"
      ],
      "metadata": {
        "id": "eyj8j6Oi4pEy"
      },
      "execution_count": null,
      "outputs": []
    },
    {
      "cell_type": "code",
      "source": [
        "# Exemple d'utilisation :\n",
        "train_path = 'Train.csv'\n",
        "test_path = 'Test.csv'\n",
        "indicator_path = 'economic_indicators.csv'\n",
        "inflation_path = \"Inflation Rates.csv\"\n",
        "cbr_path = \"410481034_Central Bank Rates.csv\"\n",
        "interest_path = \"1041425461_Cormercial banks Weighted Average Rates.csv\"\n",
        "\n",
        "# 1. Charger et pré-traiter les données\n",
        "train, test, indicator_data, inflation_data, cbr, interest_rate = load_and_preprocess_data(train_path, test_path,\n",
        "                                                                                              indicator_path,\n",
        "                                                                                              inflation_path, cbr_path,\n",
        "                                                                                              interest_path)\n",
        "samp_sub = pd.read_csv(\"SampleSubmission.csv\")"
      ],
      "metadata": {
        "id": "eDOLElInBvjh"
      },
      "execution_count": null,
      "outputs": []
    },
    {
      "cell_type": "code",
      "source": [
        "#2. Préparer les indicateurs pour le Kenya\n",
        "kenya_indicator, indicator_dict = prepare_kenya_indicators(indicator_data)\n",
        "\n",
        "#3. Enrichir les données de train et test avec les indicateurs\n",
        "train = apply_economic_indicators(train, indicator_dict)\n",
        "test = apply_economic_indicators(test, indicator_dict)"
      ],
      "metadata": {
        "id": "MTAKRzJ8CENp"
      },
      "execution_count": null,
      "outputs": []
    },
    {
      "cell_type": "code",
      "source": [
        "train.shape,test.shape,samp_sub.shape"
      ],
      "metadata": {
        "colab": {
          "base_uri": "https://localhost:8080/"
        },
        "id": "8cKo922hE-O7",
        "outputId": "d799d4dc-e726-4603-c348-01ca3f48ea23"
      },
      "execution_count": null,
      "outputs": [
        {
          "output_type": "execute_result",
          "data": {
            "text/plain": [
              "((68654, 27), (18594, 26), (18594, 2))"
            ]
          },
          "metadata": {},
          "execution_count": 138
        }
      ]
    },
    {
      "cell_type": "code",
      "source": [
        "#4. Nettoyer les données de train et test\n",
        "train = clean_data(train)\n",
        "test = clean_data(test)"
      ],
      "metadata": {
        "id": "EcN9s5xkCPhL"
      },
      "execution_count": null,
      "outputs": []
    },
    {
      "cell_type": "code",
      "source": [
        "train.shape,test.shape,samp_sub.shape"
      ],
      "metadata": {
        "colab": {
          "base_uri": "https://localhost:8080/"
        },
        "id": "V4P9R3bhE8w3",
        "outputId": "d9ff93ec-9d78-4e08-b082-2fd9c7a6380d"
      },
      "execution_count": null,
      "outputs": [
        {
          "output_type": "execute_result",
          "data": {
            "text/plain": [
              "((68654, 28), (18594, 27), (18594, 2))"
            ]
          },
          "metadata": {},
          "execution_count": 140
        }
      ]
    },
    {
      "cell_type": "code",
      "source": [
        "#5. Préparer les données d'inflation\n",
        "inflation_data = prepare_inflation_data(inflation_data)\n",
        "\n",
        "#6. Joindre les données d'inflation aux données de train et test\n",
        "train = join_data_with_inflation(train, inflation_data)\n",
        "test = join_data_with_inflation(test, inflation_data)"
      ],
      "metadata": {
        "colab": {
          "base_uri": "https://localhost:8080/"
        },
        "id": "VabOGAO3DLMD",
        "outputId": "12388d75-db3c-4f2d-a384-22b916047ab7"
      },
      "execution_count": null,
      "outputs": [
        {
          "output_type": "stream",
          "name": "stdout",
          "text": [
            "Attention : Des doublons ont été détectés dans inflation_data pour les colonnes 'Year' et 'month'.\n",
            "Les doublons seront supprimés en gardant la première occurence.\n"
          ]
        }
      ]
    },
    {
      "cell_type": "code",
      "source": [
        "inflation_data.head()"
      ],
      "metadata": {
        "colab": {
          "base_uri": "https://localhost:8080/",
          "height": 206
        },
        "id": "z2K13BocVAv2",
        "outputId": "c33c35bb-41dc-4279-c909-688f532a8653"
      },
      "execution_count": null,
      "outputs": [
        {
          "output_type": "execute_result",
          "data": {
            "text/plain": [
              "   Year      Month  Annual Average Inflation  12-Month Inflation  month\n",
              "0  2024    October                      5.14                2.72     10\n",
              "1  2024  September                      5.50                3.56      9\n",
              "2  2024     August                      5.77                4.36      8\n",
              "3  2024       July                      5.97                4.31      7\n",
              "4  2024       June                      4.64                6.22      6"
            ],
            "text/html": [
              "\n",
              "  <div id=\"df-a53afc14-d04e-4cfe-95a1-37cf8a94dedb\" class=\"colab-df-container\">\n",
              "    <div>\n",
              "<style scoped>\n",
              "    .dataframe tbody tr th:only-of-type {\n",
              "        vertical-align: middle;\n",
              "    }\n",
              "\n",
              "    .dataframe tbody tr th {\n",
              "        vertical-align: top;\n",
              "    }\n",
              "\n",
              "    .dataframe thead th {\n",
              "        text-align: right;\n",
              "    }\n",
              "</style>\n",
              "<table border=\"1\" class=\"dataframe\">\n",
              "  <thead>\n",
              "    <tr style=\"text-align: right;\">\n",
              "      <th></th>\n",
              "      <th>Year</th>\n",
              "      <th>Month</th>\n",
              "      <th>Annual Average Inflation</th>\n",
              "      <th>12-Month Inflation</th>\n",
              "      <th>month</th>\n",
              "    </tr>\n",
              "  </thead>\n",
              "  <tbody>\n",
              "    <tr>\n",
              "      <th>0</th>\n",
              "      <td>2024</td>\n",
              "      <td>October</td>\n",
              "      <td>5.14</td>\n",
              "      <td>2.72</td>\n",
              "      <td>10</td>\n",
              "    </tr>\n",
              "    <tr>\n",
              "      <th>1</th>\n",
              "      <td>2024</td>\n",
              "      <td>September</td>\n",
              "      <td>5.50</td>\n",
              "      <td>3.56</td>\n",
              "      <td>9</td>\n",
              "    </tr>\n",
              "    <tr>\n",
              "      <th>2</th>\n",
              "      <td>2024</td>\n",
              "      <td>August</td>\n",
              "      <td>5.77</td>\n",
              "      <td>4.36</td>\n",
              "      <td>8</td>\n",
              "    </tr>\n",
              "    <tr>\n",
              "      <th>3</th>\n",
              "      <td>2024</td>\n",
              "      <td>July</td>\n",
              "      <td>5.97</td>\n",
              "      <td>4.31</td>\n",
              "      <td>7</td>\n",
              "    </tr>\n",
              "    <tr>\n",
              "      <th>4</th>\n",
              "      <td>2024</td>\n",
              "      <td>June</td>\n",
              "      <td>4.64</td>\n",
              "      <td>6.22</td>\n",
              "      <td>6</td>\n",
              "    </tr>\n",
              "  </tbody>\n",
              "</table>\n",
              "</div>\n",
              "    <div class=\"colab-df-buttons\">\n",
              "\n",
              "  <div class=\"colab-df-container\">\n",
              "    <button class=\"colab-df-convert\" onclick=\"convertToInteractive('df-a53afc14-d04e-4cfe-95a1-37cf8a94dedb')\"\n",
              "            title=\"Convert this dataframe to an interactive table.\"\n",
              "            style=\"display:none;\">\n",
              "\n",
              "  <svg xmlns=\"http://www.w3.org/2000/svg\" height=\"24px\" viewBox=\"0 -960 960 960\">\n",
              "    <path d=\"M120-120v-720h720v720H120Zm60-500h600v-160H180v160Zm220 220h160v-160H400v160Zm0 220h160v-160H400v160ZM180-400h160v-160H180v160Zm440 0h160v-160H620v160ZM180-180h160v-160H180v160Zm440 0h160v-160H620v160Z\"/>\n",
              "  </svg>\n",
              "    </button>\n",
              "\n",
              "  <style>\n",
              "    .colab-df-container {\n",
              "      display:flex;\n",
              "      gap: 12px;\n",
              "    }\n",
              "\n",
              "    .colab-df-convert {\n",
              "      background-color: #E8F0FE;\n",
              "      border: none;\n",
              "      border-radius: 50%;\n",
              "      cursor: pointer;\n",
              "      display: none;\n",
              "      fill: #1967D2;\n",
              "      height: 32px;\n",
              "      padding: 0 0 0 0;\n",
              "      width: 32px;\n",
              "    }\n",
              "\n",
              "    .colab-df-convert:hover {\n",
              "      background-color: #E2EBFA;\n",
              "      box-shadow: 0px 1px 2px rgba(60, 64, 67, 0.3), 0px 1px 3px 1px rgba(60, 64, 67, 0.15);\n",
              "      fill: #174EA6;\n",
              "    }\n",
              "\n",
              "    .colab-df-buttons div {\n",
              "      margin-bottom: 4px;\n",
              "    }\n",
              "\n",
              "    [theme=dark] .colab-df-convert {\n",
              "      background-color: #3B4455;\n",
              "      fill: #D2E3FC;\n",
              "    }\n",
              "\n",
              "    [theme=dark] .colab-df-convert:hover {\n",
              "      background-color: #434B5C;\n",
              "      box-shadow: 0px 1px 3px 1px rgba(0, 0, 0, 0.15);\n",
              "      filter: drop-shadow(0px 1px 2px rgba(0, 0, 0, 0.3));\n",
              "      fill: #FFFFFF;\n",
              "    }\n",
              "  </style>\n",
              "\n",
              "    <script>\n",
              "      const buttonEl =\n",
              "        document.querySelector('#df-a53afc14-d04e-4cfe-95a1-37cf8a94dedb button.colab-df-convert');\n",
              "      buttonEl.style.display =\n",
              "        google.colab.kernel.accessAllowed ? 'block' : 'none';\n",
              "\n",
              "      async function convertToInteractive(key) {\n",
              "        const element = document.querySelector('#df-a53afc14-d04e-4cfe-95a1-37cf8a94dedb');\n",
              "        const dataTable =\n",
              "          await google.colab.kernel.invokeFunction('convertToInteractive',\n",
              "                                                    [key], {});\n",
              "        if (!dataTable) return;\n",
              "\n",
              "        const docLinkHtml = 'Like what you see? Visit the ' +\n",
              "          '<a target=\"_blank\" href=https://colab.research.google.com/notebooks/data_table.ipynb>data table notebook</a>'\n",
              "          + ' to learn more about interactive tables.';\n",
              "        element.innerHTML = '';\n",
              "        dataTable['output_type'] = 'display_data';\n",
              "        await google.colab.output.renderOutput(dataTable, element);\n",
              "        const docLink = document.createElement('div');\n",
              "        docLink.innerHTML = docLinkHtml;\n",
              "        element.appendChild(docLink);\n",
              "      }\n",
              "    </script>\n",
              "  </div>\n",
              "\n",
              "\n",
              "<div id=\"df-7e25cd20-d0ac-4408-856b-e154a7c7f7b9\">\n",
              "  <button class=\"colab-df-quickchart\" onclick=\"quickchart('df-7e25cd20-d0ac-4408-856b-e154a7c7f7b9')\"\n",
              "            title=\"Suggest charts\"\n",
              "            style=\"display:none;\">\n",
              "\n",
              "<svg xmlns=\"http://www.w3.org/2000/svg\" height=\"24px\"viewBox=\"0 0 24 24\"\n",
              "     width=\"24px\">\n",
              "    <g>\n",
              "        <path d=\"M19 3H5c-1.1 0-2 .9-2 2v14c0 1.1.9 2 2 2h14c1.1 0 2-.9 2-2V5c0-1.1-.9-2-2-2zM9 17H7v-7h2v7zm4 0h-2V7h2v10zm4 0h-2v-4h2v4z\"/>\n",
              "    </g>\n",
              "</svg>\n",
              "  </button>\n",
              "\n",
              "<style>\n",
              "  .colab-df-quickchart {\n",
              "      --bg-color: #E8F0FE;\n",
              "      --fill-color: #1967D2;\n",
              "      --hover-bg-color: #E2EBFA;\n",
              "      --hover-fill-color: #174EA6;\n",
              "      --disabled-fill-color: #AAA;\n",
              "      --disabled-bg-color: #DDD;\n",
              "  }\n",
              "\n",
              "  [theme=dark] .colab-df-quickchart {\n",
              "      --bg-color: #3B4455;\n",
              "      --fill-color: #D2E3FC;\n",
              "      --hover-bg-color: #434B5C;\n",
              "      --hover-fill-color: #FFFFFF;\n",
              "      --disabled-bg-color: #3B4455;\n",
              "      --disabled-fill-color: #666;\n",
              "  }\n",
              "\n",
              "  .colab-df-quickchart {\n",
              "    background-color: var(--bg-color);\n",
              "    border: none;\n",
              "    border-radius: 50%;\n",
              "    cursor: pointer;\n",
              "    display: none;\n",
              "    fill: var(--fill-color);\n",
              "    height: 32px;\n",
              "    padding: 0;\n",
              "    width: 32px;\n",
              "  }\n",
              "\n",
              "  .colab-df-quickchart:hover {\n",
              "    background-color: var(--hover-bg-color);\n",
              "    box-shadow: 0 1px 2px rgba(60, 64, 67, 0.3), 0 1px 3px 1px rgba(60, 64, 67, 0.15);\n",
              "    fill: var(--button-hover-fill-color);\n",
              "  }\n",
              "\n",
              "  .colab-df-quickchart-complete:disabled,\n",
              "  .colab-df-quickchart-complete:disabled:hover {\n",
              "    background-color: var(--disabled-bg-color);\n",
              "    fill: var(--disabled-fill-color);\n",
              "    box-shadow: none;\n",
              "  }\n",
              "\n",
              "  .colab-df-spinner {\n",
              "    border: 2px solid var(--fill-color);\n",
              "    border-color: transparent;\n",
              "    border-bottom-color: var(--fill-color);\n",
              "    animation:\n",
              "      spin 1s steps(1) infinite;\n",
              "  }\n",
              "\n",
              "  @keyframes spin {\n",
              "    0% {\n",
              "      border-color: transparent;\n",
              "      border-bottom-color: var(--fill-color);\n",
              "      border-left-color: var(--fill-color);\n",
              "    }\n",
              "    20% {\n",
              "      border-color: transparent;\n",
              "      border-left-color: var(--fill-color);\n",
              "      border-top-color: var(--fill-color);\n",
              "    }\n",
              "    30% {\n",
              "      border-color: transparent;\n",
              "      border-left-color: var(--fill-color);\n",
              "      border-top-color: var(--fill-color);\n",
              "      border-right-color: var(--fill-color);\n",
              "    }\n",
              "    40% {\n",
              "      border-color: transparent;\n",
              "      border-right-color: var(--fill-color);\n",
              "      border-top-color: var(--fill-color);\n",
              "    }\n",
              "    60% {\n",
              "      border-color: transparent;\n",
              "      border-right-color: var(--fill-color);\n",
              "    }\n",
              "    80% {\n",
              "      border-color: transparent;\n",
              "      border-right-color: var(--fill-color);\n",
              "      border-bottom-color: var(--fill-color);\n",
              "    }\n",
              "    90% {\n",
              "      border-color: transparent;\n",
              "      border-bottom-color: var(--fill-color);\n",
              "    }\n",
              "  }\n",
              "</style>\n",
              "\n",
              "  <script>\n",
              "    async function quickchart(key) {\n",
              "      const quickchartButtonEl =\n",
              "        document.querySelector('#' + key + ' button');\n",
              "      quickchartButtonEl.disabled = true;  // To prevent multiple clicks.\n",
              "      quickchartButtonEl.classList.add('colab-df-spinner');\n",
              "      try {\n",
              "        const charts = await google.colab.kernel.invokeFunction(\n",
              "            'suggestCharts', [key], {});\n",
              "      } catch (error) {\n",
              "        console.error('Error during call to suggestCharts:', error);\n",
              "      }\n",
              "      quickchartButtonEl.classList.remove('colab-df-spinner');\n",
              "      quickchartButtonEl.classList.add('colab-df-quickchart-complete');\n",
              "    }\n",
              "    (() => {\n",
              "      let quickchartButtonEl =\n",
              "        document.querySelector('#df-7e25cd20-d0ac-4408-856b-e154a7c7f7b9 button');\n",
              "      quickchartButtonEl.style.display =\n",
              "        google.colab.kernel.accessAllowed ? 'block' : 'none';\n",
              "    })();\n",
              "  </script>\n",
              "</div>\n",
              "\n",
              "    </div>\n",
              "  </div>\n"
            ],
            "application/vnd.google.colaboratory.intrinsic+json": {
              "type": "dataframe",
              "variable_name": "inflation_data",
              "summary": "{\n  \"name\": \"inflation_data\",\n  \"rows\": 46,\n  \"fields\": [\n    {\n      \"column\": \"Year\",\n      \"properties\": {\n        \"dtype\": \"number\",\n        \"std\": 1,\n        \"min\": 2021,\n        \"max\": 2024,\n        \"num_unique_values\": 4,\n        \"samples\": [\n          2023,\n          2021,\n          2024\n        ],\n        \"semantic_type\": \"\",\n        \"description\": \"\"\n      }\n    },\n    {\n      \"column\": \"Month\",\n      \"properties\": {\n        \"dtype\": \"category\",\n        \"num_unique_values\": 12,\n        \"samples\": [\n          \"December\",\n          \"January\",\n          \"October\"\n        ],\n        \"semantic_type\": \"\",\n        \"description\": \"\"\n      }\n    },\n    {\n      \"column\": \"Annual Average Inflation\",\n      \"properties\": {\n        \"dtype\": \"number\",\n        \"std\": 1.25978368283457,\n        \"min\": 4.64,\n        \"max\": 8.78,\n        \"num_unique_values\": 44,\n        \"samples\": [\n          5.71,\n          7.48,\n          6.81\n        ],\n        \"semantic_type\": \"\",\n        \"description\": \"\"\n      }\n    },\n    {\n      \"column\": \"12-Month Inflation\",\n      \"properties\": {\n        \"dtype\": \"number\",\n        \"std\": 1.6919203279514277,\n        \"min\": 2.72,\n        \"max\": 9.59,\n        \"num_unique_values\": 46,\n        \"samples\": [\n          6.55,\n          9.18,\n          8.53\n        ],\n        \"semantic_type\": \"\",\n        \"description\": \"\"\n      }\n    },\n    {\n      \"column\": \"month\",\n      \"properties\": {\n        \"dtype\": \"number\",\n        \"std\": 3,\n        \"min\": 1,\n        \"max\": 12,\n        \"num_unique_values\": 12,\n        \"samples\": [\n          12,\n          1,\n          10\n        ],\n        \"semantic_type\": \"\",\n        \"description\": \"\"\n      }\n    }\n  ]\n}"
            }
          },
          "metadata": {},
          "execution_count": 142
        }
      ]
    },
    {
      "cell_type": "code",
      "source": [
        "train.shape,test.shape,samp_sub.shape"
      ],
      "metadata": {
        "colab": {
          "base_uri": "https://localhost:8080/"
        },
        "id": "k4afuG2cE2Qz",
        "outputId": "192f2e2d-29c6-4036-94be-1dad26193774"
      },
      "execution_count": null,
      "outputs": [
        {
          "output_type": "execute_result",
          "data": {
            "text/plain": [
              "((68654, 32), (18594, 31), (18594, 2))"
            ]
          },
          "metadata": {},
          "execution_count": 143
        }
      ]
    },
    {
      "cell_type": "code",
      "source": [
        "cbr.head()"
      ],
      "metadata": {
        "colab": {
          "base_uri": "https://localhost:8080/",
          "height": 261
        },
        "id": "MZd9QAmTT3_0",
        "outputId": "75a39c63-bcd1-4931-a8dc-3f243f6b882a"
      },
      "execution_count": null,
      "outputs": [
        {
          "output_type": "execute_result",
          "data": {
            "text/plain": [
              "   YEAR MONTH                  Repo          Reverse Repo  Interbank Rate  \\\n",
              "0  1991   Jul                   -                     -               NaN   \n",
              "1   NaN   Aug                   -                     -               NaN   \n",
              "2   NaN   Sep                   -                     -               NaN   \n",
              "3   NaN   Oct                   -                     -               NaN   \n",
              "4   NaN   Nov                   -                     -               NaN   \n",
              "\n",
              "   91-Day Tbill        182-days Tbill        364-days Tbill  \\\n",
              "0         17.14                   -                     -     \n",
              "1         16.70                   -                     -     \n",
              "2         17.18                   -                     -     \n",
              "3         17.78                   -                     -     \n",
              "4         16.95                   -                     -     \n",
              "\n",
              "  Cash Reserve Requirement     Central Bank Rate  \n",
              "0                      -                     -    \n",
              "1                      -                     -    \n",
              "2                      -                     -    \n",
              "3                      NaN                   NaN  \n",
              "4                      NaN                   NaN  "
            ],
            "text/html": [
              "\n",
              "  <div id=\"df-72a3faa4-dd34-4d95-bc80-cdad4a42dea4\" class=\"colab-df-container\">\n",
              "    <div>\n",
              "<style scoped>\n",
              "    .dataframe tbody tr th:only-of-type {\n",
              "        vertical-align: middle;\n",
              "    }\n",
              "\n",
              "    .dataframe tbody tr th {\n",
              "        vertical-align: top;\n",
              "    }\n",
              "\n",
              "    .dataframe thead th {\n",
              "        text-align: right;\n",
              "    }\n",
              "</style>\n",
              "<table border=\"1\" class=\"dataframe\">\n",
              "  <thead>\n",
              "    <tr style=\"text-align: right;\">\n",
              "      <th></th>\n",
              "      <th>YEAR</th>\n",
              "      <th>MONTH</th>\n",
              "      <th>Repo</th>\n",
              "      <th>Reverse Repo</th>\n",
              "      <th>Interbank Rate</th>\n",
              "      <th>91-Day Tbill</th>\n",
              "      <th>182-days Tbill</th>\n",
              "      <th>364-days Tbill</th>\n",
              "      <th>Cash Reserve Requirement</th>\n",
              "      <th>Central Bank Rate</th>\n",
              "    </tr>\n",
              "  </thead>\n",
              "  <tbody>\n",
              "    <tr>\n",
              "      <th>0</th>\n",
              "      <td>1991</td>\n",
              "      <td>Jul</td>\n",
              "      <td>-</td>\n",
              "      <td>-</td>\n",
              "      <td>NaN</td>\n",
              "      <td>17.14</td>\n",
              "      <td>-</td>\n",
              "      <td>-</td>\n",
              "      <td>-</td>\n",
              "      <td>-</td>\n",
              "    </tr>\n",
              "    <tr>\n",
              "      <th>1</th>\n",
              "      <td>NaN</td>\n",
              "      <td>Aug</td>\n",
              "      <td>-</td>\n",
              "      <td>-</td>\n",
              "      <td>NaN</td>\n",
              "      <td>16.70</td>\n",
              "      <td>-</td>\n",
              "      <td>-</td>\n",
              "      <td>-</td>\n",
              "      <td>-</td>\n",
              "    </tr>\n",
              "    <tr>\n",
              "      <th>2</th>\n",
              "      <td>NaN</td>\n",
              "      <td>Sep</td>\n",
              "      <td>-</td>\n",
              "      <td>-</td>\n",
              "      <td>NaN</td>\n",
              "      <td>17.18</td>\n",
              "      <td>-</td>\n",
              "      <td>-</td>\n",
              "      <td>-</td>\n",
              "      <td>-</td>\n",
              "    </tr>\n",
              "    <tr>\n",
              "      <th>3</th>\n",
              "      <td>NaN</td>\n",
              "      <td>Oct</td>\n",
              "      <td>-</td>\n",
              "      <td>-</td>\n",
              "      <td>NaN</td>\n",
              "      <td>17.78</td>\n",
              "      <td>-</td>\n",
              "      <td>-</td>\n",
              "      <td>NaN</td>\n",
              "      <td>NaN</td>\n",
              "    </tr>\n",
              "    <tr>\n",
              "      <th>4</th>\n",
              "      <td>NaN</td>\n",
              "      <td>Nov</td>\n",
              "      <td>-</td>\n",
              "      <td>-</td>\n",
              "      <td>NaN</td>\n",
              "      <td>16.95</td>\n",
              "      <td>-</td>\n",
              "      <td>-</td>\n",
              "      <td>NaN</td>\n",
              "      <td>NaN</td>\n",
              "    </tr>\n",
              "  </tbody>\n",
              "</table>\n",
              "</div>\n",
              "    <div class=\"colab-df-buttons\">\n",
              "\n",
              "  <div class=\"colab-df-container\">\n",
              "    <button class=\"colab-df-convert\" onclick=\"convertToInteractive('df-72a3faa4-dd34-4d95-bc80-cdad4a42dea4')\"\n",
              "            title=\"Convert this dataframe to an interactive table.\"\n",
              "            style=\"display:none;\">\n",
              "\n",
              "  <svg xmlns=\"http://www.w3.org/2000/svg\" height=\"24px\" viewBox=\"0 -960 960 960\">\n",
              "    <path d=\"M120-120v-720h720v720H120Zm60-500h600v-160H180v160Zm220 220h160v-160H400v160Zm0 220h160v-160H400v160ZM180-400h160v-160H180v160Zm440 0h160v-160H620v160ZM180-180h160v-160H180v160Zm440 0h160v-160H620v160Z\"/>\n",
              "  </svg>\n",
              "    </button>\n",
              "\n",
              "  <style>\n",
              "    .colab-df-container {\n",
              "      display:flex;\n",
              "      gap: 12px;\n",
              "    }\n",
              "\n",
              "    .colab-df-convert {\n",
              "      background-color: #E8F0FE;\n",
              "      border: none;\n",
              "      border-radius: 50%;\n",
              "      cursor: pointer;\n",
              "      display: none;\n",
              "      fill: #1967D2;\n",
              "      height: 32px;\n",
              "      padding: 0 0 0 0;\n",
              "      width: 32px;\n",
              "    }\n",
              "\n",
              "    .colab-df-convert:hover {\n",
              "      background-color: #E2EBFA;\n",
              "      box-shadow: 0px 1px 2px rgba(60, 64, 67, 0.3), 0px 1px 3px 1px rgba(60, 64, 67, 0.15);\n",
              "      fill: #174EA6;\n",
              "    }\n",
              "\n",
              "    .colab-df-buttons div {\n",
              "      margin-bottom: 4px;\n",
              "    }\n",
              "\n",
              "    [theme=dark] .colab-df-convert {\n",
              "      background-color: #3B4455;\n",
              "      fill: #D2E3FC;\n",
              "    }\n",
              "\n",
              "    [theme=dark] .colab-df-convert:hover {\n",
              "      background-color: #434B5C;\n",
              "      box-shadow: 0px 1px 3px 1px rgba(0, 0, 0, 0.15);\n",
              "      filter: drop-shadow(0px 1px 2px rgba(0, 0, 0, 0.3));\n",
              "      fill: #FFFFFF;\n",
              "    }\n",
              "  </style>\n",
              "\n",
              "    <script>\n",
              "      const buttonEl =\n",
              "        document.querySelector('#df-72a3faa4-dd34-4d95-bc80-cdad4a42dea4 button.colab-df-convert');\n",
              "      buttonEl.style.display =\n",
              "        google.colab.kernel.accessAllowed ? 'block' : 'none';\n",
              "\n",
              "      async function convertToInteractive(key) {\n",
              "        const element = document.querySelector('#df-72a3faa4-dd34-4d95-bc80-cdad4a42dea4');\n",
              "        const dataTable =\n",
              "          await google.colab.kernel.invokeFunction('convertToInteractive',\n",
              "                                                    [key], {});\n",
              "        if (!dataTable) return;\n",
              "\n",
              "        const docLinkHtml = 'Like what you see? Visit the ' +\n",
              "          '<a target=\"_blank\" href=https://colab.research.google.com/notebooks/data_table.ipynb>data table notebook</a>'\n",
              "          + ' to learn more about interactive tables.';\n",
              "        element.innerHTML = '';\n",
              "        dataTable['output_type'] = 'display_data';\n",
              "        await google.colab.output.renderOutput(dataTable, element);\n",
              "        const docLink = document.createElement('div');\n",
              "        docLink.innerHTML = docLinkHtml;\n",
              "        element.appendChild(docLink);\n",
              "      }\n",
              "    </script>\n",
              "  </div>\n",
              "\n",
              "\n",
              "<div id=\"df-6dfab251-5805-4891-86e9-a090edcf8d50\">\n",
              "  <button class=\"colab-df-quickchart\" onclick=\"quickchart('df-6dfab251-5805-4891-86e9-a090edcf8d50')\"\n",
              "            title=\"Suggest charts\"\n",
              "            style=\"display:none;\">\n",
              "\n",
              "<svg xmlns=\"http://www.w3.org/2000/svg\" height=\"24px\"viewBox=\"0 0 24 24\"\n",
              "     width=\"24px\">\n",
              "    <g>\n",
              "        <path d=\"M19 3H5c-1.1 0-2 .9-2 2v14c0 1.1.9 2 2 2h14c1.1 0 2-.9 2-2V5c0-1.1-.9-2-2-2zM9 17H7v-7h2v7zm4 0h-2V7h2v10zm4 0h-2v-4h2v4z\"/>\n",
              "    </g>\n",
              "</svg>\n",
              "  </button>\n",
              "\n",
              "<style>\n",
              "  .colab-df-quickchart {\n",
              "      --bg-color: #E8F0FE;\n",
              "      --fill-color: #1967D2;\n",
              "      --hover-bg-color: #E2EBFA;\n",
              "      --hover-fill-color: #174EA6;\n",
              "      --disabled-fill-color: #AAA;\n",
              "      --disabled-bg-color: #DDD;\n",
              "  }\n",
              "\n",
              "  [theme=dark] .colab-df-quickchart {\n",
              "      --bg-color: #3B4455;\n",
              "      --fill-color: #D2E3FC;\n",
              "      --hover-bg-color: #434B5C;\n",
              "      --hover-fill-color: #FFFFFF;\n",
              "      --disabled-bg-color: #3B4455;\n",
              "      --disabled-fill-color: #666;\n",
              "  }\n",
              "\n",
              "  .colab-df-quickchart {\n",
              "    background-color: var(--bg-color);\n",
              "    border: none;\n",
              "    border-radius: 50%;\n",
              "    cursor: pointer;\n",
              "    display: none;\n",
              "    fill: var(--fill-color);\n",
              "    height: 32px;\n",
              "    padding: 0;\n",
              "    width: 32px;\n",
              "  }\n",
              "\n",
              "  .colab-df-quickchart:hover {\n",
              "    background-color: var(--hover-bg-color);\n",
              "    box-shadow: 0 1px 2px rgba(60, 64, 67, 0.3), 0 1px 3px 1px rgba(60, 64, 67, 0.15);\n",
              "    fill: var(--button-hover-fill-color);\n",
              "  }\n",
              "\n",
              "  .colab-df-quickchart-complete:disabled,\n",
              "  .colab-df-quickchart-complete:disabled:hover {\n",
              "    background-color: var(--disabled-bg-color);\n",
              "    fill: var(--disabled-fill-color);\n",
              "    box-shadow: none;\n",
              "  }\n",
              "\n",
              "  .colab-df-spinner {\n",
              "    border: 2px solid var(--fill-color);\n",
              "    border-color: transparent;\n",
              "    border-bottom-color: var(--fill-color);\n",
              "    animation:\n",
              "      spin 1s steps(1) infinite;\n",
              "  }\n",
              "\n",
              "  @keyframes spin {\n",
              "    0% {\n",
              "      border-color: transparent;\n",
              "      border-bottom-color: var(--fill-color);\n",
              "      border-left-color: var(--fill-color);\n",
              "    }\n",
              "    20% {\n",
              "      border-color: transparent;\n",
              "      border-left-color: var(--fill-color);\n",
              "      border-top-color: var(--fill-color);\n",
              "    }\n",
              "    30% {\n",
              "      border-color: transparent;\n",
              "      border-left-color: var(--fill-color);\n",
              "      border-top-color: var(--fill-color);\n",
              "      border-right-color: var(--fill-color);\n",
              "    }\n",
              "    40% {\n",
              "      border-color: transparent;\n",
              "      border-right-color: var(--fill-color);\n",
              "      border-top-color: var(--fill-color);\n",
              "    }\n",
              "    60% {\n",
              "      border-color: transparent;\n",
              "      border-right-color: var(--fill-color);\n",
              "    }\n",
              "    80% {\n",
              "      border-color: transparent;\n",
              "      border-right-color: var(--fill-color);\n",
              "      border-bottom-color: var(--fill-color);\n",
              "    }\n",
              "    90% {\n",
              "      border-color: transparent;\n",
              "      border-bottom-color: var(--fill-color);\n",
              "    }\n",
              "  }\n",
              "</style>\n",
              "\n",
              "  <script>\n",
              "    async function quickchart(key) {\n",
              "      const quickchartButtonEl =\n",
              "        document.querySelector('#' + key + ' button');\n",
              "      quickchartButtonEl.disabled = true;  // To prevent multiple clicks.\n",
              "      quickchartButtonEl.classList.add('colab-df-spinner');\n",
              "      try {\n",
              "        const charts = await google.colab.kernel.invokeFunction(\n",
              "            'suggestCharts', [key], {});\n",
              "      } catch (error) {\n",
              "        console.error('Error during call to suggestCharts:', error);\n",
              "      }\n",
              "      quickchartButtonEl.classList.remove('colab-df-spinner');\n",
              "      quickchartButtonEl.classList.add('colab-df-quickchart-complete');\n",
              "    }\n",
              "    (() => {\n",
              "      let quickchartButtonEl =\n",
              "        document.querySelector('#df-6dfab251-5805-4891-86e9-a090edcf8d50 button');\n",
              "      quickchartButtonEl.style.display =\n",
              "        google.colab.kernel.accessAllowed ? 'block' : 'none';\n",
              "    })();\n",
              "  </script>\n",
              "</div>\n",
              "\n",
              "    </div>\n",
              "  </div>\n"
            ],
            "application/vnd.google.colaboratory.intrinsic+json": {
              "type": "dataframe",
              "variable_name": "cbr",
              "summary": "{\n  \"name\": \"cbr\",\n  \"rows\": 401,\n  \"fields\": [\n    {\n      \"column\": \"YEAR\",\n      \"properties\": {\n        \"dtype\": \"category\",\n        \"num_unique_values\": 35,\n        \"samples\": [\n          \"2017\",\n          \"2004\",\n          \"2015\"\n        ],\n        \"semantic_type\": \"\",\n        \"description\": \"\"\n      }\n    },\n    {\n      \"column\": \"MONTH\",\n      \"properties\": {\n        \"dtype\": \"category\",\n        \"num_unique_values\": 24,\n        \"samples\": [\n          \"Mar\",\n          \"September\",\n          \"Jul\"\n        ],\n        \"semantic_type\": \"\",\n        \"description\": \"\"\n      }\n    },\n    {\n      \"column\": \"Repo\",\n      \"properties\": {\n        \"dtype\": \"string\",\n        \"num_unique_values\": 233,\n        \"samples\": [\n          \"7.23\",\n          \"6.04\",\n          \"8.73\"\n        ],\n        \"semantic_type\": \"\",\n        \"description\": \"\"\n      }\n    },\n    {\n      \"column\": \"Reverse Repo\",\n      \"properties\": {\n        \"dtype\": \"category\",\n        \"num_unique_values\": 106,\n        \"samples\": [\n          \"13.8\",\n          \"3.43\",\n          \"5.53\"\n        ],\n        \"semantic_type\": \"\",\n        \"description\": \"\"\n      }\n    },\n    {\n      \"column\": \"Interbank Rate\",\n      \"properties\": {\n        \"dtype\": \"number\",\n        \"std\": 4.064927458883131,\n        \"min\": 0.43,\n        \"max\": 28.9,\n        \"num_unique_values\": 259,\n        \"samples\": [\n          5.66,\n          3.56,\n          10.45\n        ],\n        \"semantic_type\": \"\",\n        \"description\": \"\"\n      }\n    },\n    {\n      \"column\": \"91-Day Tbill\",\n      \"properties\": {\n        \"dtype\": \"number\",\n        \"std\": 10.738596918332943,\n        \"min\": 0.83,\n        \"max\": 84.67,\n        \"num_unique_values\": 335,\n        \"samples\": [\n          79.51,\n          12.9,\n          26.36\n        ],\n        \"semantic_type\": \"\",\n        \"description\": \"\"\n      }\n    },\n    {\n      \"column\": \"182-days Tbill\",\n      \"properties\": {\n        \"dtype\": \"string\",\n        \"num_unique_values\": 287,\n        \"samples\": [\n          \"15.89\",\n          \"7.07\",\n          \"8.08\"\n        ],\n        \"semantic_type\": \"\",\n        \"description\": \"\"\n      }\n    },\n    {\n      \"column\": \"364-days Tbill\",\n      \"properties\": {\n        \"dtype\": \"category\",\n        \"num_unique_values\": 154,\n        \"samples\": [\n          \"6.77\",\n          \"9.45\",\n          \"16.82\"\n        ],\n        \"semantic_type\": \"\",\n        \"description\": \"\"\n      }\n    },\n    {\n      \"column\": \"Cash Reserve Requirement\",\n      \"properties\": {\n        \"dtype\": \"category\",\n        \"num_unique_values\": 8,\n        \"samples\": [\n          \"10\",\n          \"4.75\",\n          \"                 -  \"\n        ],\n        \"semantic_type\": \"\",\n        \"description\": \"\"\n      }\n    },\n    {\n      \"column\": \"Central Bank Rate\",\n      \"properties\": {\n        \"dtype\": \"category\",\n        \"num_unique_values\": 26,\n        \"samples\": [\n          \"7.75\",\n          \"18\",\n          \"                 -  \"\n        ],\n        \"semantic_type\": \"\",\n        \"description\": \"\"\n      }\n    }\n  ]\n}"
            }
          },
          "metadata": {},
          "execution_count": 144
        }
      ]
    },
    {
      "cell_type": "code",
      "source": [
        "#7. Préparer les données de la banque centrale\n",
        "cbr = prepare_cbr_data(cbr)\n",
        "\n",
        "#8. Joindre les données de la banque centrale aux données de train et test\n",
        "train = join_data_with_cbr(train, cbr)\n",
        "test = join_data_with_cbr(test, cbr)"
      ],
      "metadata": {
        "id": "FfKh5eKsDXM1"
      },
      "execution_count": null,
      "outputs": []
    },
    {
      "cell_type": "code",
      "source": [
        "train.shape,test.shape,samp_sub.shape"
      ],
      "metadata": {
        "colab": {
          "base_uri": "https://localhost:8080/"
        },
        "id": "YDxzpmSYCGaT",
        "outputId": "cf395de2-3932-41e7-cadd-7524e44fa60b"
      },
      "execution_count": null,
      "outputs": [
        {
          "output_type": "execute_result",
          "data": {
            "text/plain": [
              "((68654, 34), (18594, 33), (18594, 2))"
            ]
          },
          "metadata": {},
          "execution_count": 146
        }
      ]
    },
    {
      "cell_type": "code",
      "source": [
        "#9. Préparer les données des taux d'intérêt\n",
        "interest_rate = prepare_interest_rate_data(interest_rate)\n",
        "\n",
        "#10. Joindre les données des taux d'intérêt aux données de train et test\n",
        "train = join_data_with_interest_rate(train, interest_rate)\n",
        "test = join_data_with_interest_rate(test, interest_rate)\n",
        "\n",
        "#11. Supprimer les colonnes inutiles\n",
        "train = drop_unnecessary_columns(train)\n",
        "test = drop_unnecessary_columns(test)\n",
        "\n",
        "#12. Remplir les valeurs manquantes\n",
        "train = fill_missing_values(train)\n",
        "test = fill_missing_values(test)\n",
        "\n",
        "#13. Convertir \"Central Bank Rate\" en float\n",
        "train = convert_central_bank_rate_to_float(train)\n",
        "test = convert_central_bank_rate_to_float(test)"
      ],
      "metadata": {
        "id": "MaY4zdTS5PE6"
      },
      "execution_count": null,
      "outputs": []
    },
    {
      "cell_type": "code",
      "source": [
        "train.shape,test.shape,samp_sub.shape"
      ],
      "metadata": {
        "colab": {
          "base_uri": "https://localhost:8080/"
        },
        "id": "TzkYEvHfWGOL",
        "outputId": "527b36e4-ff2f-454a-aaf3-a35d1b0ff644"
      },
      "execution_count": null,
      "outputs": [
        {
          "output_type": "execute_result",
          "data": {
            "text/plain": [
              "((68654, 32), (18594, 31), (18594, 2))"
            ]
          },
          "metadata": {},
          "execution_count": 148
        }
      ]
    },
    {
      "cell_type": "code",
      "source": [
        "#14. Supprimer les colonnes inutiles pour la suite\n",
        "cols = [\"due_date\", \"ID\", \"customer_id\", \"country_id\", \"tbl_loan_id\", \"lender_id\"]\n",
        "train = drop_categorical_columns(train, cols)\n",
        "#15. transformer les colonnes categorielles en numeriques pour la suite\n",
        "cate_col = train.select_dtypes('object').columns[:]\n",
        "train = transform_categorical_columns(train,cate_col)\n",
        "test = transform_categorical_columns(test,cate_col)"
      ],
      "metadata": {
        "collapsed": true,
        "id": "TMm3t-sQ5TZn"
      },
      "execution_count": null,
      "outputs": []
    },
    {
      "cell_type": "code",
      "source": [
        "train.shape,test.shape,samp_sub.shape"
      ],
      "metadata": {
        "colab": {
          "base_uri": "https://localhost:8080/"
        },
        "id": "liYjlwMG5TWg",
        "outputId": "6ef6c2fb-fc72-4bc7-c34d-8cdc51665d72"
      },
      "execution_count": null,
      "outputs": [
        {
          "output_type": "execute_result",
          "data": {
            "text/plain": [
              "((68654, 49), (18594, 54), (18594, 2))"
            ]
          },
          "metadata": {},
          "execution_count": 150
        }
      ]
    },
    {
      "cell_type": "code",
      "source": [
        "to_drop_col = test.drop(columns='ID').columns.difference(train.columns)\n",
        "test = test.drop(columns=to_drop_col)"
      ],
      "metadata": {
        "id": "vL4eu7sI5TLi"
      },
      "execution_count": null,
      "outputs": []
    },
    {
      "cell_type": "code",
      "source": [
        "col_diff = train.drop(columns=\"target\").columns.difference(test.columns)\n",
        "\n",
        "train = train.drop(columns=col_diff)"
      ],
      "metadata": {
        "id": "hNXXlsnW9h54"
      },
      "execution_count": null,
      "outputs": []
    },
    {
      "cell_type": "code",
      "source": [
        "train.shape,test.shape,samp_sub.shape"
      ],
      "metadata": {
        "colab": {
          "base_uri": "https://localhost:8080/"
        },
        "id": "ACy41IyI8nHL",
        "outputId": "cce3b8d0-2fa6-452b-ea75-32c089007bed"
      },
      "execution_count": null,
      "outputs": [
        {
          "output_type": "execute_result",
          "data": {
            "text/plain": [
              "((68654, 47), (18594, 47), (18594, 2))"
            ]
          },
          "metadata": {},
          "execution_count": 153
        }
      ]
    },
    {
      "cell_type": "code",
      "source": [
        "import pandas as pd\n",
        "import numpy as np\n",
        "\n",
        "def create_interaction_features(df):\n",
        "    \"\"\"\n",
        "    Creates interaction features by multiplying pairs of existing numerical features.\n",
        "\n",
        "    Args:\n",
        "        df (pd.DataFrame): The input DataFrame.\n",
        "\n",
        "    Returns:\n",
        "        pd.DataFrame: The DataFrame with new interaction features added.\n",
        "    \"\"\"\n",
        "    df_copy = df.copy()\n",
        "    numerical_cols = df_copy.select_dtypes(include=np.number).columns.tolist()\n",
        "\n",
        "    # Avoid combining too many interactions in order to avoid huge numbers of columns\n",
        "    interactions_to_create = [\n",
        "        ('loan_amount', 'interest_rate_spread'),\n",
        "        ('month', 'lending'),\n",
        "        ('month', 'deposit'),\n",
        "        ('loan_amount', 'Central Bank Rate'),\n",
        "    ]\n",
        "\n",
        "    for col1, col2 in interactions_to_create:\n",
        "        if col1 in numerical_cols and col2 in numerical_cols:\n",
        "            df_copy[f'{col1}_x_{col2}'] = df_copy[col1] * df_copy[col2]\n",
        "\n",
        "    return df_copy\n",
        "\n",
        "def create_polynomial_features(df, degree=2):\n",
        "    \"\"\"\n",
        "    Creates polynomial features for specified numerical columns.\n",
        "\n",
        "    Args:\n",
        "        df (pd.DataFrame): The input DataFrame.\n",
        "        degree (int): The degree of the polynomial.\n",
        "\n",
        "    Returns:\n",
        "        pd.DataFrame: The DataFrame with new polynomial features added.\n",
        "    \"\"\"\n",
        "    df_copy = df.copy()\n",
        "    numerical_cols = df_copy.select_dtypes(include=np.number).columns.tolist()\n",
        "\n",
        "    polynomial_cols_to_create = [\n",
        "        'loan_amount',\n",
        "        'interest_rate_spread',\n",
        "    ]\n",
        "\n",
        "    for col in polynomial_cols_to_create:\n",
        "        if col in numerical_cols:\n",
        "            df_copy[f'{col}_poly_{degree}'] = df_copy[col] ** degree\n",
        "\n",
        "    return df_copy\n",
        "\n",
        "\n",
        "def create_loan_term_ratio(df):\n",
        "    \"\"\"\n",
        "    Creates a feature representing the loan amount per day.\n",
        "\n",
        "    Args:\n",
        "        df (pd.DataFrame): The input DataFrame.\n",
        "\n",
        "    Returns:\n",
        "        pd.DataFrame: The DataFrame with the new loan term ratio feature.\n",
        "    \"\"\"\n",
        "    df_copy = df.copy()\n",
        "    if \"disbursement_date\" in df_copy.columns and \"due_date\" in df_copy.columns and 'loan_amount' in df_copy.columns:\n",
        "\n",
        "        df_copy['loan_amount_per_day'] = df_copy['loan_amount'] / df_copy['duration']\n",
        "    return df_copy\n",
        "\n",
        "def create_loan_to_lending_ratio(df):\n",
        "    \"\"\"\n",
        "    Creates a ratio feature of loan amount to lending rate.\n",
        "\n",
        "    Args:\n",
        "        df (pd.DataFrame): The input DataFrame.\n",
        "\n",
        "    Returns:\n",
        "        pd.DataFrame: The DataFrame with the new ratio feature.\n",
        "    \"\"\"\n",
        "    df_copy = df.copy()\n",
        "    if \"loan_amount\" in df_copy.columns and \"Lending \" in df_copy.columns:\n",
        "      df_copy[\"loan_to_lending_ratio\"] = df_copy[\"loan_amount\"]/df_copy[\"Lending \"]\n",
        "    return df_copy\n",
        "\n",
        "def create_central_bank_rate_change(df):\n",
        "    \"\"\"\n",
        "    Creates a feature to calculate the change in Central Bank Rate compared to the previous year.\n",
        "\n",
        "    Args:\n",
        "        df (pd.DataFrame): The input DataFrame.\n",
        "\n",
        "    Returns:\n",
        "        pd.DataFrame: The DataFrame with the new Central Bank Rate change feature.\n",
        "    \"\"\"\n",
        "    df_copy = df.copy()\n",
        "\n",
        "    if \"Central Bank Rate\" in df_copy.columns:\n",
        "      df_copy['Year'] = pd.to_datetime(df_copy['disbursement_date']).dt.year\n",
        "      df_copy['Central Bank Rate Change'] = df_copy.groupby('Year')['Central Bank Rate'].diff()\n",
        "\n",
        "    return df_copy\n",
        "\n",
        "def apply_all_features(df):\n",
        "    \"\"\"\n",
        "    Applies all feature engineering functions to the DataFrame.\n",
        "\n",
        "    Args:\n",
        "        df (pd.DataFrame): The input DataFrame.\n",
        "\n",
        "    Returns:\n",
        "        pd.DataFrame: The DataFrame with all new features added.\n",
        "    \"\"\"\n",
        "    df_copy = df.copy()\n",
        "    df_copy = create_interaction_features(df_copy)\n",
        "    df_copy = create_polynomial_features(df_copy)\n",
        "    df_copy = create_loan_term_ratio(df_copy)\n",
        "    df_copy = create_loan_to_lending_ratio(df_copy)\n",
        "    df_copy = create_central_bank_rate_change(df_copy)\n",
        "    return df_copy"
      ],
      "metadata": {
        "id": "ZpPJisqp9eSL"
      },
      "execution_count": null,
      "outputs": []
    },
    {
      "cell_type": "code",
      "source": [
        "# Example of how to use the function (assuming you have your `train` and `test` DataFrames):\n",
        "train = apply_all_features(train)\n",
        "test = apply_all_features(test)"
      ],
      "metadata": {
        "id": "UEsC4ixf9d-b"
      },
      "execution_count": null,
      "outputs": []
    },
    {
      "cell_type": "code",
      "source": [
        "train = train.drop(columns=[\"disbursement_date\",'Average precipitation in depth (mm per year)',\n",
        "       'Fossil fuel energy consumption (% of total)'])\n",
        "test = test.drop(columns=[\"disbursement_date\",'Average precipitation in depth (mm per year)',\n",
        "       'Fossil fuel energy consumption (% of total)'])"
      ],
      "metadata": {
        "id": "4bMH-btBb8PB"
      },
      "execution_count": null,
      "outputs": []
    },
    {
      "cell_type": "code",
      "source": [
        "train.head()"
      ],
      "metadata": {
        "colab": {
          "base_uri": "https://localhost:8080/",
          "height": 308
        },
        "id": "f4XlWnXmWc1r",
        "outputId": "57ca366d-0c2d-46fe-eb47-0a908e2897b2"
      },
      "execution_count": null,
      "outputs": [
        {
          "output_type": "execute_result",
          "data": {
            "text/plain": [
              "   Total_Amount  Total_Amount_to_Repay  duration  Amount_Funded_By_Lender  \\\n",
              "0        8448.0                 8448.0         7                   120.85   \n",
              "1       25895.0                25979.0         7                  7768.50   \n",
              "2        6900.0                 7142.0         7                  1380.00   \n",
              "3        8958.0                 9233.0         7                  2687.40   \n",
              "4        4564.0                 4728.0         7                  1369.20   \n",
              "\n",
              "   Lender_portion_Funded  Lender_portion_to_be_repaid  target  month_int  day  \\\n",
              "0               0.014305                        121.0       0          8   30   \n",
              "1               0.300000                       7794.0       0          7   30   \n",
              "2               0.200000                       1428.0       0          9    6   \n",
              "3               0.300000                       2770.0       0         10   20   \n",
              "4               0.300000                       1418.0       0         11   28   \n",
              "\n",
              "   Unemployment rate  ...  loan_type_Type_5  loan_type_Type_6  \\\n",
              "0               6.81  ...                 0                 0   \n",
              "1               6.81  ...                 0                 0   \n",
              "2               6.81  ...                 0                 0   \n",
              "3               6.81  ...                 0                 0   \n",
              "4               6.81  ...                 0                 0   \n",
              "\n",
              "   loan_type_Type_7  loan_type_Type_9  New_versus_Repeat_New Loan  \\\n",
              "0                 0                 0                           0   \n",
              "1                 0                 0                           0   \n",
              "2                 1                 0                           0   \n",
              "3                 0                 0                           0   \n",
              "4                 0                 0                           0   \n",
              "\n",
              "   New_versus_Repeat_Repeat Loan  MONTH_JAN  MONTH_JANUARY  \\\n",
              "0                              1          0              1   \n",
              "1                              1          0              1   \n",
              "2                              1          0              1   \n",
              "3                              1          0              1   \n",
              "4                              1          0              1   \n",
              "\n",
              "   interest_rate_spread_poly_2  Central Bank Rate Change  \n",
              "0                      31.2481                       NaN  \n",
              "1                      31.2481                       0.0  \n",
              "2                      25.2004                       NaN  \n",
              "3                      31.2481                       0.0  \n",
              "4                      31.2481                       0.0  \n",
              "\n",
              "[5 rows x 46 columns]"
            ],
            "text/html": [
              "\n",
              "  <div id=\"df-53565e0d-35b5-4276-96b6-5a522db789ff\" class=\"colab-df-container\">\n",
              "    <div>\n",
              "<style scoped>\n",
              "    .dataframe tbody tr th:only-of-type {\n",
              "        vertical-align: middle;\n",
              "    }\n",
              "\n",
              "    .dataframe tbody tr th {\n",
              "        vertical-align: top;\n",
              "    }\n",
              "\n",
              "    .dataframe thead th {\n",
              "        text-align: right;\n",
              "    }\n",
              "</style>\n",
              "<table border=\"1\" class=\"dataframe\">\n",
              "  <thead>\n",
              "    <tr style=\"text-align: right;\">\n",
              "      <th></th>\n",
              "      <th>Total_Amount</th>\n",
              "      <th>Total_Amount_to_Repay</th>\n",
              "      <th>duration</th>\n",
              "      <th>Amount_Funded_By_Lender</th>\n",
              "      <th>Lender_portion_Funded</th>\n",
              "      <th>Lender_portion_to_be_repaid</th>\n",
              "      <th>target</th>\n",
              "      <th>month_int</th>\n",
              "      <th>day</th>\n",
              "      <th>Unemployment rate</th>\n",
              "      <th>...</th>\n",
              "      <th>loan_type_Type_5</th>\n",
              "      <th>loan_type_Type_6</th>\n",
              "      <th>loan_type_Type_7</th>\n",
              "      <th>loan_type_Type_9</th>\n",
              "      <th>New_versus_Repeat_New Loan</th>\n",
              "      <th>New_versus_Repeat_Repeat Loan</th>\n",
              "      <th>MONTH_JAN</th>\n",
              "      <th>MONTH_JANUARY</th>\n",
              "      <th>interest_rate_spread_poly_2</th>\n",
              "      <th>Central Bank Rate Change</th>\n",
              "    </tr>\n",
              "  </thead>\n",
              "  <tbody>\n",
              "    <tr>\n",
              "      <th>0</th>\n",
              "      <td>8448.0</td>\n",
              "      <td>8448.0</td>\n",
              "      <td>7</td>\n",
              "      <td>120.85</td>\n",
              "      <td>0.014305</td>\n",
              "      <td>121.0</td>\n",
              "      <td>0</td>\n",
              "      <td>8</td>\n",
              "      <td>30</td>\n",
              "      <td>6.81</td>\n",
              "      <td>...</td>\n",
              "      <td>0</td>\n",
              "      <td>0</td>\n",
              "      <td>0</td>\n",
              "      <td>0</td>\n",
              "      <td>0</td>\n",
              "      <td>1</td>\n",
              "      <td>0</td>\n",
              "      <td>1</td>\n",
              "      <td>31.2481</td>\n",
              "      <td>NaN</td>\n",
              "    </tr>\n",
              "    <tr>\n",
              "      <th>1</th>\n",
              "      <td>25895.0</td>\n",
              "      <td>25979.0</td>\n",
              "      <td>7</td>\n",
              "      <td>7768.50</td>\n",
              "      <td>0.300000</td>\n",
              "      <td>7794.0</td>\n",
              "      <td>0</td>\n",
              "      <td>7</td>\n",
              "      <td>30</td>\n",
              "      <td>6.81</td>\n",
              "      <td>...</td>\n",
              "      <td>0</td>\n",
              "      <td>0</td>\n",
              "      <td>0</td>\n",
              "      <td>0</td>\n",
              "      <td>0</td>\n",
              "      <td>1</td>\n",
              "      <td>0</td>\n",
              "      <td>1</td>\n",
              "      <td>31.2481</td>\n",
              "      <td>0.0</td>\n",
              "    </tr>\n",
              "    <tr>\n",
              "      <th>2</th>\n",
              "      <td>6900.0</td>\n",
              "      <td>7142.0</td>\n",
              "      <td>7</td>\n",
              "      <td>1380.00</td>\n",
              "      <td>0.200000</td>\n",
              "      <td>1428.0</td>\n",
              "      <td>0</td>\n",
              "      <td>9</td>\n",
              "      <td>6</td>\n",
              "      <td>6.81</td>\n",
              "      <td>...</td>\n",
              "      <td>0</td>\n",
              "      <td>0</td>\n",
              "      <td>1</td>\n",
              "      <td>0</td>\n",
              "      <td>0</td>\n",
              "      <td>1</td>\n",
              "      <td>0</td>\n",
              "      <td>1</td>\n",
              "      <td>25.2004</td>\n",
              "      <td>NaN</td>\n",
              "    </tr>\n",
              "    <tr>\n",
              "      <th>3</th>\n",
              "      <td>8958.0</td>\n",
              "      <td>9233.0</td>\n",
              "      <td>7</td>\n",
              "      <td>2687.40</td>\n",
              "      <td>0.300000</td>\n",
              "      <td>2770.0</td>\n",
              "      <td>0</td>\n",
              "      <td>10</td>\n",
              "      <td>20</td>\n",
              "      <td>6.81</td>\n",
              "      <td>...</td>\n",
              "      <td>0</td>\n",
              "      <td>0</td>\n",
              "      <td>0</td>\n",
              "      <td>0</td>\n",
              "      <td>0</td>\n",
              "      <td>1</td>\n",
              "      <td>0</td>\n",
              "      <td>1</td>\n",
              "      <td>31.2481</td>\n",
              "      <td>0.0</td>\n",
              "    </tr>\n",
              "    <tr>\n",
              "      <th>4</th>\n",
              "      <td>4564.0</td>\n",
              "      <td>4728.0</td>\n",
              "      <td>7</td>\n",
              "      <td>1369.20</td>\n",
              "      <td>0.300000</td>\n",
              "      <td>1418.0</td>\n",
              "      <td>0</td>\n",
              "      <td>11</td>\n",
              "      <td>28</td>\n",
              "      <td>6.81</td>\n",
              "      <td>...</td>\n",
              "      <td>0</td>\n",
              "      <td>0</td>\n",
              "      <td>0</td>\n",
              "      <td>0</td>\n",
              "      <td>0</td>\n",
              "      <td>1</td>\n",
              "      <td>0</td>\n",
              "      <td>1</td>\n",
              "      <td>31.2481</td>\n",
              "      <td>0.0</td>\n",
              "    </tr>\n",
              "  </tbody>\n",
              "</table>\n",
              "<p>5 rows × 46 columns</p>\n",
              "</div>\n",
              "    <div class=\"colab-df-buttons\">\n",
              "\n",
              "  <div class=\"colab-df-container\">\n",
              "    <button class=\"colab-df-convert\" onclick=\"convertToInteractive('df-53565e0d-35b5-4276-96b6-5a522db789ff')\"\n",
              "            title=\"Convert this dataframe to an interactive table.\"\n",
              "            style=\"display:none;\">\n",
              "\n",
              "  <svg xmlns=\"http://www.w3.org/2000/svg\" height=\"24px\" viewBox=\"0 -960 960 960\">\n",
              "    <path d=\"M120-120v-720h720v720H120Zm60-500h600v-160H180v160Zm220 220h160v-160H400v160Zm0 220h160v-160H400v160ZM180-400h160v-160H180v160Zm440 0h160v-160H620v160ZM180-180h160v-160H180v160Zm440 0h160v-160H620v160Z\"/>\n",
              "  </svg>\n",
              "    </button>\n",
              "\n",
              "  <style>\n",
              "    .colab-df-container {\n",
              "      display:flex;\n",
              "      gap: 12px;\n",
              "    }\n",
              "\n",
              "    .colab-df-convert {\n",
              "      background-color: #E8F0FE;\n",
              "      border: none;\n",
              "      border-radius: 50%;\n",
              "      cursor: pointer;\n",
              "      display: none;\n",
              "      fill: #1967D2;\n",
              "      height: 32px;\n",
              "      padding: 0 0 0 0;\n",
              "      width: 32px;\n",
              "    }\n",
              "\n",
              "    .colab-df-convert:hover {\n",
              "      background-color: #E2EBFA;\n",
              "      box-shadow: 0px 1px 2px rgba(60, 64, 67, 0.3), 0px 1px 3px 1px rgba(60, 64, 67, 0.15);\n",
              "      fill: #174EA6;\n",
              "    }\n",
              "\n",
              "    .colab-df-buttons div {\n",
              "      margin-bottom: 4px;\n",
              "    }\n",
              "\n",
              "    [theme=dark] .colab-df-convert {\n",
              "      background-color: #3B4455;\n",
              "      fill: #D2E3FC;\n",
              "    }\n",
              "\n",
              "    [theme=dark] .colab-df-convert:hover {\n",
              "      background-color: #434B5C;\n",
              "      box-shadow: 0px 1px 3px 1px rgba(0, 0, 0, 0.15);\n",
              "      filter: drop-shadow(0px 1px 2px rgba(0, 0, 0, 0.3));\n",
              "      fill: #FFFFFF;\n",
              "    }\n",
              "  </style>\n",
              "\n",
              "    <script>\n",
              "      const buttonEl =\n",
              "        document.querySelector('#df-53565e0d-35b5-4276-96b6-5a522db789ff button.colab-df-convert');\n",
              "      buttonEl.style.display =\n",
              "        google.colab.kernel.accessAllowed ? 'block' : 'none';\n",
              "\n",
              "      async function convertToInteractive(key) {\n",
              "        const element = document.querySelector('#df-53565e0d-35b5-4276-96b6-5a522db789ff');\n",
              "        const dataTable =\n",
              "          await google.colab.kernel.invokeFunction('convertToInteractive',\n",
              "                                                    [key], {});\n",
              "        if (!dataTable) return;\n",
              "\n",
              "        const docLinkHtml = 'Like what you see? Visit the ' +\n",
              "          '<a target=\"_blank\" href=https://colab.research.google.com/notebooks/data_table.ipynb>data table notebook</a>'\n",
              "          + ' to learn more about interactive tables.';\n",
              "        element.innerHTML = '';\n",
              "        dataTable['output_type'] = 'display_data';\n",
              "        await google.colab.output.renderOutput(dataTable, element);\n",
              "        const docLink = document.createElement('div');\n",
              "        docLink.innerHTML = docLinkHtml;\n",
              "        element.appendChild(docLink);\n",
              "      }\n",
              "    </script>\n",
              "  </div>\n",
              "\n",
              "\n",
              "<div id=\"df-e08c0edf-6874-4533-8645-d4486a498de2\">\n",
              "  <button class=\"colab-df-quickchart\" onclick=\"quickchart('df-e08c0edf-6874-4533-8645-d4486a498de2')\"\n",
              "            title=\"Suggest charts\"\n",
              "            style=\"display:none;\">\n",
              "\n",
              "<svg xmlns=\"http://www.w3.org/2000/svg\" height=\"24px\"viewBox=\"0 0 24 24\"\n",
              "     width=\"24px\">\n",
              "    <g>\n",
              "        <path d=\"M19 3H5c-1.1 0-2 .9-2 2v14c0 1.1.9 2 2 2h14c1.1 0 2-.9 2-2V5c0-1.1-.9-2-2-2zM9 17H7v-7h2v7zm4 0h-2V7h2v10zm4 0h-2v-4h2v4z\"/>\n",
              "    </g>\n",
              "</svg>\n",
              "  </button>\n",
              "\n",
              "<style>\n",
              "  .colab-df-quickchart {\n",
              "      --bg-color: #E8F0FE;\n",
              "      --fill-color: #1967D2;\n",
              "      --hover-bg-color: #E2EBFA;\n",
              "      --hover-fill-color: #174EA6;\n",
              "      --disabled-fill-color: #AAA;\n",
              "      --disabled-bg-color: #DDD;\n",
              "  }\n",
              "\n",
              "  [theme=dark] .colab-df-quickchart {\n",
              "      --bg-color: #3B4455;\n",
              "      --fill-color: #D2E3FC;\n",
              "      --hover-bg-color: #434B5C;\n",
              "      --hover-fill-color: #FFFFFF;\n",
              "      --disabled-bg-color: #3B4455;\n",
              "      --disabled-fill-color: #666;\n",
              "  }\n",
              "\n",
              "  .colab-df-quickchart {\n",
              "    background-color: var(--bg-color);\n",
              "    border: none;\n",
              "    border-radius: 50%;\n",
              "    cursor: pointer;\n",
              "    display: none;\n",
              "    fill: var(--fill-color);\n",
              "    height: 32px;\n",
              "    padding: 0;\n",
              "    width: 32px;\n",
              "  }\n",
              "\n",
              "  .colab-df-quickchart:hover {\n",
              "    background-color: var(--hover-bg-color);\n",
              "    box-shadow: 0 1px 2px rgba(60, 64, 67, 0.3), 0 1px 3px 1px rgba(60, 64, 67, 0.15);\n",
              "    fill: var(--button-hover-fill-color);\n",
              "  }\n",
              "\n",
              "  .colab-df-quickchart-complete:disabled,\n",
              "  .colab-df-quickchart-complete:disabled:hover {\n",
              "    background-color: var(--disabled-bg-color);\n",
              "    fill: var(--disabled-fill-color);\n",
              "    box-shadow: none;\n",
              "  }\n",
              "\n",
              "  .colab-df-spinner {\n",
              "    border: 2px solid var(--fill-color);\n",
              "    border-color: transparent;\n",
              "    border-bottom-color: var(--fill-color);\n",
              "    animation:\n",
              "      spin 1s steps(1) infinite;\n",
              "  }\n",
              "\n",
              "  @keyframes spin {\n",
              "    0% {\n",
              "      border-color: transparent;\n",
              "      border-bottom-color: var(--fill-color);\n",
              "      border-left-color: var(--fill-color);\n",
              "    }\n",
              "    20% {\n",
              "      border-color: transparent;\n",
              "      border-left-color: var(--fill-color);\n",
              "      border-top-color: var(--fill-color);\n",
              "    }\n",
              "    30% {\n",
              "      border-color: transparent;\n",
              "      border-left-color: var(--fill-color);\n",
              "      border-top-color: var(--fill-color);\n",
              "      border-right-color: var(--fill-color);\n",
              "    }\n",
              "    40% {\n",
              "      border-color: transparent;\n",
              "      border-right-color: var(--fill-color);\n",
              "      border-top-color: var(--fill-color);\n",
              "    }\n",
              "    60% {\n",
              "      border-color: transparent;\n",
              "      border-right-color: var(--fill-color);\n",
              "    }\n",
              "    80% {\n",
              "      border-color: transparent;\n",
              "      border-right-color: var(--fill-color);\n",
              "      border-bottom-color: var(--fill-color);\n",
              "    }\n",
              "    90% {\n",
              "      border-color: transparent;\n",
              "      border-bottom-color: var(--fill-color);\n",
              "    }\n",
              "  }\n",
              "</style>\n",
              "\n",
              "  <script>\n",
              "    async function quickchart(key) {\n",
              "      const quickchartButtonEl =\n",
              "        document.querySelector('#' + key + ' button');\n",
              "      quickchartButtonEl.disabled = true;  // To prevent multiple clicks.\n",
              "      quickchartButtonEl.classList.add('colab-df-spinner');\n",
              "      try {\n",
              "        const charts = await google.colab.kernel.invokeFunction(\n",
              "            'suggestCharts', [key], {});\n",
              "      } catch (error) {\n",
              "        console.error('Error during call to suggestCharts:', error);\n",
              "      }\n",
              "      quickchartButtonEl.classList.remove('colab-df-spinner');\n",
              "      quickchartButtonEl.classList.add('colab-df-quickchart-complete');\n",
              "    }\n",
              "    (() => {\n",
              "      let quickchartButtonEl =\n",
              "        document.querySelector('#df-e08c0edf-6874-4533-8645-d4486a498de2 button');\n",
              "      quickchartButtonEl.style.display =\n",
              "        google.colab.kernel.accessAllowed ? 'block' : 'none';\n",
              "    })();\n",
              "  </script>\n",
              "</div>\n",
              "\n",
              "    </div>\n",
              "  </div>\n"
            ],
            "application/vnd.google.colaboratory.intrinsic+json": {
              "type": "dataframe",
              "variable_name": "train"
            }
          },
          "metadata": {},
          "execution_count": 157
        }
      ]
    },
    {
      "cell_type": "code",
      "source": [
        "#fillna\n",
        "train = train.fillna(0)\n",
        "test = test.fillna(0)"
      ],
      "metadata": {
        "id": "QnlyC_6xAuzF"
      },
      "execution_count": null,
      "outputs": []
    },
    {
      "cell_type": "code",
      "source": [
        "train.to_csv(\"train_final.csv\",index=False)\n",
        "test.to_csv(\"test_final.csv\",index=False)"
      ],
      "metadata": {
        "id": "L_LAXD_5QpP1"
      },
      "execution_count": null,
      "outputs": []
    },
    {
      "cell_type": "code",
      "source": [
        "from sklearn.model_selection import train_test_split\n",
        "from sklearn.ensemble import RandomForestClassifier\n",
        "from sklearn.metrics import classification_report\n",
        "import matplotlib.pyplot as plt\n",
        "import seaborn as sns"
      ],
      "metadata": {
        "id": "oHvZo-vDXah3"
      },
      "execution_count": null,
      "outputs": []
    },
    {
      "cell_type": "markdown",
      "source": [
        "Real: (18594, 15), (68654, 16)"
      ],
      "metadata": {
        "id": "f6X0NQl59HmP"
      }
    },
    {
      "cell_type": "code",
      "source": [
        "X_ori,y = train.drop(columns=[\"target\"]), train[\"target\"]"
      ],
      "metadata": {
        "id": "uFn4Xs2SrsP5"
      },
      "execution_count": null,
      "outputs": []
    },
    {
      "cell_type": "code",
      "source": [
        "X_ori"
      ],
      "metadata": {
        "colab": {
          "base_uri": "https://localhost:8080/",
          "height": 496
        },
        "id": "H0KlcfQXfL5P",
        "outputId": "e8d3a160-d6e9-4fd8-e85c-fb7f972308db"
      },
      "execution_count": null,
      "outputs": [
        {
          "output_type": "execute_result",
          "data": {
            "text/plain": [
              "       Total_Amount  Total_Amount_to_Repay  duration  Amount_Funded_By_Lender  \\\n",
              "0            8448.0                 8448.0         7                   120.85   \n",
              "1           25895.0                25979.0         7                  7768.50   \n",
              "2            6900.0                 7142.0         7                  1380.00   \n",
              "3            8958.0                 9233.0         7                  2687.40   \n",
              "4            4564.0                 4728.0         7                  1369.20   \n",
              "...             ...                    ...       ...                      ...   \n",
              "68649        1460.0                 1515.0         7                   438.00   \n",
              "68650        5029.0                 5116.0         7                  1508.70   \n",
              "68651        5289.0                 5289.0         7                  1586.70   \n",
              "68652        3334.0                 3334.0         7                   741.09   \n",
              "68653       22695.0                22695.0         7                     0.00   \n",
              "\n",
              "       Lender_portion_Funded  Lender_portion_to_be_repaid  month_int  day  \\\n",
              "0                   0.014305                        121.0          8   30   \n",
              "1                   0.300000                       7794.0          7   30   \n",
              "2                   0.200000                       1428.0          9    6   \n",
              "3                   0.300000                       2770.0         10   20   \n",
              "4                   0.300000                       1418.0         11   28   \n",
              "...                      ...                          ...        ...  ...   \n",
              "68649               0.300000                        455.0          7   30   \n",
              "68650               0.300000                       1535.0          7   16   \n",
              "68651               0.300000                       1587.0          7   15   \n",
              "68652               0.222283                        741.0         11   23   \n",
              "68653               0.000000                          0.0          9   27   \n",
              "\n",
              "       Unemployment rate  month  ...  loan_type_Type_5  loan_type_Type_6  \\\n",
              "0                   6.81      8  ...                 0                 0   \n",
              "1                   6.81      7  ...                 0                 0   \n",
              "2                   6.81      9  ...                 0                 0   \n",
              "3                   6.81     10  ...                 0                 0   \n",
              "4                   6.81     11  ...                 0                 0   \n",
              "...                  ...    ...  ...               ...               ...   \n",
              "68649               6.81      7  ...                 0                 0   \n",
              "68650               6.81      7  ...                 0                 0   \n",
              "68651               6.81      7  ...                 0                 0   \n",
              "68652               6.81     11  ...                 0                 0   \n",
              "68653               6.81      9  ...                 0                 0   \n",
              "\n",
              "       loan_type_Type_7  loan_type_Type_9  New_versus_Repeat_New Loan  \\\n",
              "0                     0                 0                           0   \n",
              "1                     0                 0                           0   \n",
              "2                     1                 0                           0   \n",
              "3                     0                 0                           0   \n",
              "4                     0                 0                           0   \n",
              "...                 ...               ...                         ...   \n",
              "68649                 0                 0                           0   \n",
              "68650                 0                 0                           0   \n",
              "68651                 0                 0                           0   \n",
              "68652                 0                 0                           0   \n",
              "68653                 0                 0                           0   \n",
              "\n",
              "       New_versus_Repeat_Repeat Loan  MONTH_JAN  MONTH_JANUARY  \\\n",
              "0                                  1          0              1   \n",
              "1                                  1          0              1   \n",
              "2                                  1          0              1   \n",
              "3                                  1          0              1   \n",
              "4                                  1          0              1   \n",
              "...                              ...        ...            ...   \n",
              "68649                              1          0              1   \n",
              "68650                              1          0              1   \n",
              "68651                              1          0              1   \n",
              "68652                              1          0              1   \n",
              "68653                              1          0              1   \n",
              "\n",
              "       interest_rate_spread_poly_2  Central Bank Rate Change  \n",
              "0                          31.2481                       0.0  \n",
              "1                          31.2481                       0.0  \n",
              "2                          25.2004                       0.0  \n",
              "3                          31.2481                       0.0  \n",
              "4                          31.2481                       0.0  \n",
              "...                            ...                       ...  \n",
              "68649                      31.2481                       0.0  \n",
              "68650                      31.2481                       0.0  \n",
              "68651                      31.2481                       0.0  \n",
              "68652                      31.2481                       0.0  \n",
              "68653                      31.2481                       0.0  \n",
              "\n",
              "[68654 rows x 45 columns]"
            ],
            "text/html": [
              "\n",
              "  <div id=\"df-62cfd878-0620-4f92-88e6-a3f7219ed98d\" class=\"colab-df-container\">\n",
              "    <div>\n",
              "<style scoped>\n",
              "    .dataframe tbody tr th:only-of-type {\n",
              "        vertical-align: middle;\n",
              "    }\n",
              "\n",
              "    .dataframe tbody tr th {\n",
              "        vertical-align: top;\n",
              "    }\n",
              "\n",
              "    .dataframe thead th {\n",
              "        text-align: right;\n",
              "    }\n",
              "</style>\n",
              "<table border=\"1\" class=\"dataframe\">\n",
              "  <thead>\n",
              "    <tr style=\"text-align: right;\">\n",
              "      <th></th>\n",
              "      <th>Total_Amount</th>\n",
              "      <th>Total_Amount_to_Repay</th>\n",
              "      <th>duration</th>\n",
              "      <th>Amount_Funded_By_Lender</th>\n",
              "      <th>Lender_portion_Funded</th>\n",
              "      <th>Lender_portion_to_be_repaid</th>\n",
              "      <th>month_int</th>\n",
              "      <th>day</th>\n",
              "      <th>Unemployment rate</th>\n",
              "      <th>month</th>\n",
              "      <th>...</th>\n",
              "      <th>loan_type_Type_5</th>\n",
              "      <th>loan_type_Type_6</th>\n",
              "      <th>loan_type_Type_7</th>\n",
              "      <th>loan_type_Type_9</th>\n",
              "      <th>New_versus_Repeat_New Loan</th>\n",
              "      <th>New_versus_Repeat_Repeat Loan</th>\n",
              "      <th>MONTH_JAN</th>\n",
              "      <th>MONTH_JANUARY</th>\n",
              "      <th>interest_rate_spread_poly_2</th>\n",
              "      <th>Central Bank Rate Change</th>\n",
              "    </tr>\n",
              "  </thead>\n",
              "  <tbody>\n",
              "    <tr>\n",
              "      <th>0</th>\n",
              "      <td>8448.0</td>\n",
              "      <td>8448.0</td>\n",
              "      <td>7</td>\n",
              "      <td>120.85</td>\n",
              "      <td>0.014305</td>\n",
              "      <td>121.0</td>\n",
              "      <td>8</td>\n",
              "      <td>30</td>\n",
              "      <td>6.81</td>\n",
              "      <td>8</td>\n",
              "      <td>...</td>\n",
              "      <td>0</td>\n",
              "      <td>0</td>\n",
              "      <td>0</td>\n",
              "      <td>0</td>\n",
              "      <td>0</td>\n",
              "      <td>1</td>\n",
              "      <td>0</td>\n",
              "      <td>1</td>\n",
              "      <td>31.2481</td>\n",
              "      <td>0.0</td>\n",
              "    </tr>\n",
              "    <tr>\n",
              "      <th>1</th>\n",
              "      <td>25895.0</td>\n",
              "      <td>25979.0</td>\n",
              "      <td>7</td>\n",
              "      <td>7768.50</td>\n",
              "      <td>0.300000</td>\n",
              "      <td>7794.0</td>\n",
              "      <td>7</td>\n",
              "      <td>30</td>\n",
              "      <td>6.81</td>\n",
              "      <td>7</td>\n",
              "      <td>...</td>\n",
              "      <td>0</td>\n",
              "      <td>0</td>\n",
              "      <td>0</td>\n",
              "      <td>0</td>\n",
              "      <td>0</td>\n",
              "      <td>1</td>\n",
              "      <td>0</td>\n",
              "      <td>1</td>\n",
              "      <td>31.2481</td>\n",
              "      <td>0.0</td>\n",
              "    </tr>\n",
              "    <tr>\n",
              "      <th>2</th>\n",
              "      <td>6900.0</td>\n",
              "      <td>7142.0</td>\n",
              "      <td>7</td>\n",
              "      <td>1380.00</td>\n",
              "      <td>0.200000</td>\n",
              "      <td>1428.0</td>\n",
              "      <td>9</td>\n",
              "      <td>6</td>\n",
              "      <td>6.81</td>\n",
              "      <td>9</td>\n",
              "      <td>...</td>\n",
              "      <td>0</td>\n",
              "      <td>0</td>\n",
              "      <td>1</td>\n",
              "      <td>0</td>\n",
              "      <td>0</td>\n",
              "      <td>1</td>\n",
              "      <td>0</td>\n",
              "      <td>1</td>\n",
              "      <td>25.2004</td>\n",
              "      <td>0.0</td>\n",
              "    </tr>\n",
              "    <tr>\n",
              "      <th>3</th>\n",
              "      <td>8958.0</td>\n",
              "      <td>9233.0</td>\n",
              "      <td>7</td>\n",
              "      <td>2687.40</td>\n",
              "      <td>0.300000</td>\n",
              "      <td>2770.0</td>\n",
              "      <td>10</td>\n",
              "      <td>20</td>\n",
              "      <td>6.81</td>\n",
              "      <td>10</td>\n",
              "      <td>...</td>\n",
              "      <td>0</td>\n",
              "      <td>0</td>\n",
              "      <td>0</td>\n",
              "      <td>0</td>\n",
              "      <td>0</td>\n",
              "      <td>1</td>\n",
              "      <td>0</td>\n",
              "      <td>1</td>\n",
              "      <td>31.2481</td>\n",
              "      <td>0.0</td>\n",
              "    </tr>\n",
              "    <tr>\n",
              "      <th>4</th>\n",
              "      <td>4564.0</td>\n",
              "      <td>4728.0</td>\n",
              "      <td>7</td>\n",
              "      <td>1369.20</td>\n",
              "      <td>0.300000</td>\n",
              "      <td>1418.0</td>\n",
              "      <td>11</td>\n",
              "      <td>28</td>\n",
              "      <td>6.81</td>\n",
              "      <td>11</td>\n",
              "      <td>...</td>\n",
              "      <td>0</td>\n",
              "      <td>0</td>\n",
              "      <td>0</td>\n",
              "      <td>0</td>\n",
              "      <td>0</td>\n",
              "      <td>1</td>\n",
              "      <td>0</td>\n",
              "      <td>1</td>\n",
              "      <td>31.2481</td>\n",
              "      <td>0.0</td>\n",
              "    </tr>\n",
              "    <tr>\n",
              "      <th>...</th>\n",
              "      <td>...</td>\n",
              "      <td>...</td>\n",
              "      <td>...</td>\n",
              "      <td>...</td>\n",
              "      <td>...</td>\n",
              "      <td>...</td>\n",
              "      <td>...</td>\n",
              "      <td>...</td>\n",
              "      <td>...</td>\n",
              "      <td>...</td>\n",
              "      <td>...</td>\n",
              "      <td>...</td>\n",
              "      <td>...</td>\n",
              "      <td>...</td>\n",
              "      <td>...</td>\n",
              "      <td>...</td>\n",
              "      <td>...</td>\n",
              "      <td>...</td>\n",
              "      <td>...</td>\n",
              "      <td>...</td>\n",
              "      <td>...</td>\n",
              "    </tr>\n",
              "    <tr>\n",
              "      <th>68649</th>\n",
              "      <td>1460.0</td>\n",
              "      <td>1515.0</td>\n",
              "      <td>7</td>\n",
              "      <td>438.00</td>\n",
              "      <td>0.300000</td>\n",
              "      <td>455.0</td>\n",
              "      <td>7</td>\n",
              "      <td>30</td>\n",
              "      <td>6.81</td>\n",
              "      <td>7</td>\n",
              "      <td>...</td>\n",
              "      <td>0</td>\n",
              "      <td>0</td>\n",
              "      <td>0</td>\n",
              "      <td>0</td>\n",
              "      <td>0</td>\n",
              "      <td>1</td>\n",
              "      <td>0</td>\n",
              "      <td>1</td>\n",
              "      <td>31.2481</td>\n",
              "      <td>0.0</td>\n",
              "    </tr>\n",
              "    <tr>\n",
              "      <th>68650</th>\n",
              "      <td>5029.0</td>\n",
              "      <td>5116.0</td>\n",
              "      <td>7</td>\n",
              "      <td>1508.70</td>\n",
              "      <td>0.300000</td>\n",
              "      <td>1535.0</td>\n",
              "      <td>7</td>\n",
              "      <td>16</td>\n",
              "      <td>6.81</td>\n",
              "      <td>7</td>\n",
              "      <td>...</td>\n",
              "      <td>0</td>\n",
              "      <td>0</td>\n",
              "      <td>0</td>\n",
              "      <td>0</td>\n",
              "      <td>0</td>\n",
              "      <td>1</td>\n",
              "      <td>0</td>\n",
              "      <td>1</td>\n",
              "      <td>31.2481</td>\n",
              "      <td>0.0</td>\n",
              "    </tr>\n",
              "    <tr>\n",
              "      <th>68651</th>\n",
              "      <td>5289.0</td>\n",
              "      <td>5289.0</td>\n",
              "      <td>7</td>\n",
              "      <td>1586.70</td>\n",
              "      <td>0.300000</td>\n",
              "      <td>1587.0</td>\n",
              "      <td>7</td>\n",
              "      <td>15</td>\n",
              "      <td>6.81</td>\n",
              "      <td>7</td>\n",
              "      <td>...</td>\n",
              "      <td>0</td>\n",
              "      <td>0</td>\n",
              "      <td>0</td>\n",
              "      <td>0</td>\n",
              "      <td>0</td>\n",
              "      <td>1</td>\n",
              "      <td>0</td>\n",
              "      <td>1</td>\n",
              "      <td>31.2481</td>\n",
              "      <td>0.0</td>\n",
              "    </tr>\n",
              "    <tr>\n",
              "      <th>68652</th>\n",
              "      <td>3334.0</td>\n",
              "      <td>3334.0</td>\n",
              "      <td>7</td>\n",
              "      <td>741.09</td>\n",
              "      <td>0.222283</td>\n",
              "      <td>741.0</td>\n",
              "      <td>11</td>\n",
              "      <td>23</td>\n",
              "      <td>6.81</td>\n",
              "      <td>11</td>\n",
              "      <td>...</td>\n",
              "      <td>0</td>\n",
              "      <td>0</td>\n",
              "      <td>0</td>\n",
              "      <td>0</td>\n",
              "      <td>0</td>\n",
              "      <td>1</td>\n",
              "      <td>0</td>\n",
              "      <td>1</td>\n",
              "      <td>31.2481</td>\n",
              "      <td>0.0</td>\n",
              "    </tr>\n",
              "    <tr>\n",
              "      <th>68653</th>\n",
              "      <td>22695.0</td>\n",
              "      <td>22695.0</td>\n",
              "      <td>7</td>\n",
              "      <td>0.00</td>\n",
              "      <td>0.000000</td>\n",
              "      <td>0.0</td>\n",
              "      <td>9</td>\n",
              "      <td>27</td>\n",
              "      <td>6.81</td>\n",
              "      <td>9</td>\n",
              "      <td>...</td>\n",
              "      <td>0</td>\n",
              "      <td>0</td>\n",
              "      <td>0</td>\n",
              "      <td>0</td>\n",
              "      <td>0</td>\n",
              "      <td>1</td>\n",
              "      <td>0</td>\n",
              "      <td>1</td>\n",
              "      <td>31.2481</td>\n",
              "      <td>0.0</td>\n",
              "    </tr>\n",
              "  </tbody>\n",
              "</table>\n",
              "<p>68654 rows × 45 columns</p>\n",
              "</div>\n",
              "    <div class=\"colab-df-buttons\">\n",
              "\n",
              "  <div class=\"colab-df-container\">\n",
              "    <button class=\"colab-df-convert\" onclick=\"convertToInteractive('df-62cfd878-0620-4f92-88e6-a3f7219ed98d')\"\n",
              "            title=\"Convert this dataframe to an interactive table.\"\n",
              "            style=\"display:none;\">\n",
              "\n",
              "  <svg xmlns=\"http://www.w3.org/2000/svg\" height=\"24px\" viewBox=\"0 -960 960 960\">\n",
              "    <path d=\"M120-120v-720h720v720H120Zm60-500h600v-160H180v160Zm220 220h160v-160H400v160Zm0 220h160v-160H400v160ZM180-400h160v-160H180v160Zm440 0h160v-160H620v160ZM180-180h160v-160H180v160Zm440 0h160v-160H620v160Z\"/>\n",
              "  </svg>\n",
              "    </button>\n",
              "\n",
              "  <style>\n",
              "    .colab-df-container {\n",
              "      display:flex;\n",
              "      gap: 12px;\n",
              "    }\n",
              "\n",
              "    .colab-df-convert {\n",
              "      background-color: #E8F0FE;\n",
              "      border: none;\n",
              "      border-radius: 50%;\n",
              "      cursor: pointer;\n",
              "      display: none;\n",
              "      fill: #1967D2;\n",
              "      height: 32px;\n",
              "      padding: 0 0 0 0;\n",
              "      width: 32px;\n",
              "    }\n",
              "\n",
              "    .colab-df-convert:hover {\n",
              "      background-color: #E2EBFA;\n",
              "      box-shadow: 0px 1px 2px rgba(60, 64, 67, 0.3), 0px 1px 3px 1px rgba(60, 64, 67, 0.15);\n",
              "      fill: #174EA6;\n",
              "    }\n",
              "\n",
              "    .colab-df-buttons div {\n",
              "      margin-bottom: 4px;\n",
              "    }\n",
              "\n",
              "    [theme=dark] .colab-df-convert {\n",
              "      background-color: #3B4455;\n",
              "      fill: #D2E3FC;\n",
              "    }\n",
              "\n",
              "    [theme=dark] .colab-df-convert:hover {\n",
              "      background-color: #434B5C;\n",
              "      box-shadow: 0px 1px 3px 1px rgba(0, 0, 0, 0.15);\n",
              "      filter: drop-shadow(0px 1px 2px rgba(0, 0, 0, 0.3));\n",
              "      fill: #FFFFFF;\n",
              "    }\n",
              "  </style>\n",
              "\n",
              "    <script>\n",
              "      const buttonEl =\n",
              "        document.querySelector('#df-62cfd878-0620-4f92-88e6-a3f7219ed98d button.colab-df-convert');\n",
              "      buttonEl.style.display =\n",
              "        google.colab.kernel.accessAllowed ? 'block' : 'none';\n",
              "\n",
              "      async function convertToInteractive(key) {\n",
              "        const element = document.querySelector('#df-62cfd878-0620-4f92-88e6-a3f7219ed98d');\n",
              "        const dataTable =\n",
              "          await google.colab.kernel.invokeFunction('convertToInteractive',\n",
              "                                                    [key], {});\n",
              "        if (!dataTable) return;\n",
              "\n",
              "        const docLinkHtml = 'Like what you see? Visit the ' +\n",
              "          '<a target=\"_blank\" href=https://colab.research.google.com/notebooks/data_table.ipynb>data table notebook</a>'\n",
              "          + ' to learn more about interactive tables.';\n",
              "        element.innerHTML = '';\n",
              "        dataTable['output_type'] = 'display_data';\n",
              "        await google.colab.output.renderOutput(dataTable, element);\n",
              "        const docLink = document.createElement('div');\n",
              "        docLink.innerHTML = docLinkHtml;\n",
              "        element.appendChild(docLink);\n",
              "      }\n",
              "    </script>\n",
              "  </div>\n",
              "\n",
              "\n",
              "<div id=\"df-8890769c-92d1-4826-ace1-7ba8912c1bf4\">\n",
              "  <button class=\"colab-df-quickchart\" onclick=\"quickchart('df-8890769c-92d1-4826-ace1-7ba8912c1bf4')\"\n",
              "            title=\"Suggest charts\"\n",
              "            style=\"display:none;\">\n",
              "\n",
              "<svg xmlns=\"http://www.w3.org/2000/svg\" height=\"24px\"viewBox=\"0 0 24 24\"\n",
              "     width=\"24px\">\n",
              "    <g>\n",
              "        <path d=\"M19 3H5c-1.1 0-2 .9-2 2v14c0 1.1.9 2 2 2h14c1.1 0 2-.9 2-2V5c0-1.1-.9-2-2-2zM9 17H7v-7h2v7zm4 0h-2V7h2v10zm4 0h-2v-4h2v4z\"/>\n",
              "    </g>\n",
              "</svg>\n",
              "  </button>\n",
              "\n",
              "<style>\n",
              "  .colab-df-quickchart {\n",
              "      --bg-color: #E8F0FE;\n",
              "      --fill-color: #1967D2;\n",
              "      --hover-bg-color: #E2EBFA;\n",
              "      --hover-fill-color: #174EA6;\n",
              "      --disabled-fill-color: #AAA;\n",
              "      --disabled-bg-color: #DDD;\n",
              "  }\n",
              "\n",
              "  [theme=dark] .colab-df-quickchart {\n",
              "      --bg-color: #3B4455;\n",
              "      --fill-color: #D2E3FC;\n",
              "      --hover-bg-color: #434B5C;\n",
              "      --hover-fill-color: #FFFFFF;\n",
              "      --disabled-bg-color: #3B4455;\n",
              "      --disabled-fill-color: #666;\n",
              "  }\n",
              "\n",
              "  .colab-df-quickchart {\n",
              "    background-color: var(--bg-color);\n",
              "    border: none;\n",
              "    border-radius: 50%;\n",
              "    cursor: pointer;\n",
              "    display: none;\n",
              "    fill: var(--fill-color);\n",
              "    height: 32px;\n",
              "    padding: 0;\n",
              "    width: 32px;\n",
              "  }\n",
              "\n",
              "  .colab-df-quickchart:hover {\n",
              "    background-color: var(--hover-bg-color);\n",
              "    box-shadow: 0 1px 2px rgba(60, 64, 67, 0.3), 0 1px 3px 1px rgba(60, 64, 67, 0.15);\n",
              "    fill: var(--button-hover-fill-color);\n",
              "  }\n",
              "\n",
              "  .colab-df-quickchart-complete:disabled,\n",
              "  .colab-df-quickchart-complete:disabled:hover {\n",
              "    background-color: var(--disabled-bg-color);\n",
              "    fill: var(--disabled-fill-color);\n",
              "    box-shadow: none;\n",
              "  }\n",
              "\n",
              "  .colab-df-spinner {\n",
              "    border: 2px solid var(--fill-color);\n",
              "    border-color: transparent;\n",
              "    border-bottom-color: var(--fill-color);\n",
              "    animation:\n",
              "      spin 1s steps(1) infinite;\n",
              "  }\n",
              "\n",
              "  @keyframes spin {\n",
              "    0% {\n",
              "      border-color: transparent;\n",
              "      border-bottom-color: var(--fill-color);\n",
              "      border-left-color: var(--fill-color);\n",
              "    }\n",
              "    20% {\n",
              "      border-color: transparent;\n",
              "      border-left-color: var(--fill-color);\n",
              "      border-top-color: var(--fill-color);\n",
              "    }\n",
              "    30% {\n",
              "      border-color: transparent;\n",
              "      border-left-color: var(--fill-color);\n",
              "      border-top-color: var(--fill-color);\n",
              "      border-right-color: var(--fill-color);\n",
              "    }\n",
              "    40% {\n",
              "      border-color: transparent;\n",
              "      border-right-color: var(--fill-color);\n",
              "      border-top-color: var(--fill-color);\n",
              "    }\n",
              "    60% {\n",
              "      border-color: transparent;\n",
              "      border-right-color: var(--fill-color);\n",
              "    }\n",
              "    80% {\n",
              "      border-color: transparent;\n",
              "      border-right-color: var(--fill-color);\n",
              "      border-bottom-color: var(--fill-color);\n",
              "    }\n",
              "    90% {\n",
              "      border-color: transparent;\n",
              "      border-bottom-color: var(--fill-color);\n",
              "    }\n",
              "  }\n",
              "</style>\n",
              "\n",
              "  <script>\n",
              "    async function quickchart(key) {\n",
              "      const quickchartButtonEl =\n",
              "        document.querySelector('#' + key + ' button');\n",
              "      quickchartButtonEl.disabled = true;  // To prevent multiple clicks.\n",
              "      quickchartButtonEl.classList.add('colab-df-spinner');\n",
              "      try {\n",
              "        const charts = await google.colab.kernel.invokeFunction(\n",
              "            'suggestCharts', [key], {});\n",
              "      } catch (error) {\n",
              "        console.error('Error during call to suggestCharts:', error);\n",
              "      }\n",
              "      quickchartButtonEl.classList.remove('colab-df-spinner');\n",
              "      quickchartButtonEl.classList.add('colab-df-quickchart-complete');\n",
              "    }\n",
              "    (() => {\n",
              "      let quickchartButtonEl =\n",
              "        document.querySelector('#df-8890769c-92d1-4826-ace1-7ba8912c1bf4 button');\n",
              "      quickchartButtonEl.style.display =\n",
              "        google.colab.kernel.accessAllowed ? 'block' : 'none';\n",
              "    })();\n",
              "  </script>\n",
              "</div>\n",
              "\n",
              "  <div id=\"id_f15b4d0d-608b-48e9-aa7a-ffe23eedd46d\">\n",
              "    <style>\n",
              "      .colab-df-generate {\n",
              "        background-color: #E8F0FE;\n",
              "        border: none;\n",
              "        border-radius: 50%;\n",
              "        cursor: pointer;\n",
              "        display: none;\n",
              "        fill: #1967D2;\n",
              "        height: 32px;\n",
              "        padding: 0 0 0 0;\n",
              "        width: 32px;\n",
              "      }\n",
              "\n",
              "      .colab-df-generate:hover {\n",
              "        background-color: #E2EBFA;\n",
              "        box-shadow: 0px 1px 2px rgba(60, 64, 67, 0.3), 0px 1px 3px 1px rgba(60, 64, 67, 0.15);\n",
              "        fill: #174EA6;\n",
              "      }\n",
              "\n",
              "      [theme=dark] .colab-df-generate {\n",
              "        background-color: #3B4455;\n",
              "        fill: #D2E3FC;\n",
              "      }\n",
              "\n",
              "      [theme=dark] .colab-df-generate:hover {\n",
              "        background-color: #434B5C;\n",
              "        box-shadow: 0px 1px 3px 1px rgba(0, 0, 0, 0.15);\n",
              "        filter: drop-shadow(0px 1px 2px rgba(0, 0, 0, 0.3));\n",
              "        fill: #FFFFFF;\n",
              "      }\n",
              "    </style>\n",
              "    <button class=\"colab-df-generate\" onclick=\"generateWithVariable('X_ori')\"\n",
              "            title=\"Generate code using this dataframe.\"\n",
              "            style=\"display:none;\">\n",
              "\n",
              "  <svg xmlns=\"http://www.w3.org/2000/svg\" height=\"24px\"viewBox=\"0 0 24 24\"\n",
              "       width=\"24px\">\n",
              "    <path d=\"M7,19H8.4L18.45,9,17,7.55,7,17.6ZM5,21V16.75L18.45,3.32a2,2,0,0,1,2.83,0l1.4,1.43a1.91,1.91,0,0,1,.58,1.4,1.91,1.91,0,0,1-.58,1.4L9.25,21ZM18.45,9,17,7.55Zm-12,3A5.31,5.31,0,0,0,4.9,8.1,5.31,5.31,0,0,0,1,6.5,5.31,5.31,0,0,0,4.9,4.9,5.31,5.31,0,0,0,6.5,1,5.31,5.31,0,0,0,8.1,4.9,5.31,5.31,0,0,0,12,6.5,5.46,5.46,0,0,0,6.5,12Z\"/>\n",
              "  </svg>\n",
              "    </button>\n",
              "    <script>\n",
              "      (() => {\n",
              "      const buttonEl =\n",
              "        document.querySelector('#id_f15b4d0d-608b-48e9-aa7a-ffe23eedd46d button.colab-df-generate');\n",
              "      buttonEl.style.display =\n",
              "        google.colab.kernel.accessAllowed ? 'block' : 'none';\n",
              "\n",
              "      buttonEl.onclick = () => {\n",
              "        google.colab.notebook.generateWithVariable('X_ori');\n",
              "      }\n",
              "      })();\n",
              "    </script>\n",
              "  </div>\n",
              "\n",
              "    </div>\n",
              "  </div>\n"
            ],
            "application/vnd.google.colaboratory.intrinsic+json": {
              "type": "dataframe",
              "variable_name": "X_ori"
            }
          },
          "metadata": {},
          "execution_count": 162
        }
      ]
    },
    {
      "cell_type": "code",
      "source": [
        "#pip install hmmlearn"
      ],
      "metadata": {
        "id": "dRs4u9esH5KC"
      },
      "execution_count": null,
      "outputs": []
    },
    {
      "cell_type": "code",
      "source": [
        "import pandas as pd\n",
        "import numpy as np\n",
        "from hmmlearn import hmm\n",
        "\n",
        "def applied_hmm(X):\n",
        "    \"\"\"\n",
        "    Applique un HMM à chaque colonne numérique d'un DataFrame et retourne\n",
        "    un nouveau DataFrame avec les états cachés prédits. Ignore les colonnes\n",
        "    pour lesquelles l'HMM ne converge pas ou dont la matrice de transition\n",
        "    n'est pas valide.\n",
        "\n",
        "    Args:\n",
        "        X (pd.DataFrame): Le DataFrame d'entrée.\n",
        "\n",
        "    Returns:\n",
        "        pd.DataFrame: Un DataFrame avec les états cachés pour chaque colonne.\n",
        "    \"\"\"\n",
        "    numerical_cols = X.select_dtypes(include=np.number).columns.tolist()\n",
        "    df_hidden_states = pd.DataFrame()\n",
        "\n",
        "    for col_name in numerical_cols:\n",
        "        print(f\"Traitement de la colonne : {col_name}\")\n",
        "        # 1. Préparation des données\n",
        "        X_i = X[col_name]  # On prend la colonne courante\n",
        "\n",
        "        # Gérer les valeurs manquantes en les remplacant par la medianne.\n",
        "        if X_i.isnull().any():\n",
        "            median_value = X_i.median()\n",
        "            X_i.fillna(median_value, inplace=True)\n",
        "\n",
        "        # Assurez-vous que X_i est un Series Pandas\n",
        "        if not isinstance(X_i, pd.Series):\n",
        "            X_i = pd.Series(X_i)\n",
        "\n",
        "        # Convertir en tableau NumPy et remodeler\n",
        "        X_values = X_i.values\n",
        "        X_reshaped = X_values.reshape(-1, 1)\n",
        "\n",
        "        # 2. Entraînement du HMM\n",
        "        # Initialiser et entraîner le modèle HMM\n",
        "        try:\n",
        "          model = hmm.GaussianHMM(n_components=3, covariance_type=\"diag\", n_iter=100, random_state=42)\n",
        "          # Initialiser la matrice de transition à des valeurs valides\n",
        "          model.transmat_ = np.array([[0.5, 0.3, 0.2], [0.3, 0.5, 0.2], [0.2, 0.3, 0.5]])\n",
        "        except ValueError as e:\n",
        "          print(f\"Erreur lors de l'initialisation du modèle pour la colonne {col_name}: {e}\")\n",
        "          continue\n",
        "\n",
        "        # Ignore les avertissements de convergence\n",
        "        with warnings.catch_warnings():\n",
        "            warnings.filterwarnings(\"ignore\", category=UserWarning, module=\"hmmlearn\")\n",
        "\n",
        "            # Entraîner le modèle\n",
        "            try:\n",
        "              model.fit(X_reshaped)\n",
        "            except ValueError as e:\n",
        "              print(f\"Erreur lors de l'entrainement du modèle pour la colonne {col_name}: {e}\")\n",
        "              continue\n",
        "            #Vérifier la convergence\n",
        "            if not model.monitor_.converged:\n",
        "                print(f\"  Le modèle HMM n'a pas convergé pour la colonne : {col_name}. Colonne ignorée.\")\n",
        "                continue  # Passer à la colonne suivante si le modèle ne converge pas\n",
        "\n",
        "        # 3. Prédiction des états cachés\n",
        "        try:\n",
        "          hidden_states = model.predict(X_reshaped)\n",
        "        except ValueError as e:\n",
        "          print(f\"Erreur lors de la prédiction des etats cachés pour la colonne {col_name}: {e}\")\n",
        "          continue\n",
        "        # Ajouter les états cachés au DataFrame de sortie\n",
        "        df_hidden_states[f'hidden_state_{col_name}'] = hidden_states\n",
        "\n",
        "    return df_hidden_states\n",
        "\n",
        "\n",
        "data_enriched = applied_hmm(X_ori)"
      ],
      "metadata": {
        "colab": {
          "base_uri": "https://localhost:8080/"
        },
        "id": "hQUYw5aTHn77",
        "outputId": "fce410b9-5a95-4fe4-8d99-b47563b0cc62"
      },
      "execution_count": null,
      "outputs": [
        {
          "metadata": {
            "tags": null
          },
          "name": "stderr",
          "output_type": "stream",
          "text": [
            "WARNING:hmmlearn.base:Even though the 'transmat_' attribute is set, it will be overwritten during initialization because 'init_params' contains 't'\n"
          ]
        },
        {
          "metadata": {
            "tags": null
          },
          "name": "stdout",
          "output_type": "stream",
          "text": [
            "Traitement de la colonne : Total_Amount\n"
          ]
        },
        {
          "metadata": {
            "tags": null
          },
          "name": "stderr",
          "output_type": "stream",
          "text": [
            "WARNING:hmmlearn.base:Even though the 'transmat_' attribute is set, it will be overwritten during initialization because 'init_params' contains 't'\n"
          ]
        },
        {
          "metadata": {
            "tags": null
          },
          "name": "stdout",
          "output_type": "stream",
          "text": [
            "Traitement de la colonne : Total_Amount_to_Repay\n"
          ]
        },
        {
          "metadata": {
            "tags": null
          },
          "name": "stderr",
          "output_type": "stream",
          "text": [
            "WARNING:hmmlearn.base:Even though the 'transmat_' attribute is set, it will be overwritten during initialization because 'init_params' contains 't'\n"
          ]
        },
        {
          "metadata": {
            "tags": null
          },
          "name": "stdout",
          "output_type": "stream",
          "text": [
            "Traitement de la colonne : duration\n"
          ]
        },
        {
          "metadata": {
            "tags": null
          },
          "name": "stderr",
          "output_type": "stream",
          "text": [
            "WARNING:hmmlearn.base:Model is not converging.  Current: 418939.4228562979 is not greater than 418942.9173137023. Delta is -3.4944574043620378\n",
            "WARNING:hmmlearn.base:Even though the 'transmat_' attribute is set, it will be overwritten during initialization because 'init_params' contains 't'\n"
          ]
        },
        {
          "metadata": {
            "tags": null
          },
          "name": "stdout",
          "output_type": "stream",
          "text": [
            "Traitement de la colonne : Amount_Funded_By_Lender\n"
          ]
        },
        {
          "metadata": {
            "tags": null
          },
          "name": "stderr",
          "output_type": "stream",
          "text": [
            "WARNING:hmmlearn.base:Even though the 'transmat_' attribute is set, it will be overwritten during initialization because 'init_params' contains 't'\n"
          ]
        },
        {
          "metadata": {
            "tags": null
          },
          "name": "stdout",
          "output_type": "stream",
          "text": [
            "Traitement de la colonne : Lender_portion_Funded\n"
          ]
        },
        {
          "metadata": {
            "tags": null
          },
          "name": "stderr",
          "output_type": "stream",
          "text": [
            "WARNING:hmmlearn.base:Even though the 'transmat_' attribute is set, it will be overwritten during initialization because 'init_params' contains 't'\n"
          ]
        },
        {
          "metadata": {
            "tags": null
          },
          "name": "stdout",
          "output_type": "stream",
          "text": [
            "Traitement de la colonne : Lender_portion_to_be_repaid\n"
          ]
        },
        {
          "metadata": {
            "tags": null
          },
          "name": "stderr",
          "output_type": "stream",
          "text": [
            "WARNING:hmmlearn.base:Even though the 'transmat_' attribute is set, it will be overwritten during initialization because 'init_params' contains 't'\n"
          ]
        },
        {
          "metadata": {
            "tags": null
          },
          "name": "stdout",
          "output_type": "stream",
          "text": [
            "Traitement de la colonne : month_int\n"
          ]
        },
        {
          "metadata": {
            "tags": null
          },
          "name": "stderr",
          "output_type": "stream",
          "text": [
            "WARNING:hmmlearn.base:Even though the 'transmat_' attribute is set, it will be overwritten during initialization because 'init_params' contains 't'\n"
          ]
        },
        {
          "metadata": {
            "tags": null
          },
          "name": "stdout",
          "output_type": "stream",
          "text": [
            "Traitement de la colonne : day\n"
          ]
        },
        {
          "metadata": {
            "tags": null
          },
          "name": "stderr",
          "output_type": "stream",
          "text": [
            "WARNING:hmmlearn.base:Even though the 'transmat_' attribute is set, it will be overwritten during initialization because 'init_params' contains 't'\n"
          ]
        },
        {
          "metadata": {
            "tags": null
          },
          "name": "stdout",
          "output_type": "stream",
          "text": [
            "Traitement de la colonne : Unemployment rate\n"
          ]
        },
        {
          "metadata": {
            "tags": null
          },
          "name": "stderr",
          "output_type": "stream",
          "text": [
            "WARNING:hmmlearn.base:Model is not converging.  Current: 467975.0808374393 is not greater than 467979.71776990005. Delta is -4.63693246076582\n",
            "WARNING:hmmlearn.base:Even though the 'transmat_' attribute is set, it will be overwritten during initialization because 'init_params' contains 't'\n"
          ]
        },
        {
          "metadata": {
            "tags": null
          },
          "name": "stdout",
          "output_type": "stream",
          "text": [
            "Traitement de la colonne : month\n"
          ]
        },
        {
          "metadata": {
            "tags": null
          },
          "name": "stderr",
          "output_type": "stream",
          "text": [
            "WARNING:hmmlearn.base:Even though the 'transmat_' attribute is set, it will be overwritten during initialization because 'init_params' contains 't'\n"
          ]
        },
        {
          "metadata": {
            "tags": null
          },
          "name": "stdout",
          "output_type": "stream",
          "text": [
            "Traitement de la colonne : Year\n"
          ]
        },
        {
          "metadata": {
            "tags": null
          },
          "name": "stderr",
          "output_type": "stream",
          "text": [
            "WARNING:hmmlearn.base:Model is not converging.  Current: 213371.85202561104 is not greater than 336485.3980303355. Delta is -123113.54600472446\n",
            "WARNING:hmmlearn.base:Even though the 'transmat_' attribute is set, it will be overwritten during initialization because 'init_params' contains 't'\n"
          ]
        },
        {
          "metadata": {
            "tags": null
          },
          "name": "stdout",
          "output_type": "stream",
          "text": [
            "Erreur lors de la prédiction des etats cachés pour la colonne Year: transmat_ rows must sum to 1 (got row sums of [1. 0. 1.])\n",
            "Traitement de la colonne : 12-Month Inflation\n"
          ]
        },
        {
          "metadata": {
            "tags": null
          },
          "name": "stderr",
          "output_type": "stream",
          "text": [
            "WARNING:hmmlearn.base:Even though the 'transmat_' attribute is set, it will be overwritten during initialization because 'init_params' contains 't'\n"
          ]
        },
        {
          "metadata": {
            "tags": null
          },
          "name": "stdout",
          "output_type": "stream",
          "text": [
            "Traitement de la colonne : Interbank Rate\n"
          ]
        },
        {
          "metadata": {
            "tags": null
          },
          "name": "stderr",
          "output_type": "stream",
          "text": [
            "WARNING:hmmlearn.base:Model is not converging.  Current: 443914.29615643807 is not greater than 443914.2961567139. Delta is -2.7584610506892204e-07\n",
            "WARNING:hmmlearn.base:Even though the 'transmat_' attribute is set, it will be overwritten during initialization because 'init_params' contains 't'\n"
          ]
        },
        {
          "metadata": {
            "tags": null
          },
          "name": "stdout",
          "output_type": "stream",
          "text": [
            "Traitement de la colonne : Central Bank Rate\n"
          ]
        },
        {
          "metadata": {
            "tags": null
          },
          "name": "stderr",
          "output_type": "stream",
          "text": [
            "WARNING:hmmlearn.base:Even though the 'transmat_' attribute is set, it will be overwritten during initialization because 'init_params' contains 't'\n"
          ]
        },
        {
          "metadata": {
            "tags": null
          },
          "name": "stdout",
          "output_type": "stream",
          "text": [
            "Traitement de la colonne : Deposit\n"
          ]
        },
        {
          "metadata": {
            "tags": null
          },
          "name": "stderr",
          "output_type": "stream",
          "text": [
            "WARNING:hmmlearn.base:Model is not converging.  Current: 443385.4763276532 is not greater than 443386.03320234956. Delta is -0.5568746963399462\n",
            "WARNING:hmmlearn.base:Even though the 'transmat_' attribute is set, it will be overwritten during initialization because 'init_params' contains 't'\n"
          ]
        },
        {
          "metadata": {
            "tags": null
          },
          "name": "stdout",
          "output_type": "stream",
          "text": [
            "Traitement de la colonne : Savings\n"
          ]
        },
        {
          "metadata": {
            "tags": null
          },
          "name": "stderr",
          "output_type": "stream",
          "text": [
            "WARNING:hmmlearn.base:Even though the 'transmat_' attribute is set, it will be overwritten during initialization because 'init_params' contains 't'\n"
          ]
        },
        {
          "metadata": {
            "tags": null
          },
          "name": "stdout",
          "output_type": "stream",
          "text": [
            "Traitement de la colonne : Lending \n"
          ]
        },
        {
          "metadata": {
            "tags": null
          },
          "name": "stderr",
          "output_type": "stream",
          "text": [
            "WARNING:hmmlearn.base:Even though the 'transmat_' attribute is set, it will be overwritten during initialization because 'init_params' contains 't'\n"
          ]
        },
        {
          "metadata": {
            "tags": null
          },
          "name": "stdout",
          "output_type": "stream",
          "text": [
            "Traitement de la colonne : Overdraft \n"
          ]
        },
        {
          "metadata": {
            "tags": null
          },
          "name": "stderr",
          "output_type": "stream",
          "text": [
            "WARNING:hmmlearn.base:Model is not converging.  Current: 443688.521616444 is not greater than 443714.51978745655. Delta is -25.998171012557577\n",
            "WARNING:hmmlearn.base:Even though the 'transmat_' attribute is set, it will be overwritten during initialization because 'init_params' contains 't'\n"
          ]
        },
        {
          "metadata": {
            "tags": null
          },
          "name": "stdout",
          "output_type": "stream",
          "text": [
            "Traitement de la colonne : interest_rate_spread\n"
          ]
        },
        {
          "metadata": {
            "tags": null
          },
          "name": "stderr",
          "output_type": "stream",
          "text": [
            "WARNING:hmmlearn.base:Model is not converging.  Current: 432354.13742473396 is not greater than 432356.86186533666. Delta is -2.7244406027020887\n",
            "WARNING:hmmlearn.base:Even though the 'transmat_' attribute is set, it will be overwritten during initialization because 'init_params' contains 't'\n"
          ]
        },
        {
          "metadata": {
            "tags": null
          },
          "name": "stdout",
          "output_type": "stream",
          "text": [
            "Traitement de la colonne : loan_type_Type_1\n"
          ]
        },
        {
          "metadata": {
            "tags": null
          },
          "name": "stderr",
          "output_type": "stream",
          "text": [
            "WARNING:hmmlearn.base:Even though the 'transmat_' attribute is set, it will be overwritten during initialization because 'init_params' contains 't'\n"
          ]
        },
        {
          "metadata": {
            "tags": null
          },
          "name": "stdout",
          "output_type": "stream",
          "text": [
            "Traitement de la colonne : loan_type_Type_10\n"
          ]
        },
        {
          "metadata": {
            "tags": null
          },
          "name": "stderr",
          "output_type": "stream",
          "text": [
            "WARNING:hmmlearn.base:Even though the 'transmat_' attribute is set, it will be overwritten during initialization because 'init_params' contains 't'\n"
          ]
        },
        {
          "metadata": {
            "tags": null
          },
          "name": "stdout",
          "output_type": "stream",
          "text": [
            "Traitement de la colonne : loan_type_Type_11\n"
          ]
        },
        {
          "metadata": {
            "tags": null
          },
          "name": "stderr",
          "output_type": "stream",
          "text": [
            "WARNING:hmmlearn.base:Even though the 'transmat_' attribute is set, it will be overwritten during initialization because 'init_params' contains 't'\n"
          ]
        },
        {
          "metadata": {
            "tags": null
          },
          "name": "stdout",
          "output_type": "stream",
          "text": [
            "Traitement de la colonne : loan_type_Type_12\n"
          ]
        },
        {
          "metadata": {
            "tags": null
          },
          "name": "stderr",
          "output_type": "stream",
          "text": [
            "WARNING:hmmlearn.base:Even though the 'transmat_' attribute is set, it will be overwritten during initialization because 'init_params' contains 't'\n"
          ]
        },
        {
          "metadata": {
            "tags": null
          },
          "name": "stdout",
          "output_type": "stream",
          "text": [
            "Traitement de la colonne : loan_type_Type_13\n"
          ]
        },
        {
          "metadata": {
            "tags": null
          },
          "name": "stderr",
          "output_type": "stream",
          "text": [
            "WARNING:hmmlearn.base:Even though the 'transmat_' attribute is set, it will be overwritten during initialization because 'init_params' contains 't'\n"
          ]
        },
        {
          "metadata": {
            "tags": null
          },
          "name": "stdout",
          "output_type": "stream",
          "text": [
            "Traitement de la colonne : loan_type_Type_14\n"
          ]
        },
        {
          "metadata": {
            "tags": null
          },
          "name": "stderr",
          "output_type": "stream",
          "text": [
            "WARNING:hmmlearn.base:Even though the 'transmat_' attribute is set, it will be overwritten during initialization because 'init_params' contains 't'\n"
          ]
        },
        {
          "metadata": {
            "tags": null
          },
          "name": "stdout",
          "output_type": "stream",
          "text": [
            "Traitement de la colonne : loan_type_Type_15\n"
          ]
        },
        {
          "metadata": {
            "tags": null
          },
          "name": "stderr",
          "output_type": "stream",
          "text": [
            "WARNING:hmmlearn.base:Even though the 'transmat_' attribute is set, it will be overwritten during initialization because 'init_params' contains 't'\n"
          ]
        },
        {
          "metadata": {
            "tags": null
          },
          "name": "stdout",
          "output_type": "stream",
          "text": [
            "Traitement de la colonne : loan_type_Type_17\n"
          ]
        },
        {
          "metadata": {
            "tags": null
          },
          "name": "stderr",
          "output_type": "stream",
          "text": [
            "WARNING:hmmlearn.base:Even though the 'transmat_' attribute is set, it will be overwritten during initialization because 'init_params' contains 't'\n"
          ]
        },
        {
          "metadata": {
            "tags": null
          },
          "name": "stdout",
          "output_type": "stream",
          "text": [
            "Traitement de la colonne : loan_type_Type_18\n"
          ]
        },
        {
          "metadata": {
            "tags": null
          },
          "name": "stderr",
          "output_type": "stream",
          "text": [
            "WARNING:hmmlearn.base:Even though the 'transmat_' attribute is set, it will be overwritten during initialization because 'init_params' contains 't'\n"
          ]
        },
        {
          "metadata": {
            "tags": null
          },
          "name": "stdout",
          "output_type": "stream",
          "text": [
            "Traitement de la colonne : loan_type_Type_2\n"
          ]
        },
        {
          "metadata": {
            "tags": null
          },
          "name": "stderr",
          "output_type": "stream",
          "text": [
            "WARNING:hmmlearn.base:Even though the 'transmat_' attribute is set, it will be overwritten during initialization because 'init_params' contains 't'\n"
          ]
        },
        {
          "metadata": {
            "tags": null
          },
          "name": "stdout",
          "output_type": "stream",
          "text": [
            "Traitement de la colonne : loan_type_Type_20\n"
          ]
        },
        {
          "metadata": {
            "tags": null
          },
          "name": "stderr",
          "output_type": "stream",
          "text": [
            "WARNING:hmmlearn.base:Even though the 'transmat_' attribute is set, it will be overwritten during initialization because 'init_params' contains 't'\n"
          ]
        },
        {
          "metadata": {
            "tags": null
          },
          "name": "stdout",
          "output_type": "stream",
          "text": [
            "Traitement de la colonne : loan_type_Type_21\n"
          ]
        },
        {
          "metadata": {
            "tags": null
          },
          "name": "stderr",
          "output_type": "stream",
          "text": [
            "WARNING:hmmlearn.base:Even though the 'transmat_' attribute is set, it will be overwritten during initialization because 'init_params' contains 't'\n"
          ]
        },
        {
          "metadata": {
            "tags": null
          },
          "name": "stdout",
          "output_type": "stream",
          "text": [
            "Traitement de la colonne : loan_type_Type_22\n"
          ]
        },
        {
          "metadata": {
            "tags": null
          },
          "name": "stderr",
          "output_type": "stream",
          "text": [
            "WARNING:hmmlearn.base:Even though the 'transmat_' attribute is set, it will be overwritten during initialization because 'init_params' contains 't'\n"
          ]
        },
        {
          "metadata": {
            "tags": null
          },
          "name": "stdout",
          "output_type": "stream",
          "text": [
            "Traitement de la colonne : loan_type_Type_23\n"
          ]
        },
        {
          "metadata": {
            "tags": null
          },
          "name": "stderr",
          "output_type": "stream",
          "text": [
            "WARNING:hmmlearn.base:Even though the 'transmat_' attribute is set, it will be overwritten during initialization because 'init_params' contains 't'\n"
          ]
        },
        {
          "metadata": {
            "tags": null
          },
          "name": "stdout",
          "output_type": "stream",
          "text": [
            "Traitement de la colonne : loan_type_Type_24\n"
          ]
        },
        {
          "metadata": {
            "tags": null
          },
          "name": "stderr",
          "output_type": "stream",
          "text": [
            "WARNING:hmmlearn.base:Even though the 'transmat_' attribute is set, it will be overwritten during initialization because 'init_params' contains 't'\n"
          ]
        },
        {
          "metadata": {
            "tags": null
          },
          "name": "stdout",
          "output_type": "stream",
          "text": [
            "Traitement de la colonne : loan_type_Type_4\n"
          ]
        },
        {
          "metadata": {
            "tags": null
          },
          "name": "stderr",
          "output_type": "stream",
          "text": [
            "WARNING:hmmlearn.base:Even though the 'transmat_' attribute is set, it will be overwritten during initialization because 'init_params' contains 't'\n"
          ]
        },
        {
          "metadata": {
            "tags": null
          },
          "name": "stdout",
          "output_type": "stream",
          "text": [
            "Traitement de la colonne : loan_type_Type_5\n"
          ]
        },
        {
          "metadata": {
            "tags": null
          },
          "name": "stderr",
          "output_type": "stream",
          "text": [
            "WARNING:hmmlearn.base:Even though the 'transmat_' attribute is set, it will be overwritten during initialization because 'init_params' contains 't'\n"
          ]
        },
        {
          "metadata": {
            "tags": null
          },
          "name": "stdout",
          "output_type": "stream",
          "text": [
            "Traitement de la colonne : loan_type_Type_6\n"
          ]
        },
        {
          "metadata": {
            "tags": null
          },
          "name": "stderr",
          "output_type": "stream",
          "text": [
            "WARNING:hmmlearn.base:Even though the 'transmat_' attribute is set, it will be overwritten during initialization because 'init_params' contains 't'\n"
          ]
        },
        {
          "metadata": {
            "tags": null
          },
          "name": "stdout",
          "output_type": "stream",
          "text": [
            "Traitement de la colonne : loan_type_Type_7\n"
          ]
        },
        {
          "metadata": {
            "tags": null
          },
          "name": "stderr",
          "output_type": "stream",
          "text": [
            "WARNING:hmmlearn.base:Even though the 'transmat_' attribute is set, it will be overwritten during initialization because 'init_params' contains 't'\n"
          ]
        },
        {
          "metadata": {
            "tags": null
          },
          "name": "stdout",
          "output_type": "stream",
          "text": [
            "Traitement de la colonne : loan_type_Type_9\n"
          ]
        },
        {
          "metadata": {
            "tags": null
          },
          "name": "stderr",
          "output_type": "stream",
          "text": [
            "WARNING:hmmlearn.base:Even though the 'transmat_' attribute is set, it will be overwritten during initialization because 'init_params' contains 't'\n"
          ]
        },
        {
          "metadata": {
            "tags": null
          },
          "name": "stdout",
          "output_type": "stream",
          "text": [
            "Traitement de la colonne : New_versus_Repeat_New Loan\n"
          ]
        },
        {
          "metadata": {
            "tags": null
          },
          "name": "stderr",
          "output_type": "stream",
          "text": [
            "WARNING:hmmlearn.base:Even though the 'transmat_' attribute is set, it will be overwritten during initialization because 'init_params' contains 't'\n"
          ]
        },
        {
          "metadata": {
            "tags": null
          },
          "name": "stdout",
          "output_type": "stream",
          "text": [
            "Traitement de la colonne : New_versus_Repeat_Repeat Loan\n"
          ]
        },
        {
          "metadata": {
            "tags": null
          },
          "name": "stderr",
          "output_type": "stream",
          "text": [
            "WARNING:hmmlearn.base:Even though the 'transmat_' attribute is set, it will be overwritten during initialization because 'init_params' contains 't'\n"
          ]
        },
        {
          "metadata": {
            "tags": null
          },
          "name": "stdout",
          "output_type": "stream",
          "text": [
            "Traitement de la colonne : MONTH_JAN\n"
          ]
        },
        {
          "metadata": {
            "tags": null
          },
          "name": "stderr",
          "output_type": "stream",
          "text": [
            "WARNING:hmmlearn.base:Even though the 'transmat_' attribute is set, it will be overwritten during initialization because 'init_params' contains 't'\n"
          ]
        },
        {
          "metadata": {
            "tags": null
          },
          "name": "stdout",
          "output_type": "stream",
          "text": [
            "Traitement de la colonne : MONTH_JANUARY\n"
          ]
        },
        {
          "metadata": {
            "tags": null
          },
          "name": "stderr",
          "output_type": "stream",
          "text": [
            "WARNING:hmmlearn.base:Even though the 'transmat_' attribute is set, it will be overwritten during initialization because 'init_params' contains 't'\n"
          ]
        },
        {
          "metadata": {
            "tags": null
          },
          "name": "stdout",
          "output_type": "stream",
          "text": [
            "Traitement de la colonne : interest_rate_spread_poly_2\n"
          ]
        },
        {
          "metadata": {
            "tags": null
          },
          "name": "stderr",
          "output_type": "stream",
          "text": [
            "WARNING:hmmlearn.base:Model is not converging.  Current: 422336.05311481806 is not greater than 422489.92255059566. Delta is -153.86943577759666\n",
            "WARNING:hmmlearn.base:Even though the 'transmat_' attribute is set, it will be overwritten during initialization because 'init_params' contains 't'\n"
          ]
        },
        {
          "metadata": {
            "tags": null
          },
          "name": "stdout",
          "output_type": "stream",
          "text": [
            "Traitement de la colonne : Central Bank Rate Change\n"
          ]
        }
      ]
    },
    {
      "cell_type": "code",
      "source": [
        "# Afficher les données enrichies\n",
        "data_enriched.shape,X_ori.shape"
      ],
      "metadata": {
        "colab": {
          "base_uri": "https://localhost:8080/"
        },
        "id": "v4zzaVTQPDLy",
        "outputId": "8718f138-3b1b-428c-a939-f204d3445a72"
      },
      "execution_count": null,
      "outputs": [
        {
          "data": {
            "text/plain": [
              "((68654, 44), (68654, 45))"
            ]
          },
          "execution_count": 165,
          "metadata": {},
          "output_type": "execute_result"
        }
      ]
    },
    {
      "cell_type": "code",
      "source": [
        "X_merged = pd.concat([X_ori, data_enriched], axis=1)"
      ],
      "metadata": {
        "id": "CsKD8LY_s8jd"
      },
      "execution_count": null,
      "outputs": []
    },
    {
      "cell_type": "code",
      "source": [
        "X_train, X_valid, y_train, y_valid = train_test_split(X_merged, y, test_size=0.2, random_state=42)"
      ],
      "metadata": {
        "id": "wCz4px9YrxRo"
      },
      "execution_count": null,
      "outputs": []
    },
    {
      "cell_type": "markdown",
      "metadata": {
        "id": "f5CHOKoi0tG0"
      },
      "source": [
        "## Initialisation & Model Training"
      ]
    },
    {
      "cell_type": "code",
      "execution_count": null,
      "metadata": {
        "colab": {
          "base_uri": "https://localhost:8080/",
          "height": 80
        },
        "id": "BHh2jDjc7wPQ",
        "outputId": "e988d3e7-1226-41af-dd76-07656914828b"
      },
      "outputs": [
        {
          "data": {
            "text/html": [
              "<style>#sk-container-id-3 {\n",
              "  /* Definition of color scheme common for light and dark mode */\n",
              "  --sklearn-color-text: #000;\n",
              "  --sklearn-color-text-muted: #666;\n",
              "  --sklearn-color-line: gray;\n",
              "  /* Definition of color scheme for unfitted estimators */\n",
              "  --sklearn-color-unfitted-level-0: #fff5e6;\n",
              "  --sklearn-color-unfitted-level-1: #f6e4d2;\n",
              "  --sklearn-color-unfitted-level-2: #ffe0b3;\n",
              "  --sklearn-color-unfitted-level-3: chocolate;\n",
              "  /* Definition of color scheme for fitted estimators */\n",
              "  --sklearn-color-fitted-level-0: #f0f8ff;\n",
              "  --sklearn-color-fitted-level-1: #d4ebff;\n",
              "  --sklearn-color-fitted-level-2: #b3dbfd;\n",
              "  --sklearn-color-fitted-level-3: cornflowerblue;\n",
              "\n",
              "  /* Specific color for light theme */\n",
              "  --sklearn-color-text-on-default-background: var(--sg-text-color, var(--theme-code-foreground, var(--jp-content-font-color1, black)));\n",
              "  --sklearn-color-background: var(--sg-background-color, var(--theme-background, var(--jp-layout-color0, white)));\n",
              "  --sklearn-color-border-box: var(--sg-text-color, var(--theme-code-foreground, var(--jp-content-font-color1, black)));\n",
              "  --sklearn-color-icon: #696969;\n",
              "\n",
              "  @media (prefers-color-scheme: dark) {\n",
              "    /* Redefinition of color scheme for dark theme */\n",
              "    --sklearn-color-text-on-default-background: var(--sg-text-color, var(--theme-code-foreground, var(--jp-content-font-color1, white)));\n",
              "    --sklearn-color-background: var(--sg-background-color, var(--theme-background, var(--jp-layout-color0, #111)));\n",
              "    --sklearn-color-border-box: var(--sg-text-color, var(--theme-code-foreground, var(--jp-content-font-color1, white)));\n",
              "    --sklearn-color-icon: #878787;\n",
              "  }\n",
              "}\n",
              "\n",
              "#sk-container-id-3 {\n",
              "  color: var(--sklearn-color-text);\n",
              "}\n",
              "\n",
              "#sk-container-id-3 pre {\n",
              "  padding: 0;\n",
              "}\n",
              "\n",
              "#sk-container-id-3 input.sk-hidden--visually {\n",
              "  border: 0;\n",
              "  clip: rect(1px 1px 1px 1px);\n",
              "  clip: rect(1px, 1px, 1px, 1px);\n",
              "  height: 1px;\n",
              "  margin: -1px;\n",
              "  overflow: hidden;\n",
              "  padding: 0;\n",
              "  position: absolute;\n",
              "  width: 1px;\n",
              "}\n",
              "\n",
              "#sk-container-id-3 div.sk-dashed-wrapped {\n",
              "  border: 1px dashed var(--sklearn-color-line);\n",
              "  margin: 0 0.4em 0.5em 0.4em;\n",
              "  box-sizing: border-box;\n",
              "  padding-bottom: 0.4em;\n",
              "  background-color: var(--sklearn-color-background);\n",
              "}\n",
              "\n",
              "#sk-container-id-3 div.sk-container {\n",
              "  /* jupyter's `normalize.less` sets `[hidden] { display: none; }`\n",
              "     but bootstrap.min.css set `[hidden] { display: none !important; }`\n",
              "     so we also need the `!important` here to be able to override the\n",
              "     default hidden behavior on the sphinx rendered scikit-learn.org.\n",
              "     See: https://github.com/scikit-learn/scikit-learn/issues/21755 */\n",
              "  display: inline-block !important;\n",
              "  position: relative;\n",
              "}\n",
              "\n",
              "#sk-container-id-3 div.sk-text-repr-fallback {\n",
              "  display: none;\n",
              "}\n",
              "\n",
              "div.sk-parallel-item,\n",
              "div.sk-serial,\n",
              "div.sk-item {\n",
              "  /* draw centered vertical line to link estimators */\n",
              "  background-image: linear-gradient(var(--sklearn-color-text-on-default-background), var(--sklearn-color-text-on-default-background));\n",
              "  background-size: 2px 100%;\n",
              "  background-repeat: no-repeat;\n",
              "  background-position: center center;\n",
              "}\n",
              "\n",
              "/* Parallel-specific style estimator block */\n",
              "\n",
              "#sk-container-id-3 div.sk-parallel-item::after {\n",
              "  content: \"\";\n",
              "  width: 100%;\n",
              "  border-bottom: 2px solid var(--sklearn-color-text-on-default-background);\n",
              "  flex-grow: 1;\n",
              "}\n",
              "\n",
              "#sk-container-id-3 div.sk-parallel {\n",
              "  display: flex;\n",
              "  align-items: stretch;\n",
              "  justify-content: center;\n",
              "  background-color: var(--sklearn-color-background);\n",
              "  position: relative;\n",
              "}\n",
              "\n",
              "#sk-container-id-3 div.sk-parallel-item {\n",
              "  display: flex;\n",
              "  flex-direction: column;\n",
              "}\n",
              "\n",
              "#sk-container-id-3 div.sk-parallel-item:first-child::after {\n",
              "  align-self: flex-end;\n",
              "  width: 50%;\n",
              "}\n",
              "\n",
              "#sk-container-id-3 div.sk-parallel-item:last-child::after {\n",
              "  align-self: flex-start;\n",
              "  width: 50%;\n",
              "}\n",
              "\n",
              "#sk-container-id-3 div.sk-parallel-item:only-child::after {\n",
              "  width: 0;\n",
              "}\n",
              "\n",
              "/* Serial-specific style estimator block */\n",
              "\n",
              "#sk-container-id-3 div.sk-serial {\n",
              "  display: flex;\n",
              "  flex-direction: column;\n",
              "  align-items: center;\n",
              "  background-color: var(--sklearn-color-background);\n",
              "  padding-right: 1em;\n",
              "  padding-left: 1em;\n",
              "}\n",
              "\n",
              "\n",
              "/* Toggleable style: style used for estimator/Pipeline/ColumnTransformer box that is\n",
              "clickable and can be expanded/collapsed.\n",
              "- Pipeline and ColumnTransformer use this feature and define the default style\n",
              "- Estimators will overwrite some part of the style using the `sk-estimator` class\n",
              "*/\n",
              "\n",
              "/* Pipeline and ColumnTransformer style (default) */\n",
              "\n",
              "#sk-container-id-3 div.sk-toggleable {\n",
              "  /* Default theme specific background. It is overwritten whether we have a\n",
              "  specific estimator or a Pipeline/ColumnTransformer */\n",
              "  background-color: var(--sklearn-color-background);\n",
              "}\n",
              "\n",
              "/* Toggleable label */\n",
              "#sk-container-id-3 label.sk-toggleable__label {\n",
              "  cursor: pointer;\n",
              "  display: flex;\n",
              "  width: 100%;\n",
              "  margin-bottom: 0;\n",
              "  padding: 0.5em;\n",
              "  box-sizing: border-box;\n",
              "  text-align: center;\n",
              "  align-items: start;\n",
              "  justify-content: space-between;\n",
              "  gap: 0.5em;\n",
              "}\n",
              "\n",
              "#sk-container-id-3 label.sk-toggleable__label .caption {\n",
              "  font-size: 0.6rem;\n",
              "  font-weight: lighter;\n",
              "  color: var(--sklearn-color-text-muted);\n",
              "}\n",
              "\n",
              "#sk-container-id-3 label.sk-toggleable__label-arrow:before {\n",
              "  /* Arrow on the left of the label */\n",
              "  content: \"▸\";\n",
              "  float: left;\n",
              "  margin-right: 0.25em;\n",
              "  color: var(--sklearn-color-icon);\n",
              "}\n",
              "\n",
              "#sk-container-id-3 label.sk-toggleable__label-arrow:hover:before {\n",
              "  color: var(--sklearn-color-text);\n",
              "}\n",
              "\n",
              "/* Toggleable content - dropdown */\n",
              "\n",
              "#sk-container-id-3 div.sk-toggleable__content {\n",
              "  max-height: 0;\n",
              "  max-width: 0;\n",
              "  overflow: hidden;\n",
              "  text-align: left;\n",
              "  /* unfitted */\n",
              "  background-color: var(--sklearn-color-unfitted-level-0);\n",
              "}\n",
              "\n",
              "#sk-container-id-3 div.sk-toggleable__content.fitted {\n",
              "  /* fitted */\n",
              "  background-color: var(--sklearn-color-fitted-level-0);\n",
              "}\n",
              "\n",
              "#sk-container-id-3 div.sk-toggleable__content pre {\n",
              "  margin: 0.2em;\n",
              "  border-radius: 0.25em;\n",
              "  color: var(--sklearn-color-text);\n",
              "  /* unfitted */\n",
              "  background-color: var(--sklearn-color-unfitted-level-0);\n",
              "}\n",
              "\n",
              "#sk-container-id-3 div.sk-toggleable__content.fitted pre {\n",
              "  /* unfitted */\n",
              "  background-color: var(--sklearn-color-fitted-level-0);\n",
              "}\n",
              "\n",
              "#sk-container-id-3 input.sk-toggleable__control:checked~div.sk-toggleable__content {\n",
              "  /* Expand drop-down */\n",
              "  max-height: 200px;\n",
              "  max-width: 100%;\n",
              "  overflow: auto;\n",
              "}\n",
              "\n",
              "#sk-container-id-3 input.sk-toggleable__control:checked~label.sk-toggleable__label-arrow:before {\n",
              "  content: \"▾\";\n",
              "}\n",
              "\n",
              "/* Pipeline/ColumnTransformer-specific style */\n",
              "\n",
              "#sk-container-id-3 div.sk-label input.sk-toggleable__control:checked~label.sk-toggleable__label {\n",
              "  color: var(--sklearn-color-text);\n",
              "  background-color: var(--sklearn-color-unfitted-level-2);\n",
              "}\n",
              "\n",
              "#sk-container-id-3 div.sk-label.fitted input.sk-toggleable__control:checked~label.sk-toggleable__label {\n",
              "  background-color: var(--sklearn-color-fitted-level-2);\n",
              "}\n",
              "\n",
              "/* Estimator-specific style */\n",
              "\n",
              "/* Colorize estimator box */\n",
              "#sk-container-id-3 div.sk-estimator input.sk-toggleable__control:checked~label.sk-toggleable__label {\n",
              "  /* unfitted */\n",
              "  background-color: var(--sklearn-color-unfitted-level-2);\n",
              "}\n",
              "\n",
              "#sk-container-id-3 div.sk-estimator.fitted input.sk-toggleable__control:checked~label.sk-toggleable__label {\n",
              "  /* fitted */\n",
              "  background-color: var(--sklearn-color-fitted-level-2);\n",
              "}\n",
              "\n",
              "#sk-container-id-3 div.sk-label label.sk-toggleable__label,\n",
              "#sk-container-id-3 div.sk-label label {\n",
              "  /* The background is the default theme color */\n",
              "  color: var(--sklearn-color-text-on-default-background);\n",
              "}\n",
              "\n",
              "/* On hover, darken the color of the background */\n",
              "#sk-container-id-3 div.sk-label:hover label.sk-toggleable__label {\n",
              "  color: var(--sklearn-color-text);\n",
              "  background-color: var(--sklearn-color-unfitted-level-2);\n",
              "}\n",
              "\n",
              "/* Label box, darken color on hover, fitted */\n",
              "#sk-container-id-3 div.sk-label.fitted:hover label.sk-toggleable__label.fitted {\n",
              "  color: var(--sklearn-color-text);\n",
              "  background-color: var(--sklearn-color-fitted-level-2);\n",
              "}\n",
              "\n",
              "/* Estimator label */\n",
              "\n",
              "#sk-container-id-3 div.sk-label label {\n",
              "  font-family: monospace;\n",
              "  font-weight: bold;\n",
              "  display: inline-block;\n",
              "  line-height: 1.2em;\n",
              "}\n",
              "\n",
              "#sk-container-id-3 div.sk-label-container {\n",
              "  text-align: center;\n",
              "}\n",
              "\n",
              "/* Estimator-specific */\n",
              "#sk-container-id-3 div.sk-estimator {\n",
              "  font-family: monospace;\n",
              "  border: 1px dotted var(--sklearn-color-border-box);\n",
              "  border-radius: 0.25em;\n",
              "  box-sizing: border-box;\n",
              "  margin-bottom: 0.5em;\n",
              "  /* unfitted */\n",
              "  background-color: var(--sklearn-color-unfitted-level-0);\n",
              "}\n",
              "\n",
              "#sk-container-id-3 div.sk-estimator.fitted {\n",
              "  /* fitted */\n",
              "  background-color: var(--sklearn-color-fitted-level-0);\n",
              "}\n",
              "\n",
              "/* on hover */\n",
              "#sk-container-id-3 div.sk-estimator:hover {\n",
              "  /* unfitted */\n",
              "  background-color: var(--sklearn-color-unfitted-level-2);\n",
              "}\n",
              "\n",
              "#sk-container-id-3 div.sk-estimator.fitted:hover {\n",
              "  /* fitted */\n",
              "  background-color: var(--sklearn-color-fitted-level-2);\n",
              "}\n",
              "\n",
              "/* Specification for estimator info (e.g. \"i\" and \"?\") */\n",
              "\n",
              "/* Common style for \"i\" and \"?\" */\n",
              "\n",
              ".sk-estimator-doc-link,\n",
              "a:link.sk-estimator-doc-link,\n",
              "a:visited.sk-estimator-doc-link {\n",
              "  float: right;\n",
              "  font-size: smaller;\n",
              "  line-height: 1em;\n",
              "  font-family: monospace;\n",
              "  background-color: var(--sklearn-color-background);\n",
              "  border-radius: 1em;\n",
              "  height: 1em;\n",
              "  width: 1em;\n",
              "  text-decoration: none !important;\n",
              "  margin-left: 0.5em;\n",
              "  text-align: center;\n",
              "  /* unfitted */\n",
              "  border: var(--sklearn-color-unfitted-level-1) 1pt solid;\n",
              "  color: var(--sklearn-color-unfitted-level-1);\n",
              "}\n",
              "\n",
              ".sk-estimator-doc-link.fitted,\n",
              "a:link.sk-estimator-doc-link.fitted,\n",
              "a:visited.sk-estimator-doc-link.fitted {\n",
              "  /* fitted */\n",
              "  border: var(--sklearn-color-fitted-level-1) 1pt solid;\n",
              "  color: var(--sklearn-color-fitted-level-1);\n",
              "}\n",
              "\n",
              "/* On hover */\n",
              "div.sk-estimator:hover .sk-estimator-doc-link:hover,\n",
              ".sk-estimator-doc-link:hover,\n",
              "div.sk-label-container:hover .sk-estimator-doc-link:hover,\n",
              ".sk-estimator-doc-link:hover {\n",
              "  /* unfitted */\n",
              "  background-color: var(--sklearn-color-unfitted-level-3);\n",
              "  color: var(--sklearn-color-background);\n",
              "  text-decoration: none;\n",
              "}\n",
              "\n",
              "div.sk-estimator.fitted:hover .sk-estimator-doc-link.fitted:hover,\n",
              ".sk-estimator-doc-link.fitted:hover,\n",
              "div.sk-label-container:hover .sk-estimator-doc-link.fitted:hover,\n",
              ".sk-estimator-doc-link.fitted:hover {\n",
              "  /* fitted */\n",
              "  background-color: var(--sklearn-color-fitted-level-3);\n",
              "  color: var(--sklearn-color-background);\n",
              "  text-decoration: none;\n",
              "}\n",
              "\n",
              "/* Span, style for the box shown on hovering the info icon */\n",
              ".sk-estimator-doc-link span {\n",
              "  display: none;\n",
              "  z-index: 9999;\n",
              "  position: relative;\n",
              "  font-weight: normal;\n",
              "  right: .2ex;\n",
              "  padding: .5ex;\n",
              "  margin: .5ex;\n",
              "  width: min-content;\n",
              "  min-width: 20ex;\n",
              "  max-width: 50ex;\n",
              "  color: var(--sklearn-color-text);\n",
              "  box-shadow: 2pt 2pt 4pt #999;\n",
              "  /* unfitted */\n",
              "  background: var(--sklearn-color-unfitted-level-0);\n",
              "  border: .5pt solid var(--sklearn-color-unfitted-level-3);\n",
              "}\n",
              "\n",
              ".sk-estimator-doc-link.fitted span {\n",
              "  /* fitted */\n",
              "  background: var(--sklearn-color-fitted-level-0);\n",
              "  border: var(--sklearn-color-fitted-level-3);\n",
              "}\n",
              "\n",
              ".sk-estimator-doc-link:hover span {\n",
              "  display: block;\n",
              "}\n",
              "\n",
              "/* \"?\"-specific style due to the `<a>` HTML tag */\n",
              "\n",
              "#sk-container-id-3 a.estimator_doc_link {\n",
              "  float: right;\n",
              "  font-size: 1rem;\n",
              "  line-height: 1em;\n",
              "  font-family: monospace;\n",
              "  background-color: var(--sklearn-color-background);\n",
              "  border-radius: 1rem;\n",
              "  height: 1rem;\n",
              "  width: 1rem;\n",
              "  text-decoration: none;\n",
              "  /* unfitted */\n",
              "  color: var(--sklearn-color-unfitted-level-1);\n",
              "  border: var(--sklearn-color-unfitted-level-1) 1pt solid;\n",
              "}\n",
              "\n",
              "#sk-container-id-3 a.estimator_doc_link.fitted {\n",
              "  /* fitted */\n",
              "  border: var(--sklearn-color-fitted-level-1) 1pt solid;\n",
              "  color: var(--sklearn-color-fitted-level-1);\n",
              "}\n",
              "\n",
              "/* On hover */\n",
              "#sk-container-id-3 a.estimator_doc_link:hover {\n",
              "  /* unfitted */\n",
              "  background-color: var(--sklearn-color-unfitted-level-3);\n",
              "  color: var(--sklearn-color-background);\n",
              "  text-decoration: none;\n",
              "}\n",
              "\n",
              "#sk-container-id-3 a.estimator_doc_link.fitted:hover {\n",
              "  /* fitted */\n",
              "  background-color: var(--sklearn-color-fitted-level-3);\n",
              "}\n",
              "</style><div id=\"sk-container-id-3\" class=\"sk-top-container\"><div class=\"sk-text-repr-fallback\"><pre>RandomForestClassifier(random_state=42)</pre><b>In a Jupyter environment, please rerun this cell to show the HTML representation or trust the notebook. <br />On GitHub, the HTML representation is unable to render, please try loading this page with nbviewer.org.</b></div><div class=\"sk-container\" hidden><div class=\"sk-item\"><div class=\"sk-estimator fitted sk-toggleable\"><input class=\"sk-toggleable__control sk-hidden--visually\" id=\"sk-estimator-id-3\" type=\"checkbox\" checked><label for=\"sk-estimator-id-3\" class=\"sk-toggleable__label fitted sk-toggleable__label-arrow\"><div><div>RandomForestClassifier</div></div><div><a class=\"sk-estimator-doc-link fitted\" rel=\"noreferrer\" target=\"_blank\" href=\"https://scikit-learn.org/1.6/modules/generated/sklearn.ensemble.RandomForestClassifier.html\">?<span>Documentation for RandomForestClassifier</span></a><span class=\"sk-estimator-doc-link fitted\">i<span>Fitted</span></span></div></label><div class=\"sk-toggleable__content fitted\"><pre>RandomForestClassifier(random_state=42)</pre></div> </div></div></div></div>"
            ],
            "text/plain": [
              "RandomForestClassifier(random_state=42)"
            ]
          },
          "execution_count": 168,
          "metadata": {},
          "output_type": "execute_result"
        }
      ],
      "source": [
        "from sklearn.ensemble import RandomForestClassifier\n",
        "model = RandomForestClassifier(n_estimators=100, random_state=42)\n",
        "model.fit(X_train, y_train)"
      ]
    },
    {
      "cell_type": "code",
      "source": [
        "report =classification_report(y_valid, model.predict(X_valid))\n",
        "\n",
        "print(report)"
      ],
      "metadata": {
        "colab": {
          "base_uri": "https://localhost:8080/"
        },
        "id": "MBI5Nn0vtw9q",
        "outputId": "a652e1f6-60fe-43ef-b44b-8ad08c77ed04"
      },
      "execution_count": null,
      "outputs": [
        {
          "metadata": {
            "tags": null
          },
          "name": "stdout",
          "output_type": "stream",
          "text": [
            "              precision    recall  f1-score   support\n",
            "\n",
            "           0       0.99      1.00      0.99     13487\n",
            "           1       0.78      0.25      0.38       244\n",
            "\n",
            "    accuracy                           0.99     13731\n",
            "   macro avg       0.89      0.63      0.69     13731\n",
            "weighted avg       0.98      0.99      0.98     13731\n",
            "\n"
          ]
        }
      ]
    },
    {
      "cell_type": "code",
      "source": [
        "import xgboost as xgb"
      ],
      "metadata": {
        "id": "KWvW-GDcGMr6"
      },
      "execution_count": null,
      "outputs": []
    },
    {
      "cell_type": "code",
      "source": [
        "dtrain = xgb.DMatrix(X_train, label=y_train)\n",
        "dtest = xgb.DMatrix(X_valid, label=y_valid)\n",
        "\n",
        "# Définir les paramètres\n",
        "params = {\n",
        "    'objective': 'multi:softmax', # Pour classification multi-classes\n",
        "    'num_class': 3,              # Nombre de classes\n",
        "    'max_depth': 4,              # Profondeur maximale de l'arbre\n",
        "    'eta': 0.3,                  # Taux d'apprentissage\n",
        "    'seed': 42\n",
        "}\n",
        "\n",
        "\n",
        "\n",
        "# Entraîner le modèle\n",
        "model = xgb.train(params, dtrain, num_boost_round=100)\n"
      ],
      "metadata": {
        "id": "GAzw-BVmGFnY"
      },
      "execution_count": null,
      "outputs": []
    },
    {
      "cell_type": "code",
      "source": [
        "y_pred = model.predict(dtest)\n",
        "\n",
        "# Évaluer la précision\n",
        "print(classification_report(y_valid, y_pred))"
      ],
      "metadata": {
        "colab": {
          "base_uri": "https://localhost:8080/"
        },
        "id": "Xq2EEbpwIfOu",
        "outputId": "b7ff314b-fce2-444e-fdbb-4d32c5a132a4"
      },
      "execution_count": null,
      "outputs": [
        {
          "metadata": {
            "tags": null
          },
          "name": "stdout",
          "output_type": "stream",
          "text": [
            "              precision    recall  f1-score   support\n",
            "\n",
            "           0       0.99      1.00      1.00     13487\n",
            "           1       0.88      0.60      0.71       244\n",
            "\n",
            "    accuracy                           0.99     13731\n",
            "   macro avg       0.94      0.80      0.85     13731\n",
            "weighted avg       0.99      0.99      0.99     13731\n",
            "\n"
          ]
        }
      ]
    },
    {
      "cell_type": "markdown",
      "source": [
        "# Optimization"
      ],
      "metadata": {
        "id": "l9-FWytxPTKE"
      }
    },
    {
      "cell_type": "code",
      "source": [],
      "metadata": {
        "id": "InUVzPIdyQkV"
      },
      "execution_count": null,
      "outputs": []
    },
    {
      "cell_type": "code",
      "source": [
        "import xgboost as xgb\n",
        "from sklearn.model_selection import RepeatedStratifiedKFold, cross_val_score\n",
        "from sklearn.metrics import roc_auc_score, classification_report\n",
        "from numpy import mean\n",
        "import pandas as pd\n",
        "from collections import Counter\n",
        "class_dist = Counter(y_train)\n",
        "scale_pos_weight = class_dist[0] / class_dist[1]\n",
        "\n",
        "# Assuming X_train and y_train are your training data and labels\n",
        "# X_valid and y_valid are your validation set\n",
        "\n",
        "# Initialize the XGBoost classifier\n",
        "model = xgb.XGBClassifier(\n",
        "    scale_pos_weight=scale_pos_weight,\n",
        "    objective='binary:logistic',  # Specify the objective for binary classification\n",
        "    eval_metric='auc',\n",
        "    use_label_encoder=False  # Avoid warning\n",
        ")\n",
        "\n",
        "# Define the evaluation procedure\n",
        "cv = RepeatedStratifiedKFold(n_splits=10, n_repeats=3, random_state=1)\n",
        "\n",
        "# Convert data to DMatrix\n",
        "dtrain = xgb.DMatrix(X_train, label=y_train)\n",
        "\n",
        "# Evaluate the model using cross-validation\n",
        "scores = []\n",
        "models = []  # to save each model\n",
        "for train_index, test_index in cv.split(X_train, y_train):\n",
        "    X_train_cv, X_test_cv = X_train.iloc[train_index], X_train.iloc[test_index]\n",
        "    y_train_cv, y_test_cv = y_train.iloc[train_index], y_train.iloc[test_index]\n",
        "\n",
        "    class_dist = Counter(y_train_cv)\n",
        "    scale_pos_weight = class_dist[0] / class_dist[1]\n",
        "    model_cv = xgb.XGBClassifier(\n",
        "        scale_pos_weight=scale_pos_weight,\n",
        "        objective='binary:logistic',  # Specify the objective for binary classification\n",
        "        eval_metric='auc',\n",
        "        use_label_encoder=False,  # Avoid warning\n",
        "        random_state=42,\n",
        "        n_estimators=400,\n",
        "        max_depth=5,\n",
        "        learning_rate=0.3\n",
        "    )\n",
        "    model_cv.fit(X_train_cv, y_train_cv)\n",
        "    models.append(model_cv)\n",
        "\n",
        "    y_pred_proba = model_cv.predict_proba(X_test_cv)[:, 1]\n",
        "    scores.append(roc_auc_score(y_test_cv, y_pred_proba))\n",
        "\n",
        "# Summarize performance\n",
        "print('Mean ROC AUC: %.5f' % mean(scores))"
      ],
      "metadata": {
        "collapsed": true,
        "colab": {
          "base_uri": "https://localhost:8080/"
        },
        "id": "L_8pxaO3Jqad",
        "outputId": "f1f5e94b-c83a-400e-c08e-7d71e33cce38"
      },
      "execution_count": null,
      "outputs": [
        {
          "output_type": "stream",
          "name": "stdout",
          "text": [
            "Mean ROC AUC: 0.98792\n"
          ]
        }
      ]
    },
    {
      "cell_type": "markdown",
      "source": [
        "Mean ROC AUC: 0.98644"
      ],
      "metadata": {
        "id": "ZJ6C67dDGRC1"
      }
    },
    {
      "cell_type": "code",
      "source": [
        "#ids = test[\"ID\"]\n",
        "#test = test.drop(columns=[\"ID\"])\n",
        "test_created=applied_hmm(test)\n",
        "test_merged = pd.concat([test, test_created], axis=1)"
      ],
      "metadata": {
        "colab": {
          "base_uri": "https://localhost:8080/"
        },
        "id": "pKm2r5QcyTSk",
        "outputId": "108a7e37-6a26-4fb4-ab22-8b18b0c8f54e"
      },
      "execution_count": null,
      "outputs": [
        {
          "output_type": "stream",
          "name": "stderr",
          "text": [
            "WARNING:hmmlearn.base:Even though the 'transmat_' attribute is set, it will be overwritten during initialization because 'init_params' contains 't'\n"
          ]
        },
        {
          "output_type": "stream",
          "name": "stdout",
          "text": [
            "Traitement de la colonne : Total_Amount\n"
          ]
        },
        {
          "output_type": "stream",
          "name": "stderr",
          "text": [
            "WARNING:hmmlearn.base:Even though the 'transmat_' attribute is set, it will be overwritten during initialization because 'init_params' contains 't'\n"
          ]
        },
        {
          "output_type": "stream",
          "name": "stdout",
          "text": [
            "Traitement de la colonne : Total_Amount_to_Repay\n"
          ]
        },
        {
          "output_type": "stream",
          "name": "stderr",
          "text": [
            "WARNING:hmmlearn.base:Even though the 'transmat_' attribute is set, it will be overwritten during initialization because 'init_params' contains 't'\n"
          ]
        },
        {
          "output_type": "stream",
          "name": "stdout",
          "text": [
            "Traitement de la colonne : duration\n"
          ]
        },
        {
          "output_type": "stream",
          "name": "stderr",
          "text": [
            "WARNING:hmmlearn.base:Model is not converging.  Current: 97613.62433113303 is not greater than 97613.64995660822. Delta is -0.025625475187553093\n",
            "WARNING:hmmlearn.base:Even though the 'transmat_' attribute is set, it will be overwritten during initialization because 'init_params' contains 't'\n"
          ]
        },
        {
          "output_type": "stream",
          "name": "stdout",
          "text": [
            "Traitement de la colonne : Amount_Funded_By_Lender\n"
          ]
        },
        {
          "output_type": "stream",
          "name": "stderr",
          "text": [
            "WARNING:hmmlearn.base:Even though the 'transmat_' attribute is set, it will be overwritten during initialization because 'init_params' contains 't'\n"
          ]
        },
        {
          "output_type": "stream",
          "name": "stdout",
          "text": [
            "Traitement de la colonne : Lender_portion_Funded\n"
          ]
        },
        {
          "output_type": "stream",
          "name": "stderr",
          "text": [
            "WARNING:hmmlearn.base:Even though the 'transmat_' attribute is set, it will be overwritten during initialization because 'init_params' contains 't'\n"
          ]
        },
        {
          "output_type": "stream",
          "name": "stdout",
          "text": [
            "Traitement de la colonne : Lender_portion_to_be_repaid\n"
          ]
        },
        {
          "output_type": "stream",
          "name": "stderr",
          "text": [
            "WARNING:hmmlearn.base:Even though the 'transmat_' attribute is set, it will be overwritten during initialization because 'init_params' contains 't'\n"
          ]
        },
        {
          "output_type": "stream",
          "name": "stdout",
          "text": [
            "Traitement de la colonne : month_int\n"
          ]
        },
        {
          "output_type": "stream",
          "name": "stderr",
          "text": [
            "WARNING:hmmlearn.base:Even though the 'transmat_' attribute is set, it will be overwritten during initialization because 'init_params' contains 't'\n"
          ]
        },
        {
          "output_type": "stream",
          "name": "stdout",
          "text": [
            "Traitement de la colonne : day\n"
          ]
        },
        {
          "output_type": "stream",
          "name": "stderr",
          "text": [
            "WARNING:hmmlearn.base:Even though the 'transmat_' attribute is set, it will be overwritten during initialization because 'init_params' contains 't'\n"
          ]
        },
        {
          "output_type": "stream",
          "name": "stdout",
          "text": [
            "Traitement de la colonne : Unemployment rate\n"
          ]
        },
        {
          "output_type": "stream",
          "name": "stderr",
          "text": [
            "WARNING:hmmlearn.base:Even though the 'transmat_' attribute is set, it will be overwritten during initialization because 'init_params' contains 't'\n"
          ]
        },
        {
          "output_type": "stream",
          "name": "stdout",
          "text": [
            "Traitement de la colonne : month\n"
          ]
        },
        {
          "output_type": "stream",
          "name": "stderr",
          "text": [
            "WARNING:hmmlearn.base:Even though the 'transmat_' attribute is set, it will be overwritten during initialization because 'init_params' contains 't'\n"
          ]
        },
        {
          "output_type": "stream",
          "name": "stdout",
          "text": [
            "Traitement de la colonne : Year\n"
          ]
        },
        {
          "output_type": "stream",
          "name": "stderr",
          "text": [
            "WARNING:hmmlearn.base:Model is not converging.  Current: -106880.98042508347 is not greater than 103942.27277241867. Delta is -210823.25319750214\n",
            "WARNING:hmmlearn.base:Even though the 'transmat_' attribute is set, it will be overwritten during initialization because 'init_params' contains 't'\n"
          ]
        },
        {
          "output_type": "stream",
          "name": "stdout",
          "text": [
            "Erreur lors de la prédiction des etats cachés pour la colonne Year: transmat_ rows must sum to 1 (got row sums of [1. 0. 1.])\n",
            "Traitement de la colonne : 12-Month Inflation\n"
          ]
        },
        {
          "output_type": "stream",
          "name": "stderr",
          "text": [
            "WARNING:hmmlearn.base:Even though the 'transmat_' attribute is set, it will be overwritten during initialization because 'init_params' contains 't'\n"
          ]
        },
        {
          "output_type": "stream",
          "name": "stdout",
          "text": [
            "Traitement de la colonne : Interbank Rate\n"
          ]
        },
        {
          "output_type": "stream",
          "name": "stderr",
          "text": [
            "WARNING:hmmlearn.base:Even though the 'transmat_' attribute is set, it will be overwritten during initialization because 'init_params' contains 't'\n"
          ]
        },
        {
          "output_type": "stream",
          "name": "stdout",
          "text": [
            "Traitement de la colonne : Central Bank Rate\n"
          ]
        },
        {
          "output_type": "stream",
          "name": "stderr",
          "text": [
            "WARNING:hmmlearn.base:Even though the 'transmat_' attribute is set, it will be overwritten during initialization because 'init_params' contains 't'\n"
          ]
        },
        {
          "output_type": "stream",
          "name": "stdout",
          "text": [
            "Traitement de la colonne : Deposit\n"
          ]
        },
        {
          "output_type": "stream",
          "name": "stderr",
          "text": [
            "WARNING:hmmlearn.base:Model is not converging.  Current: 105196.18004283661 is not greater than 105196.31504930592. Delta is -0.13500646931061056\n",
            "WARNING:hmmlearn.base:Even though the 'transmat_' attribute is set, it will be overwritten during initialization because 'init_params' contains 't'\n"
          ]
        },
        {
          "output_type": "stream",
          "name": "stdout",
          "text": [
            "Traitement de la colonne : Savings\n"
          ]
        },
        {
          "output_type": "stream",
          "name": "stderr",
          "text": [
            "WARNING:hmmlearn.base:Even though the 'transmat_' attribute is set, it will be overwritten during initialization because 'init_params' contains 't'\n"
          ]
        },
        {
          "output_type": "stream",
          "name": "stdout",
          "text": [
            "Traitement de la colonne : Lending \n"
          ]
        },
        {
          "output_type": "stream",
          "name": "stderr",
          "text": [
            "WARNING:hmmlearn.base:Model is not converging.  Current: 105489.26594560427 is not greater than 105489.67552145066. Delta is -0.4095758463809034\n",
            "WARNING:hmmlearn.base:Even though the 'transmat_' attribute is set, it will be overwritten during initialization because 'init_params' contains 't'\n"
          ]
        },
        {
          "output_type": "stream",
          "name": "stdout",
          "text": [
            "Traitement de la colonne : Overdraft \n"
          ]
        },
        {
          "output_type": "stream",
          "name": "stderr",
          "text": [
            "WARNING:hmmlearn.base:Model is not converging.  Current: 105369.74315988758 is not greater than 105369.75405592988. Delta is -0.010896042294916697\n",
            "WARNING:hmmlearn.base:Even though the 'transmat_' attribute is set, it will be overwritten during initialization because 'init_params' contains 't'\n"
          ]
        },
        {
          "output_type": "stream",
          "name": "stdout",
          "text": [
            "Traitement de la colonne : interest_rate_spread\n"
          ]
        },
        {
          "output_type": "stream",
          "name": "stderr",
          "text": [
            "WARNING:hmmlearn.base:Model is not converging.  Current: 103849.18861391056 is not greater than 103849.26006414267. Delta is -0.07145023210614454\n",
            "WARNING:hmmlearn.base:Even though the 'transmat_' attribute is set, it will be overwritten during initialization because 'init_params' contains 't'\n"
          ]
        },
        {
          "output_type": "stream",
          "name": "stdout",
          "text": [
            "Traitement de la colonne : loan_type_Type_1\n"
          ]
        },
        {
          "output_type": "stream",
          "name": "stderr",
          "text": [
            "WARNING:hmmlearn.base:Even though the 'transmat_' attribute is set, it will be overwritten during initialization because 'init_params' contains 't'\n"
          ]
        },
        {
          "output_type": "stream",
          "name": "stdout",
          "text": [
            "Traitement de la colonne : loan_type_Type_10\n"
          ]
        },
        {
          "output_type": "stream",
          "name": "stderr",
          "text": [
            "WARNING:hmmlearn.base:Even though the 'transmat_' attribute is set, it will be overwritten during initialization because 'init_params' contains 't'\n"
          ]
        },
        {
          "output_type": "stream",
          "name": "stdout",
          "text": [
            "Traitement de la colonne : loan_type_Type_11\n"
          ]
        },
        {
          "output_type": "stream",
          "name": "stderr",
          "text": [
            "WARNING:hmmlearn.base:Even though the 'transmat_' attribute is set, it will be overwritten during initialization because 'init_params' contains 't'\n"
          ]
        },
        {
          "output_type": "stream",
          "name": "stdout",
          "text": [
            "Traitement de la colonne : loan_type_Type_12\n",
            "Traitement de la colonne : loan_type_Type_13\n"
          ]
        },
        {
          "output_type": "stream",
          "name": "stderr",
          "text": [
            "WARNING:hmmlearn.base:Even though the 'transmat_' attribute is set, it will be overwritten during initialization because 'init_params' contains 't'\n",
            "WARNING:hmmlearn.base:Even though the 'transmat_' attribute is set, it will be overwritten during initialization because 'init_params' contains 't'\n"
          ]
        },
        {
          "output_type": "stream",
          "name": "stdout",
          "text": [
            "Traitement de la colonne : loan_type_Type_14\n"
          ]
        },
        {
          "output_type": "stream",
          "name": "stderr",
          "text": [
            "WARNING:hmmlearn.base:Even though the 'transmat_' attribute is set, it will be overwritten during initialization because 'init_params' contains 't'\n",
            "WARNING:hmmlearn.base:Even though the 'transmat_' attribute is set, it will be overwritten during initialization because 'init_params' contains 't'\n"
          ]
        },
        {
          "output_type": "stream",
          "name": "stdout",
          "text": [
            "Traitement de la colonne : loan_type_Type_15\n",
            "Traitement de la colonne : loan_type_Type_17\n"
          ]
        },
        {
          "output_type": "stream",
          "name": "stderr",
          "text": [
            "WARNING:hmmlearn.base:Even though the 'transmat_' attribute is set, it will be overwritten during initialization because 'init_params' contains 't'\n"
          ]
        },
        {
          "output_type": "stream",
          "name": "stdout",
          "text": [
            "Traitement de la colonne : loan_type_Type_18\n"
          ]
        },
        {
          "output_type": "stream",
          "name": "stderr",
          "text": [
            "WARNING:hmmlearn.base:Even though the 'transmat_' attribute is set, it will be overwritten during initialization because 'init_params' contains 't'\n"
          ]
        },
        {
          "output_type": "stream",
          "name": "stdout",
          "text": [
            "Traitement de la colonne : loan_type_Type_2\n"
          ]
        },
        {
          "output_type": "stream",
          "name": "stderr",
          "text": [
            "WARNING:hmmlearn.base:Even though the 'transmat_' attribute is set, it will be overwritten during initialization because 'init_params' contains 't'\n"
          ]
        },
        {
          "output_type": "stream",
          "name": "stdout",
          "text": [
            "Traitement de la colonne : loan_type_Type_20\n"
          ]
        },
        {
          "output_type": "stream",
          "name": "stderr",
          "text": [
            "WARNING:hmmlearn.base:Even though the 'transmat_' attribute is set, it will be overwritten during initialization because 'init_params' contains 't'\n"
          ]
        },
        {
          "output_type": "stream",
          "name": "stdout",
          "text": [
            "Traitement de la colonne : loan_type_Type_21\n"
          ]
        },
        {
          "output_type": "stream",
          "name": "stderr",
          "text": [
            "WARNING:hmmlearn.base:Even though the 'transmat_' attribute is set, it will be overwritten during initialization because 'init_params' contains 't'\n"
          ]
        },
        {
          "output_type": "stream",
          "name": "stdout",
          "text": [
            "Traitement de la colonne : loan_type_Type_22\n"
          ]
        },
        {
          "output_type": "stream",
          "name": "stderr",
          "text": [
            "WARNING:hmmlearn.base:Even though the 'transmat_' attribute is set, it will be overwritten during initialization because 'init_params' contains 't'\n"
          ]
        },
        {
          "output_type": "stream",
          "name": "stdout",
          "text": [
            "Traitement de la colonne : loan_type_Type_23\n"
          ]
        },
        {
          "output_type": "stream",
          "name": "stderr",
          "text": [
            "WARNING:hmmlearn.base:Even though the 'transmat_' attribute is set, it will be overwritten during initialization because 'init_params' contains 't'\n"
          ]
        },
        {
          "output_type": "stream",
          "name": "stdout",
          "text": [
            "Traitement de la colonne : loan_type_Type_24\n"
          ]
        },
        {
          "output_type": "stream",
          "name": "stderr",
          "text": [
            "WARNING:hmmlearn.base:Even though the 'transmat_' attribute is set, it will be overwritten during initialization because 'init_params' contains 't'\n"
          ]
        },
        {
          "output_type": "stream",
          "name": "stdout",
          "text": [
            "Traitement de la colonne : loan_type_Type_4\n"
          ]
        },
        {
          "output_type": "stream",
          "name": "stderr",
          "text": [
            "WARNING:hmmlearn.base:Even though the 'transmat_' attribute is set, it will be overwritten during initialization because 'init_params' contains 't'\n"
          ]
        },
        {
          "output_type": "stream",
          "name": "stdout",
          "text": [
            "Traitement de la colonne : loan_type_Type_5\n"
          ]
        },
        {
          "output_type": "stream",
          "name": "stderr",
          "text": [
            "WARNING:hmmlearn.base:Even though the 'transmat_' attribute is set, it will be overwritten during initialization because 'init_params' contains 't'\n"
          ]
        },
        {
          "output_type": "stream",
          "name": "stdout",
          "text": [
            "Traitement de la colonne : loan_type_Type_6\n"
          ]
        },
        {
          "output_type": "stream",
          "name": "stderr",
          "text": [
            "WARNING:hmmlearn.base:Even though the 'transmat_' attribute is set, it will be overwritten during initialization because 'init_params' contains 't'\n"
          ]
        },
        {
          "output_type": "stream",
          "name": "stdout",
          "text": [
            "Traitement de la colonne : loan_type_Type_7\n"
          ]
        },
        {
          "output_type": "stream",
          "name": "stderr",
          "text": [
            "WARNING:hmmlearn.base:Even though the 'transmat_' attribute is set, it will be overwritten during initialization because 'init_params' contains 't'\n"
          ]
        },
        {
          "output_type": "stream",
          "name": "stdout",
          "text": [
            "Traitement de la colonne : loan_type_Type_9\n"
          ]
        },
        {
          "output_type": "stream",
          "name": "stderr",
          "text": [
            "WARNING:hmmlearn.base:Even though the 'transmat_' attribute is set, it will be overwritten during initialization because 'init_params' contains 't'\n"
          ]
        },
        {
          "output_type": "stream",
          "name": "stdout",
          "text": [
            "Traitement de la colonne : New_versus_Repeat_New Loan\n"
          ]
        },
        {
          "output_type": "stream",
          "name": "stderr",
          "text": [
            "WARNING:hmmlearn.base:Even though the 'transmat_' attribute is set, it will be overwritten during initialization because 'init_params' contains 't'\n"
          ]
        },
        {
          "output_type": "stream",
          "name": "stdout",
          "text": [
            "Traitement de la colonne : New_versus_Repeat_Repeat Loan\n"
          ]
        },
        {
          "output_type": "stream",
          "name": "stderr",
          "text": [
            "WARNING:hmmlearn.base:Even though the 'transmat_' attribute is set, it will be overwritten during initialization because 'init_params' contains 't'\n"
          ]
        },
        {
          "output_type": "stream",
          "name": "stdout",
          "text": [
            "Traitement de la colonne : MONTH_JAN\n"
          ]
        },
        {
          "output_type": "stream",
          "name": "stderr",
          "text": [
            "WARNING:hmmlearn.base:Even though the 'transmat_' attribute is set, it will be overwritten during initialization because 'init_params' contains 't'\n"
          ]
        },
        {
          "output_type": "stream",
          "name": "stdout",
          "text": [
            "Traitement de la colonne : MONTH_JANUARY\n"
          ]
        },
        {
          "output_type": "stream",
          "name": "stderr",
          "text": [
            "WARNING:hmmlearn.base:Even though the 'transmat_' attribute is set, it will be overwritten during initialization because 'init_params' contains 't'\n"
          ]
        },
        {
          "output_type": "stream",
          "name": "stdout",
          "text": [
            "Traitement de la colonne : interest_rate_spread_poly_2\n"
          ]
        },
        {
          "output_type": "stream",
          "name": "stderr",
          "text": [
            "WARNING:hmmlearn.base:Model is not converging.  Current: 100601.25238520186 is not greater than 100606.98941082608. Delta is -5.737025624213857\n",
            "WARNING:hmmlearn.base:Even though the 'transmat_' attribute is set, it will be overwritten during initialization because 'init_params' contains 't'\n"
          ]
        },
        {
          "output_type": "stream",
          "name": "stdout",
          "text": [
            "Traitement de la colonne : Central Bank Rate Change\n"
          ]
        }
      ]
    },
    {
      "cell_type": "code",
      "source": [
        "test_merged.shape,X_merged.shape"
      ],
      "metadata": {
        "colab": {
          "base_uri": "https://localhost:8080/"
        },
        "id": "iLeqSqMKz2vc",
        "outputId": "9af587ae-8c70-494e-c9e8-7332462542fd"
      },
      "execution_count": null,
      "outputs": [
        {
          "output_type": "execute_result",
          "data": {
            "text/plain": [
              "((18594, 90), (68654, 89))"
            ]
          },
          "metadata": {},
          "execution_count": 218
        }
      ]
    },
    {
      "cell_type": "code",
      "source": [
        "test_merged.head()"
      ],
      "metadata": {
        "colab": {
          "base_uri": "https://localhost:8080/",
          "height": 273
        },
        "id": "fOFNvuFV75UB",
        "outputId": "972d3b79-1df0-4f59-8305-66d9d7c8ccd7"
      },
      "execution_count": null,
      "outputs": [
        {
          "output_type": "execute_result",
          "data": {
            "text/plain": [
              "                      ID  Total_Amount  Total_Amount_to_Repay  duration  \\\n",
              "0  ID_269404226088267278        1919.0                 1989.0         7   \n",
              "1  ID_255356300042267278        2138.0                 2153.0         7   \n",
              "2  ID_257026243764267278        8254.0                 8304.0         7   \n",
              "3  ID_264617299409267278        3379.0                 3379.0         7   \n",
              "4  ID_247613296713267278         120.0                  120.0         7   \n",
              "\n",
              "   Amount_Funded_By_Lender  Lender_portion_Funded  \\\n",
              "0                    575.7               0.300000   \n",
              "1                      0.0               0.000000   \n",
              "2                    207.0               0.025079   \n",
              "3                   1013.7               0.300000   \n",
              "4                     36.0               0.300000   \n",
              "\n",
              "   Lender_portion_to_be_repaid  month_int  day  Unemployment rate  ...  \\\n",
              "0                        597.0          7   27               6.81  ...   \n",
              "1                          0.0         11   16               6.81  ...   \n",
              "2                        208.0          8   24               6.81  ...   \n",
              "3                       1014.0         11   15               6.81  ...   \n",
              "4                         36.0         11   10               6.81  ...   \n",
              "\n",
              "   hidden_state_loan_type_Type_5  hidden_state_loan_type_Type_6  \\\n",
              "0                              2                              2   \n",
              "1                              2                              2   \n",
              "2                              2                              2   \n",
              "3                              2                              2   \n",
              "4                              2                              2   \n",
              "\n",
              "   hidden_state_loan_type_Type_7  hidden_state_loan_type_Type_9  \\\n",
              "0                              2                              2   \n",
              "1                              2                              2   \n",
              "2                              2                              2   \n",
              "3                              2                              2   \n",
              "4                              2                              2   \n",
              "\n",
              "   hidden_state_New_versus_Repeat_New Loan  \\\n",
              "0                                        2   \n",
              "1                                        2   \n",
              "2                                        2   \n",
              "3                                        2   \n",
              "4                                        2   \n",
              "\n",
              "   hidden_state_New_versus_Repeat_Repeat Loan  hidden_state_MONTH_JAN  \\\n",
              "0                                           2                       2   \n",
              "1                                           2                       2   \n",
              "2                                           2                       2   \n",
              "3                                           2                       2   \n",
              "4                                           2                       2   \n",
              "\n",
              "   hidden_state_MONTH_JANUARY  hidden_state_interest_rate_spread_poly_2  \\\n",
              "0                           2                                         1   \n",
              "1                           2                                         1   \n",
              "2                           2                                         1   \n",
              "3                           2                                         1   \n",
              "4                           2                                         1   \n",
              "\n",
              "   hidden_state_Central Bank Rate Change  \n",
              "0                                      1  \n",
              "1                                      0  \n",
              "2                                      1  \n",
              "3                                      0  \n",
              "4                                      1  \n",
              "\n",
              "[5 rows x 90 columns]"
            ],
            "text/html": [
              "\n",
              "  <div id=\"df-1a68fd33-9dcd-4b67-be1b-dfd64578c6ad\" class=\"colab-df-container\">\n",
              "    <div>\n",
              "<style scoped>\n",
              "    .dataframe tbody tr th:only-of-type {\n",
              "        vertical-align: middle;\n",
              "    }\n",
              "\n",
              "    .dataframe tbody tr th {\n",
              "        vertical-align: top;\n",
              "    }\n",
              "\n",
              "    .dataframe thead th {\n",
              "        text-align: right;\n",
              "    }\n",
              "</style>\n",
              "<table border=\"1\" class=\"dataframe\">\n",
              "  <thead>\n",
              "    <tr style=\"text-align: right;\">\n",
              "      <th></th>\n",
              "      <th>ID</th>\n",
              "      <th>Total_Amount</th>\n",
              "      <th>Total_Amount_to_Repay</th>\n",
              "      <th>duration</th>\n",
              "      <th>Amount_Funded_By_Lender</th>\n",
              "      <th>Lender_portion_Funded</th>\n",
              "      <th>Lender_portion_to_be_repaid</th>\n",
              "      <th>month_int</th>\n",
              "      <th>day</th>\n",
              "      <th>Unemployment rate</th>\n",
              "      <th>...</th>\n",
              "      <th>hidden_state_loan_type_Type_5</th>\n",
              "      <th>hidden_state_loan_type_Type_6</th>\n",
              "      <th>hidden_state_loan_type_Type_7</th>\n",
              "      <th>hidden_state_loan_type_Type_9</th>\n",
              "      <th>hidden_state_New_versus_Repeat_New Loan</th>\n",
              "      <th>hidden_state_New_versus_Repeat_Repeat Loan</th>\n",
              "      <th>hidden_state_MONTH_JAN</th>\n",
              "      <th>hidden_state_MONTH_JANUARY</th>\n",
              "      <th>hidden_state_interest_rate_spread_poly_2</th>\n",
              "      <th>hidden_state_Central Bank Rate Change</th>\n",
              "    </tr>\n",
              "  </thead>\n",
              "  <tbody>\n",
              "    <tr>\n",
              "      <th>0</th>\n",
              "      <td>ID_269404226088267278</td>\n",
              "      <td>1919.0</td>\n",
              "      <td>1989.0</td>\n",
              "      <td>7</td>\n",
              "      <td>575.7</td>\n",
              "      <td>0.300000</td>\n",
              "      <td>597.0</td>\n",
              "      <td>7</td>\n",
              "      <td>27</td>\n",
              "      <td>6.81</td>\n",
              "      <td>...</td>\n",
              "      <td>2</td>\n",
              "      <td>2</td>\n",
              "      <td>2</td>\n",
              "      <td>2</td>\n",
              "      <td>2</td>\n",
              "      <td>2</td>\n",
              "      <td>2</td>\n",
              "      <td>2</td>\n",
              "      <td>1</td>\n",
              "      <td>1</td>\n",
              "    </tr>\n",
              "    <tr>\n",
              "      <th>1</th>\n",
              "      <td>ID_255356300042267278</td>\n",
              "      <td>2138.0</td>\n",
              "      <td>2153.0</td>\n",
              "      <td>7</td>\n",
              "      <td>0.0</td>\n",
              "      <td>0.000000</td>\n",
              "      <td>0.0</td>\n",
              "      <td>11</td>\n",
              "      <td>16</td>\n",
              "      <td>6.81</td>\n",
              "      <td>...</td>\n",
              "      <td>2</td>\n",
              "      <td>2</td>\n",
              "      <td>2</td>\n",
              "      <td>2</td>\n",
              "      <td>2</td>\n",
              "      <td>2</td>\n",
              "      <td>2</td>\n",
              "      <td>2</td>\n",
              "      <td>1</td>\n",
              "      <td>0</td>\n",
              "    </tr>\n",
              "    <tr>\n",
              "      <th>2</th>\n",
              "      <td>ID_257026243764267278</td>\n",
              "      <td>8254.0</td>\n",
              "      <td>8304.0</td>\n",
              "      <td>7</td>\n",
              "      <td>207.0</td>\n",
              "      <td>0.025079</td>\n",
              "      <td>208.0</td>\n",
              "      <td>8</td>\n",
              "      <td>24</td>\n",
              "      <td>6.81</td>\n",
              "      <td>...</td>\n",
              "      <td>2</td>\n",
              "      <td>2</td>\n",
              "      <td>2</td>\n",
              "      <td>2</td>\n",
              "      <td>2</td>\n",
              "      <td>2</td>\n",
              "      <td>2</td>\n",
              "      <td>2</td>\n",
              "      <td>1</td>\n",
              "      <td>1</td>\n",
              "    </tr>\n",
              "    <tr>\n",
              "      <th>3</th>\n",
              "      <td>ID_264617299409267278</td>\n",
              "      <td>3379.0</td>\n",
              "      <td>3379.0</td>\n",
              "      <td>7</td>\n",
              "      <td>1013.7</td>\n",
              "      <td>0.300000</td>\n",
              "      <td>1014.0</td>\n",
              "      <td>11</td>\n",
              "      <td>15</td>\n",
              "      <td>6.81</td>\n",
              "      <td>...</td>\n",
              "      <td>2</td>\n",
              "      <td>2</td>\n",
              "      <td>2</td>\n",
              "      <td>2</td>\n",
              "      <td>2</td>\n",
              "      <td>2</td>\n",
              "      <td>2</td>\n",
              "      <td>2</td>\n",
              "      <td>1</td>\n",
              "      <td>0</td>\n",
              "    </tr>\n",
              "    <tr>\n",
              "      <th>4</th>\n",
              "      <td>ID_247613296713267278</td>\n",
              "      <td>120.0</td>\n",
              "      <td>120.0</td>\n",
              "      <td>7</td>\n",
              "      <td>36.0</td>\n",
              "      <td>0.300000</td>\n",
              "      <td>36.0</td>\n",
              "      <td>11</td>\n",
              "      <td>10</td>\n",
              "      <td>6.81</td>\n",
              "      <td>...</td>\n",
              "      <td>2</td>\n",
              "      <td>2</td>\n",
              "      <td>2</td>\n",
              "      <td>2</td>\n",
              "      <td>2</td>\n",
              "      <td>2</td>\n",
              "      <td>2</td>\n",
              "      <td>2</td>\n",
              "      <td>1</td>\n",
              "      <td>1</td>\n",
              "    </tr>\n",
              "  </tbody>\n",
              "</table>\n",
              "<p>5 rows × 90 columns</p>\n",
              "</div>\n",
              "    <div class=\"colab-df-buttons\">\n",
              "\n",
              "  <div class=\"colab-df-container\">\n",
              "    <button class=\"colab-df-convert\" onclick=\"convertToInteractive('df-1a68fd33-9dcd-4b67-be1b-dfd64578c6ad')\"\n",
              "            title=\"Convert this dataframe to an interactive table.\"\n",
              "            style=\"display:none;\">\n",
              "\n",
              "  <svg xmlns=\"http://www.w3.org/2000/svg\" height=\"24px\" viewBox=\"0 -960 960 960\">\n",
              "    <path d=\"M120-120v-720h720v720H120Zm60-500h600v-160H180v160Zm220 220h160v-160H400v160Zm0 220h160v-160H400v160ZM180-400h160v-160H180v160Zm440 0h160v-160H620v160ZM180-180h160v-160H180v160Zm440 0h160v-160H620v160Z\"/>\n",
              "  </svg>\n",
              "    </button>\n",
              "\n",
              "  <style>\n",
              "    .colab-df-container {\n",
              "      display:flex;\n",
              "      gap: 12px;\n",
              "    }\n",
              "\n",
              "    .colab-df-convert {\n",
              "      background-color: #E8F0FE;\n",
              "      border: none;\n",
              "      border-radius: 50%;\n",
              "      cursor: pointer;\n",
              "      display: none;\n",
              "      fill: #1967D2;\n",
              "      height: 32px;\n",
              "      padding: 0 0 0 0;\n",
              "      width: 32px;\n",
              "    }\n",
              "\n",
              "    .colab-df-convert:hover {\n",
              "      background-color: #E2EBFA;\n",
              "      box-shadow: 0px 1px 2px rgba(60, 64, 67, 0.3), 0px 1px 3px 1px rgba(60, 64, 67, 0.15);\n",
              "      fill: #174EA6;\n",
              "    }\n",
              "\n",
              "    .colab-df-buttons div {\n",
              "      margin-bottom: 4px;\n",
              "    }\n",
              "\n",
              "    [theme=dark] .colab-df-convert {\n",
              "      background-color: #3B4455;\n",
              "      fill: #D2E3FC;\n",
              "    }\n",
              "\n",
              "    [theme=dark] .colab-df-convert:hover {\n",
              "      background-color: #434B5C;\n",
              "      box-shadow: 0px 1px 3px 1px rgba(0, 0, 0, 0.15);\n",
              "      filter: drop-shadow(0px 1px 2px rgba(0, 0, 0, 0.3));\n",
              "      fill: #FFFFFF;\n",
              "    }\n",
              "  </style>\n",
              "\n",
              "    <script>\n",
              "      const buttonEl =\n",
              "        document.querySelector('#df-1a68fd33-9dcd-4b67-be1b-dfd64578c6ad button.colab-df-convert');\n",
              "      buttonEl.style.display =\n",
              "        google.colab.kernel.accessAllowed ? 'block' : 'none';\n",
              "\n",
              "      async function convertToInteractive(key) {\n",
              "        const element = document.querySelector('#df-1a68fd33-9dcd-4b67-be1b-dfd64578c6ad');\n",
              "        const dataTable =\n",
              "          await google.colab.kernel.invokeFunction('convertToInteractive',\n",
              "                                                    [key], {});\n",
              "        if (!dataTable) return;\n",
              "\n",
              "        const docLinkHtml = 'Like what you see? Visit the ' +\n",
              "          '<a target=\"_blank\" href=https://colab.research.google.com/notebooks/data_table.ipynb>data table notebook</a>'\n",
              "          + ' to learn more about interactive tables.';\n",
              "        element.innerHTML = '';\n",
              "        dataTable['output_type'] = 'display_data';\n",
              "        await google.colab.output.renderOutput(dataTable, element);\n",
              "        const docLink = document.createElement('div');\n",
              "        docLink.innerHTML = docLinkHtml;\n",
              "        element.appendChild(docLink);\n",
              "      }\n",
              "    </script>\n",
              "  </div>\n",
              "\n",
              "\n",
              "<div id=\"df-623f91b5-608c-4dca-b4b5-bd20c5082511\">\n",
              "  <button class=\"colab-df-quickchart\" onclick=\"quickchart('df-623f91b5-608c-4dca-b4b5-bd20c5082511')\"\n",
              "            title=\"Suggest charts\"\n",
              "            style=\"display:none;\">\n",
              "\n",
              "<svg xmlns=\"http://www.w3.org/2000/svg\" height=\"24px\"viewBox=\"0 0 24 24\"\n",
              "     width=\"24px\">\n",
              "    <g>\n",
              "        <path d=\"M19 3H5c-1.1 0-2 .9-2 2v14c0 1.1.9 2 2 2h14c1.1 0 2-.9 2-2V5c0-1.1-.9-2-2-2zM9 17H7v-7h2v7zm4 0h-2V7h2v10zm4 0h-2v-4h2v4z\"/>\n",
              "    </g>\n",
              "</svg>\n",
              "  </button>\n",
              "\n",
              "<style>\n",
              "  .colab-df-quickchart {\n",
              "      --bg-color: #E8F0FE;\n",
              "      --fill-color: #1967D2;\n",
              "      --hover-bg-color: #E2EBFA;\n",
              "      --hover-fill-color: #174EA6;\n",
              "      --disabled-fill-color: #AAA;\n",
              "      --disabled-bg-color: #DDD;\n",
              "  }\n",
              "\n",
              "  [theme=dark] .colab-df-quickchart {\n",
              "      --bg-color: #3B4455;\n",
              "      --fill-color: #D2E3FC;\n",
              "      --hover-bg-color: #434B5C;\n",
              "      --hover-fill-color: #FFFFFF;\n",
              "      --disabled-bg-color: #3B4455;\n",
              "      --disabled-fill-color: #666;\n",
              "  }\n",
              "\n",
              "  .colab-df-quickchart {\n",
              "    background-color: var(--bg-color);\n",
              "    border: none;\n",
              "    border-radius: 50%;\n",
              "    cursor: pointer;\n",
              "    display: none;\n",
              "    fill: var(--fill-color);\n",
              "    height: 32px;\n",
              "    padding: 0;\n",
              "    width: 32px;\n",
              "  }\n",
              "\n",
              "  .colab-df-quickchart:hover {\n",
              "    background-color: var(--hover-bg-color);\n",
              "    box-shadow: 0 1px 2px rgba(60, 64, 67, 0.3), 0 1px 3px 1px rgba(60, 64, 67, 0.15);\n",
              "    fill: var(--button-hover-fill-color);\n",
              "  }\n",
              "\n",
              "  .colab-df-quickchart-complete:disabled,\n",
              "  .colab-df-quickchart-complete:disabled:hover {\n",
              "    background-color: var(--disabled-bg-color);\n",
              "    fill: var(--disabled-fill-color);\n",
              "    box-shadow: none;\n",
              "  }\n",
              "\n",
              "  .colab-df-spinner {\n",
              "    border: 2px solid var(--fill-color);\n",
              "    border-color: transparent;\n",
              "    border-bottom-color: var(--fill-color);\n",
              "    animation:\n",
              "      spin 1s steps(1) infinite;\n",
              "  }\n",
              "\n",
              "  @keyframes spin {\n",
              "    0% {\n",
              "      border-color: transparent;\n",
              "      border-bottom-color: var(--fill-color);\n",
              "      border-left-color: var(--fill-color);\n",
              "    }\n",
              "    20% {\n",
              "      border-color: transparent;\n",
              "      border-left-color: var(--fill-color);\n",
              "      border-top-color: var(--fill-color);\n",
              "    }\n",
              "    30% {\n",
              "      border-color: transparent;\n",
              "      border-left-color: var(--fill-color);\n",
              "      border-top-color: var(--fill-color);\n",
              "      border-right-color: var(--fill-color);\n",
              "    }\n",
              "    40% {\n",
              "      border-color: transparent;\n",
              "      border-right-color: var(--fill-color);\n",
              "      border-top-color: var(--fill-color);\n",
              "    }\n",
              "    60% {\n",
              "      border-color: transparent;\n",
              "      border-right-color: var(--fill-color);\n",
              "    }\n",
              "    80% {\n",
              "      border-color: transparent;\n",
              "      border-right-color: var(--fill-color);\n",
              "      border-bottom-color: var(--fill-color);\n",
              "    }\n",
              "    90% {\n",
              "      border-color: transparent;\n",
              "      border-bottom-color: var(--fill-color);\n",
              "    }\n",
              "  }\n",
              "</style>\n",
              "\n",
              "  <script>\n",
              "    async function quickchart(key) {\n",
              "      const quickchartButtonEl =\n",
              "        document.querySelector('#' + key + ' button');\n",
              "      quickchartButtonEl.disabled = true;  // To prevent multiple clicks.\n",
              "      quickchartButtonEl.classList.add('colab-df-spinner');\n",
              "      try {\n",
              "        const charts = await google.colab.kernel.invokeFunction(\n",
              "            'suggestCharts', [key], {});\n",
              "      } catch (error) {\n",
              "        console.error('Error during call to suggestCharts:', error);\n",
              "      }\n",
              "      quickchartButtonEl.classList.remove('colab-df-spinner');\n",
              "      quickchartButtonEl.classList.add('colab-df-quickchart-complete');\n",
              "    }\n",
              "    (() => {\n",
              "      let quickchartButtonEl =\n",
              "        document.querySelector('#df-623f91b5-608c-4dca-b4b5-bd20c5082511 button');\n",
              "      quickchartButtonEl.style.display =\n",
              "        google.colab.kernel.accessAllowed ? 'block' : 'none';\n",
              "    })();\n",
              "  </script>\n",
              "</div>\n",
              "\n",
              "    </div>\n",
              "  </div>\n"
            ],
            "application/vnd.google.colaboratory.intrinsic+json": {
              "type": "dataframe",
              "variable_name": "test_merged"
            }
          },
          "metadata": {},
          "execution_count": 219
        }
      ]
    },
    {
      "cell_type": "code",
      "source": [
        "\n",
        "# you will use the list of model to make a prediction and average it for a better prediction\n",
        "predictions = []\n",
        "for model in models:\n",
        "    predictions.append(model.predict_proba(test_merged.drop(columns=['ID']))[:, 1])  # use all models to do the prediction\n",
        "\n",
        "# averaging the prediction of all model\n",
        "average_predictions = mean(predictions, axis=0)\n",
        "\n",
        "# Create a DataFrame for submission\n",
        "sub = pd.DataFrame({'ID': test_merged[\"ID\"], 'target': average_predictions})\n",
        "\n",
        "# Binarize the predictions based on a threshold\n",
        "# If you want you can play with the value of the threshold\n",
        "threshold = 0.52\n",
        "# best 0.52\n",
        "sub['target'] = (sub['target'] >= threshold).astype(int)"
      ],
      "metadata": {
        "id": "yXeLAD2X29QK"
      },
      "execution_count": null,
      "outputs": []
    },
    {
      "cell_type": "code",
      "source": [
        "sub.target.value_counts()"
      ],
      "metadata": {
        "colab": {
          "base_uri": "https://localhost:8080/",
          "height": 178
        },
        "id": "hSj_8MAR3USM",
        "outputId": "1f924c91-d809-41ca-bd8c-d390fa68aaa4"
      },
      "execution_count": null,
      "outputs": [
        {
          "output_type": "execute_result",
          "data": {
            "text/plain": [
              "target\n",
              "0    17865\n",
              "1      729\n",
              "Name: count, dtype: int64"
            ],
            "text/html": [
              "<div>\n",
              "<style scoped>\n",
              "    .dataframe tbody tr th:only-of-type {\n",
              "        vertical-align: middle;\n",
              "    }\n",
              "\n",
              "    .dataframe tbody tr th {\n",
              "        vertical-align: top;\n",
              "    }\n",
              "\n",
              "    .dataframe thead th {\n",
              "        text-align: right;\n",
              "    }\n",
              "</style>\n",
              "<table border=\"1\" class=\"dataframe\">\n",
              "  <thead>\n",
              "    <tr style=\"text-align: right;\">\n",
              "      <th></th>\n",
              "      <th>count</th>\n",
              "    </tr>\n",
              "    <tr>\n",
              "      <th>target</th>\n",
              "      <th></th>\n",
              "    </tr>\n",
              "  </thead>\n",
              "  <tbody>\n",
              "    <tr>\n",
              "      <th>0</th>\n",
              "      <td>17865</td>\n",
              "    </tr>\n",
              "    <tr>\n",
              "      <th>1</th>\n",
              "      <td>729</td>\n",
              "    </tr>\n",
              "  </tbody>\n",
              "</table>\n",
              "</div><br><label><b>dtype:</b> int64</label>"
            ]
          },
          "metadata": {},
          "execution_count": 221
        }
      ]
    },
    {
      "cell_type": "code",
      "source": [
        "#target\n",
        "#0\t17729\n",
        "#1\t865"
      ],
      "metadata": {
        "id": "kgcmQXIUBwqc"
      },
      "execution_count": null,
      "outputs": []
    },
    {
      "cell_type": "code",
      "source": [
        "# save your submission\n",
        "sub.to_csv('./Submissions/submission_xg_opt_with_sub_data_correction.csv', index=False)"
      ],
      "metadata": {
        "id": "5oYpcpVey2Qm"
      },
      "execution_count": null,
      "outputs": []
    },
    {
      "cell_type": "code",
      "source": [
        "sub.head()"
      ],
      "metadata": {
        "id": "IdJJv4try1zp",
        "colab": {
          "base_uri": "https://localhost:8080/",
          "height": 206
        },
        "outputId": "8f88a01d-21c0-4968-9dee-571b3883cb87"
      },
      "execution_count": null,
      "outputs": [
        {
          "output_type": "execute_result",
          "data": {
            "text/plain": [
              "                      ID  target\n",
              "0  ID_269404226088267278       0\n",
              "1  ID_255356300042267278       0\n",
              "2  ID_257026243764267278       0\n",
              "3  ID_264617299409267278       0\n",
              "4  ID_247613296713267278       0"
            ],
            "text/html": [
              "\n",
              "  <div id=\"df-55b086e8-9c91-4844-b9c8-ce15ba22ccd2\" class=\"colab-df-container\">\n",
              "    <div>\n",
              "<style scoped>\n",
              "    .dataframe tbody tr th:only-of-type {\n",
              "        vertical-align: middle;\n",
              "    }\n",
              "\n",
              "    .dataframe tbody tr th {\n",
              "        vertical-align: top;\n",
              "    }\n",
              "\n",
              "    .dataframe thead th {\n",
              "        text-align: right;\n",
              "    }\n",
              "</style>\n",
              "<table border=\"1\" class=\"dataframe\">\n",
              "  <thead>\n",
              "    <tr style=\"text-align: right;\">\n",
              "      <th></th>\n",
              "      <th>ID</th>\n",
              "      <th>target</th>\n",
              "    </tr>\n",
              "  </thead>\n",
              "  <tbody>\n",
              "    <tr>\n",
              "      <th>0</th>\n",
              "      <td>ID_269404226088267278</td>\n",
              "      <td>0</td>\n",
              "    </tr>\n",
              "    <tr>\n",
              "      <th>1</th>\n",
              "      <td>ID_255356300042267278</td>\n",
              "      <td>0</td>\n",
              "    </tr>\n",
              "    <tr>\n",
              "      <th>2</th>\n",
              "      <td>ID_257026243764267278</td>\n",
              "      <td>0</td>\n",
              "    </tr>\n",
              "    <tr>\n",
              "      <th>3</th>\n",
              "      <td>ID_264617299409267278</td>\n",
              "      <td>0</td>\n",
              "    </tr>\n",
              "    <tr>\n",
              "      <th>4</th>\n",
              "      <td>ID_247613296713267278</td>\n",
              "      <td>0</td>\n",
              "    </tr>\n",
              "  </tbody>\n",
              "</table>\n",
              "</div>\n",
              "    <div class=\"colab-df-buttons\">\n",
              "\n",
              "  <div class=\"colab-df-container\">\n",
              "    <button class=\"colab-df-convert\" onclick=\"convertToInteractive('df-55b086e8-9c91-4844-b9c8-ce15ba22ccd2')\"\n",
              "            title=\"Convert this dataframe to an interactive table.\"\n",
              "            style=\"display:none;\">\n",
              "\n",
              "  <svg xmlns=\"http://www.w3.org/2000/svg\" height=\"24px\" viewBox=\"0 -960 960 960\">\n",
              "    <path d=\"M120-120v-720h720v720H120Zm60-500h600v-160H180v160Zm220 220h160v-160H400v160Zm0 220h160v-160H400v160ZM180-400h160v-160H180v160Zm440 0h160v-160H620v160ZM180-180h160v-160H180v160Zm440 0h160v-160H620v160Z\"/>\n",
              "  </svg>\n",
              "    </button>\n",
              "\n",
              "  <style>\n",
              "    .colab-df-container {\n",
              "      display:flex;\n",
              "      gap: 12px;\n",
              "    }\n",
              "\n",
              "    .colab-df-convert {\n",
              "      background-color: #E8F0FE;\n",
              "      border: none;\n",
              "      border-radius: 50%;\n",
              "      cursor: pointer;\n",
              "      display: none;\n",
              "      fill: #1967D2;\n",
              "      height: 32px;\n",
              "      padding: 0 0 0 0;\n",
              "      width: 32px;\n",
              "    }\n",
              "\n",
              "    .colab-df-convert:hover {\n",
              "      background-color: #E2EBFA;\n",
              "      box-shadow: 0px 1px 2px rgba(60, 64, 67, 0.3), 0px 1px 3px 1px rgba(60, 64, 67, 0.15);\n",
              "      fill: #174EA6;\n",
              "    }\n",
              "\n",
              "    .colab-df-buttons div {\n",
              "      margin-bottom: 4px;\n",
              "    }\n",
              "\n",
              "    [theme=dark] .colab-df-convert {\n",
              "      background-color: #3B4455;\n",
              "      fill: #D2E3FC;\n",
              "    }\n",
              "\n",
              "    [theme=dark] .colab-df-convert:hover {\n",
              "      background-color: #434B5C;\n",
              "      box-shadow: 0px 1px 3px 1px rgba(0, 0, 0, 0.15);\n",
              "      filter: drop-shadow(0px 1px 2px rgba(0, 0, 0, 0.3));\n",
              "      fill: #FFFFFF;\n",
              "    }\n",
              "  </style>\n",
              "\n",
              "    <script>\n",
              "      const buttonEl =\n",
              "        document.querySelector('#df-55b086e8-9c91-4844-b9c8-ce15ba22ccd2 button.colab-df-convert');\n",
              "      buttonEl.style.display =\n",
              "        google.colab.kernel.accessAllowed ? 'block' : 'none';\n",
              "\n",
              "      async function convertToInteractive(key) {\n",
              "        const element = document.querySelector('#df-55b086e8-9c91-4844-b9c8-ce15ba22ccd2');\n",
              "        const dataTable =\n",
              "          await google.colab.kernel.invokeFunction('convertToInteractive',\n",
              "                                                    [key], {});\n",
              "        if (!dataTable) return;\n",
              "\n",
              "        const docLinkHtml = 'Like what you see? Visit the ' +\n",
              "          '<a target=\"_blank\" href=https://colab.research.google.com/notebooks/data_table.ipynb>data table notebook</a>'\n",
              "          + ' to learn more about interactive tables.';\n",
              "        element.innerHTML = '';\n",
              "        dataTable['output_type'] = 'display_data';\n",
              "        await google.colab.output.renderOutput(dataTable, element);\n",
              "        const docLink = document.createElement('div');\n",
              "        docLink.innerHTML = docLinkHtml;\n",
              "        element.appendChild(docLink);\n",
              "      }\n",
              "    </script>\n",
              "  </div>\n",
              "\n",
              "\n",
              "<div id=\"df-2cbb7a10-dc3d-4a6a-910c-73b10d40a0e8\">\n",
              "  <button class=\"colab-df-quickchart\" onclick=\"quickchart('df-2cbb7a10-dc3d-4a6a-910c-73b10d40a0e8')\"\n",
              "            title=\"Suggest charts\"\n",
              "            style=\"display:none;\">\n",
              "\n",
              "<svg xmlns=\"http://www.w3.org/2000/svg\" height=\"24px\"viewBox=\"0 0 24 24\"\n",
              "     width=\"24px\">\n",
              "    <g>\n",
              "        <path d=\"M19 3H5c-1.1 0-2 .9-2 2v14c0 1.1.9 2 2 2h14c1.1 0 2-.9 2-2V5c0-1.1-.9-2-2-2zM9 17H7v-7h2v7zm4 0h-2V7h2v10zm4 0h-2v-4h2v4z\"/>\n",
              "    </g>\n",
              "</svg>\n",
              "  </button>\n",
              "\n",
              "<style>\n",
              "  .colab-df-quickchart {\n",
              "      --bg-color: #E8F0FE;\n",
              "      --fill-color: #1967D2;\n",
              "      --hover-bg-color: #E2EBFA;\n",
              "      --hover-fill-color: #174EA6;\n",
              "      --disabled-fill-color: #AAA;\n",
              "      --disabled-bg-color: #DDD;\n",
              "  }\n",
              "\n",
              "  [theme=dark] .colab-df-quickchart {\n",
              "      --bg-color: #3B4455;\n",
              "      --fill-color: #D2E3FC;\n",
              "      --hover-bg-color: #434B5C;\n",
              "      --hover-fill-color: #FFFFFF;\n",
              "      --disabled-bg-color: #3B4455;\n",
              "      --disabled-fill-color: #666;\n",
              "  }\n",
              "\n",
              "  .colab-df-quickchart {\n",
              "    background-color: var(--bg-color);\n",
              "    border: none;\n",
              "    border-radius: 50%;\n",
              "    cursor: pointer;\n",
              "    display: none;\n",
              "    fill: var(--fill-color);\n",
              "    height: 32px;\n",
              "    padding: 0;\n",
              "    width: 32px;\n",
              "  }\n",
              "\n",
              "  .colab-df-quickchart:hover {\n",
              "    background-color: var(--hover-bg-color);\n",
              "    box-shadow: 0 1px 2px rgba(60, 64, 67, 0.3), 0 1px 3px 1px rgba(60, 64, 67, 0.15);\n",
              "    fill: var(--button-hover-fill-color);\n",
              "  }\n",
              "\n",
              "  .colab-df-quickchart-complete:disabled,\n",
              "  .colab-df-quickchart-complete:disabled:hover {\n",
              "    background-color: var(--disabled-bg-color);\n",
              "    fill: var(--disabled-fill-color);\n",
              "    box-shadow: none;\n",
              "  }\n",
              "\n",
              "  .colab-df-spinner {\n",
              "    border: 2px solid var(--fill-color);\n",
              "    border-color: transparent;\n",
              "    border-bottom-color: var(--fill-color);\n",
              "    animation:\n",
              "      spin 1s steps(1) infinite;\n",
              "  }\n",
              "\n",
              "  @keyframes spin {\n",
              "    0% {\n",
              "      border-color: transparent;\n",
              "      border-bottom-color: var(--fill-color);\n",
              "      border-left-color: var(--fill-color);\n",
              "    }\n",
              "    20% {\n",
              "      border-color: transparent;\n",
              "      border-left-color: var(--fill-color);\n",
              "      border-top-color: var(--fill-color);\n",
              "    }\n",
              "    30% {\n",
              "      border-color: transparent;\n",
              "      border-left-color: var(--fill-color);\n",
              "      border-top-color: var(--fill-color);\n",
              "      border-right-color: var(--fill-color);\n",
              "    }\n",
              "    40% {\n",
              "      border-color: transparent;\n",
              "      border-right-color: var(--fill-color);\n",
              "      border-top-color: var(--fill-color);\n",
              "    }\n",
              "    60% {\n",
              "      border-color: transparent;\n",
              "      border-right-color: var(--fill-color);\n",
              "    }\n",
              "    80% {\n",
              "      border-color: transparent;\n",
              "      border-right-color: var(--fill-color);\n",
              "      border-bottom-color: var(--fill-color);\n",
              "    }\n",
              "    90% {\n",
              "      border-color: transparent;\n",
              "      border-bottom-color: var(--fill-color);\n",
              "    }\n",
              "  }\n",
              "</style>\n",
              "\n",
              "  <script>\n",
              "    async function quickchart(key) {\n",
              "      const quickchartButtonEl =\n",
              "        document.querySelector('#' + key + ' button');\n",
              "      quickchartButtonEl.disabled = true;  // To prevent multiple clicks.\n",
              "      quickchartButtonEl.classList.add('colab-df-spinner');\n",
              "      try {\n",
              "        const charts = await google.colab.kernel.invokeFunction(\n",
              "            'suggestCharts', [key], {});\n",
              "      } catch (error) {\n",
              "        console.error('Error during call to suggestCharts:', error);\n",
              "      }\n",
              "      quickchartButtonEl.classList.remove('colab-df-spinner');\n",
              "      quickchartButtonEl.classList.add('colab-df-quickchart-complete');\n",
              "    }\n",
              "    (() => {\n",
              "      let quickchartButtonEl =\n",
              "        document.querySelector('#df-2cbb7a10-dc3d-4a6a-910c-73b10d40a0e8 button');\n",
              "      quickchartButtonEl.style.display =\n",
              "        google.colab.kernel.accessAllowed ? 'block' : 'none';\n",
              "    })();\n",
              "  </script>\n",
              "</div>\n",
              "\n",
              "    </div>\n",
              "  </div>\n"
            ],
            "application/vnd.google.colaboratory.intrinsic+json": {
              "type": "dataframe",
              "variable_name": "sub",
              "summary": "{\n  \"name\": \"sub\",\n  \"rows\": 18594,\n  \"fields\": [\n    {\n      \"column\": \"ID\",\n      \"properties\": {\n        \"dtype\": \"string\",\n        \"num_unique_values\": 18594,\n        \"samples\": [\n          \"ID_308368372955251804\",\n          \"ID_254227232713267278\",\n          \"ID_296735364076296542\"\n        ],\n        \"semantic_type\": \"\",\n        \"description\": \"\"\n      }\n    },\n    {\n      \"column\": \"target\",\n      \"properties\": {\n        \"dtype\": \"number\",\n        \"std\": 0,\n        \"min\": 0,\n        \"max\": 1,\n        \"num_unique_values\": 2,\n        \"samples\": [\n          1,\n          0\n        ],\n        \"semantic_type\": \"\",\n        \"description\": \"\"\n      }\n    }\n  ]\n}"
            }
          },
          "metadata": {},
          "execution_count": 203
        }
      ]
    },
    {
      "cell_type": "code",
      "source": [],
      "metadata": {
        "id": "SUgXSWRHBo1U"
      },
      "execution_count": null,
      "outputs": []
    }
  ],
  "metadata": {
    "colab": {
      "provenance": [],
      "include_colab_link": true
    },
    "kernelspec": {
      "display_name": ".venv",
      "language": "python",
      "name": "python3"
    },
    "language_info": {
      "codemirror_mode": {
        "name": "ipython",
        "version": 3
      },
      "file_extension": ".py",
      "mimetype": "text/x-python",
      "name": "python",
      "nbconvert_exporter": "python",
      "pygments_lexer": "ipython3",
      "version": "3.11.5"
    }
  },
  "nbformat": 4,
  "nbformat_minor": 0
}